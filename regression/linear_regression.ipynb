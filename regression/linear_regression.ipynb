{
 "cells": [
  {
   "cell_type": "markdown",
   "id": "3cb89b79-7240-41d0-812d-836a8981300c",
   "metadata": {},
   "source": [
    "<script type=\"text/javascript\" async src=\"https://cdnjs.cloudflare.com/ajax/libs/mathjax/2.7.7/MathJax.js?config=TeX-MML-AM_CHTML\">\n",
    "</script>\n",
    "<script type=\"text/x-mathjax-config\">\n",
    " MathJax.Hub.Config({\n",
    " tex2jax: {\n",
    " inlineMath: [['$', '$'] ],\n",
    " displayMath: [ ['$$','$$'], [\"\\\\[\",\"\\\\]\"] ]\n",
    " }\n",
    " });\n",
    "</script>\n",
    "\n",
    "# 線形回帰\n",
    "\n",
    "## 線形回帰の式\n",
    "\n",
    "$$ \\hat{y} = W_0 + W_1^TX $$\n",
    "\n",
    "## 損失関数\n",
    "$$ Loss = \\frac{1}{m}\\sum_{i = 1}^m (y_i - \\hat{y_i})^2 $$\n",
    "\n",
    "この損失関数が最小値となる$W_1$(係数)を求める.その求める手法が$\\textbf{最小二乗法}$である.  \n",
    "最小二乗法を解く方法は2つある.  \n",
    "- 最急降下方\n",
    "- 正規方程式\n",
    "\n",
    "最急降下法での損失関数は$L(θ_0, θ_1) = \\frac{1}{m}\\sum_{i = 1}^m (y_i - (θ_0 + θ_1x_i))^2 $と示す.  \n",
    "最急降下法では損失関数が最小になる方向にパラメータ$θ$を動かしていき、最適解を得る手法である.  \n",
    "各パラメータの更新式は以下の通りである.($α$:学習率)\n",
    "- $ θ_0 := θ_0 - α\\frac{\\partial}{\\partial θ_0}L(θ_0, θ_1) $\n",
    "- $ θ_0 := θ_1 - α\\frac{\\partial}{\\partial θ_1}L(θ_0, θ_1) $  \n",
    "\n",
    "パラメータの数が多くなれば、上記のような式が$θ_2, θ_3$と増えていくイメージ. またこれらの式は同時に更新されていく.  \n",
    "ここで、$\\frac{\\partial}{\\partial θ_0}L(θ_0, θ_1)$や$\\frac{\\partial}{\\partial θ_1}L(θ_0, θ_1)$について解いてみる.  \n",
    "- $\\frac{\\partial}{\\partial θ_0}L(θ_0, θ_1) = - \\frac{2}{m}\\sum_{i = 1}^m(y_i - (θ_0 + θ_1x_i)) = \\frac{2}{m}\\sum_{i = 1}^m(θ_0 + θ_1x_i - y_i)$\n",
    "- $\\frac{\\partial}{\\partial θ_1}L(θ_0, θ_1) = - \\frac{2}{m}\\sum_{i = 1}^m(y_i - (θ_0 + θ_1x_i))x_i = \\frac{2}{m}\\sum_{i = 1}^m(θ_0 + θ_1x_i - y_i)x_i$\n",
    "\n",
    "このようにパラメータを更新していき、損失関数が最小になるところを探していくのが最急降下法である。  \n",
    "\n",
    "次に正規方程式の解法を示す.  \n",
    "正規方程式でも解くべき損失関数は同じで、$L(θ_0, θ_1) = \\frac{1}{m}\\sum_{i = 1}^m (y_i - (θ_0 + θ_1x_i))^2 $である.  \n",
    "ただし、正規方程式では行列計算によって解く.  \n",
    "予測式は$\\hat{y} = θ_0 + θ_1x_{i1} + θ_2x_{i2} + ・・・ + θ_nx_{in}$と表される. (nは特徴量の数. iは各特徴量の何番目のデータかを示している添字)  \n",
    "これを行列で表すと$\\hat{Y} = Xθ$となる. ($\\hat{Y}$はm×1の行列. $X$はm×nの行列. $θ$はn×1の行列.)  \n",
    "損失関数では$L(θ) = \\frac{1}{m}\\sum_{i = 1}^m (Y - Xθ)^2 $となる.\n",
    "この式を以下の様に解く.  \n",
    "$(Y - Xθ)^2 = (Y - Xθ)^T(Y - Xθ) = (Y^T - θ^TX^T)(Y - Xθ) = Y^TY - 2θ^TX^TY + θ^TX^TXθ $  \n",
    "$Y^TY - 2θ^TX^TY + θ^TX^TXθ$を$θ$で偏微分して0になるなるθが最適解となる.  \n",
    "$\\frac{\\partial}{\\partial θ}(Y^TY - 2θ^TX^TY + θ^TX^TXθ) = -2X^TY + 2X^TXθ$  \n",
    "$-2X^TY + 2X^TXθ = 0$  \n",
    "$\\mathbf{θ = (X^TX)^{-1}X^Ty}$  \n",
    "\n",
    "ここで正規方程式の注意点を挙げる.\n",
    "- 特徴量が多すぎると$(X^TX)^{-1}$の計算に時間がかかる\n",
    "- 特徴量間に強い相関があると$(X^TX)^{-1}$を求めることができない(多重共線性)\n",
    "- 特徴量数がデータ数を上回る場合、回帰のパラメータを特定できない\n",
    "\n",
    "多重共線性について説明する.  \n",
    "以下のAの様に2つの特徴量に相関があるとき、$A^{-1}$を求める際の$abc$と$cba$が同じ値または近い値となるので、分母が0になってしまう.  \n",
    "この点から$(X^TX)^{-1}$を求めることができなくなる.  \n",
    "$A =$\n",
    "$\\begin{bmatrix}\n",
    "   a & ba \\\\\n",
    "   c & bc\n",
    "\\end{bmatrix}$\n",
    "$A^{-1} =$\n",
    "$\\frac{1}{abc - cba}$\n",
    "$\\begin{bmatrix}\n",
    "   bc & -ba \\\\\n",
    "   -c & a\n",
    "\\end{bmatrix}$  \n",
    "$A^TA =$\n",
    "$\\begin{bmatrix}\n",
    "   a^2+c^2 & b(a^2+c^2) \\\\\n",
    "   b(a^2+c^2) & b^2(a^2+c^2)\n",
    "\\end{bmatrix}$  "
   ]
  },
  {
   "cell_type": "code",
   "execution_count": 26,
   "id": "38db9ade-8ed2-467a-a110-7d9d327ed7b0",
   "metadata": {},
   "outputs": [],
   "source": [
    "# ライブラリのインポート\n",
    "import pandas as pd\n",
    "import numpy as np\n",
    "import matplotlib.pyplot as plt\n",
    "from sklearn.metrics import mean_squared_error\n",
    "from sklearn.linear_model import LinearRegression\n",
    "from sklearn.model_selection import train_test_split\n",
    "from sklearn.preprocessing import StandardScaler"
   ]
  },
  {
   "cell_type": "markdown",
   "id": "7b7fdbc3-85c3-4699-985c-2a806f25b761",
   "metadata": {},
   "source": [
    "## 単回帰"
   ]
  },
  {
   "cell_type": "code",
   "execution_count": 2,
   "id": "dcfaf528-5b4a-4d70-81de-025f1e147145",
   "metadata": {},
   "outputs": [
    {
     "data": {
      "text/html": [
       "<div>\n",
       "<style scoped>\n",
       "    .dataframe tbody tr th:only-of-type {\n",
       "        vertical-align: middle;\n",
       "    }\n",
       "\n",
       "    .dataframe tbody tr th {\n",
       "        vertical-align: top;\n",
       "    }\n",
       "\n",
       "    .dataframe thead th {\n",
       "        text-align: right;\n",
       "    }\n",
       "</style>\n",
       "<table border=\"1\" class=\"dataframe\">\n",
       "  <thead>\n",
       "    <tr style=\"text-align: right;\">\n",
       "      <th></th>\n",
       "      <th>CRIM</th>\n",
       "      <th>ZN</th>\n",
       "      <th>INDUS</th>\n",
       "      <th>CHAS</th>\n",
       "      <th>NOX</th>\n",
       "      <th>RM</th>\n",
       "      <th>AGE</th>\n",
       "      <th>DIS</th>\n",
       "      <th>RAD</th>\n",
       "      <th>TAX</th>\n",
       "      <th>PTRATIO</th>\n",
       "      <th>B</th>\n",
       "      <th>LSTAT</th>\n",
       "      <th>MEDV</th>\n",
       "    </tr>\n",
       "  </thead>\n",
       "  <tbody>\n",
       "    <tr>\n",
       "      <th>0</th>\n",
       "      <td>0.00632</td>\n",
       "      <td>18.0</td>\n",
       "      <td>2.31</td>\n",
       "      <td>0</td>\n",
       "      <td>0.538</td>\n",
       "      <td>6.575</td>\n",
       "      <td>65.2</td>\n",
       "      <td>4.0900</td>\n",
       "      <td>1</td>\n",
       "      <td>296.0</td>\n",
       "      <td>15.3</td>\n",
       "      <td>396.90</td>\n",
       "      <td>4.98</td>\n",
       "      <td>24.0</td>\n",
       "    </tr>\n",
       "    <tr>\n",
       "      <th>1</th>\n",
       "      <td>0.02731</td>\n",
       "      <td>0.0</td>\n",
       "      <td>7.07</td>\n",
       "      <td>0</td>\n",
       "      <td>0.469</td>\n",
       "      <td>6.421</td>\n",
       "      <td>78.9</td>\n",
       "      <td>4.9671</td>\n",
       "      <td>2</td>\n",
       "      <td>242.0</td>\n",
       "      <td>17.8</td>\n",
       "      <td>396.90</td>\n",
       "      <td>9.14</td>\n",
       "      <td>21.6</td>\n",
       "    </tr>\n",
       "    <tr>\n",
       "      <th>2</th>\n",
       "      <td>0.02729</td>\n",
       "      <td>0.0</td>\n",
       "      <td>7.07</td>\n",
       "      <td>0</td>\n",
       "      <td>0.469</td>\n",
       "      <td>7.185</td>\n",
       "      <td>61.1</td>\n",
       "      <td>4.9671</td>\n",
       "      <td>2</td>\n",
       "      <td>242.0</td>\n",
       "      <td>17.8</td>\n",
       "      <td>392.83</td>\n",
       "      <td>4.03</td>\n",
       "      <td>34.7</td>\n",
       "    </tr>\n",
       "    <tr>\n",
       "      <th>3</th>\n",
       "      <td>0.03237</td>\n",
       "      <td>0.0</td>\n",
       "      <td>2.18</td>\n",
       "      <td>0</td>\n",
       "      <td>0.458</td>\n",
       "      <td>6.998</td>\n",
       "      <td>45.8</td>\n",
       "      <td>6.0622</td>\n",
       "      <td>3</td>\n",
       "      <td>222.0</td>\n",
       "      <td>18.7</td>\n",
       "      <td>394.63</td>\n",
       "      <td>2.94</td>\n",
       "      <td>33.4</td>\n",
       "    </tr>\n",
       "    <tr>\n",
       "      <th>4</th>\n",
       "      <td>0.06905</td>\n",
       "      <td>0.0</td>\n",
       "      <td>2.18</td>\n",
       "      <td>0</td>\n",
       "      <td>0.458</td>\n",
       "      <td>7.147</td>\n",
       "      <td>54.2</td>\n",
       "      <td>6.0622</td>\n",
       "      <td>3</td>\n",
       "      <td>222.0</td>\n",
       "      <td>18.7</td>\n",
       "      <td>396.90</td>\n",
       "      <td>5.33</td>\n",
       "      <td>36.2</td>\n",
       "    </tr>\n",
       "  </tbody>\n",
       "</table>\n",
       "</div>"
      ],
      "text/plain": [
       "      CRIM    ZN  INDUS  CHAS    NOX     RM   AGE     DIS  RAD    TAX  \\\n",
       "0  0.00632  18.0   2.31     0  0.538  6.575  65.2  4.0900    1  296.0   \n",
       "1  0.02731   0.0   7.07     0  0.469  6.421  78.9  4.9671    2  242.0   \n",
       "2  0.02729   0.0   7.07     0  0.469  7.185  61.1  4.9671    2  242.0   \n",
       "3  0.03237   0.0   2.18     0  0.458  6.998  45.8  6.0622    3  222.0   \n",
       "4  0.06905   0.0   2.18     0  0.458  7.147  54.2  6.0622    3  222.0   \n",
       "\n",
       "   PTRATIO       B  LSTAT  MEDV  \n",
       "0     15.3  396.90   4.98  24.0  \n",
       "1     17.8  396.90   9.14  21.6  \n",
       "2     17.8  392.83   4.03  34.7  \n",
       "3     18.7  394.63   2.94  33.4  \n",
       "4     18.7  396.90   5.33  36.2  "
      ]
     },
     "execution_count": 2,
     "metadata": {},
     "output_type": "execute_result"
    }
   ],
   "source": [
    "# データセットの読み込み\n",
    "df = pd.read_csv('https://archive.ics.uci.edu/ml/machine-learning-databases/housing/housing.data', header=None, sep='\\s+')\n",
    "df.columns=['CRIM', 'ZN', 'INDUS', 'CHAS', 'NOX', 'RM', 'AGE', 'DIS', 'RAD', 'TAX', 'PTRATIO', 'B', 'LSTAT', 'MEDV']\n",
    "df.head()"
   ]
  },
  {
   "cell_type": "code",
   "execution_count": 12,
   "id": "8d38540e-7e4d-4aa4-9e94-070cae9114ad",
   "metadata": {},
   "outputs": [
    {
     "name": "stdout",
     "output_type": "stream",
     "text": [
      "X_train:       RM\n",
      "0  6.575\n",
      "1  6.421\n",
      "2  7.185\n",
      "y_train: 0    24.0\n",
      "1    21.6\n",
      "2    34.7\n",
      "Name: MEDV, dtype: float64\n"
     ]
    }
   ],
   "source": [
    "# 特徴量と目的変数の設定\n",
    "X_train = df[['RM']].loc[:99] # 特徴量にRM（平均部屋数）を設定\n",
    "y_train = df.loc[:99, 'MEDV'] # 正解値にMEDV（住宅価格）を設定\n",
    "print('X_train:', X_train[:3])\n",
    "print('y_train:', y_train[:3])\n"
   ]
  },
  {
   "cell_type": "code",
   "execution_count": 4,
   "id": "7f550da7-87fb-4fb5-afc6-ccc086ba7527",
   "metadata": {},
   "outputs": [
    {
     "data": {
      "text/plain": [
       "{'copy_X': True, 'fit_intercept': True, 'n_jobs': None, 'positive': False}"
      ]
     },
     "execution_count": 4,
     "metadata": {},
     "output_type": "execute_result"
    }
   ],
   "source": [
    "model = LinearRegression() # 線形回帰モデル\n",
    "model.fit(X_train, y_train)\n",
    "model.get_params()"
   ]
  },
  {
   "cell_type": "code",
   "execution_count": 5,
   "id": "8c19f071-12a0-44a1-802d-e860a6dc5246",
   "metadata": {},
   "outputs": [],
   "source": [
    "# モデル予測\n",
    "y_pred = model.predict(X_train)"
   ]
  },
  {
   "cell_type": "code",
   "execution_count": 21,
   "id": "e2caaee0-88d8-4cea-be10-9da9b24544ad",
   "metadata": {},
   "outputs": [
    {
     "name": "stderr",
     "output_type": "stream",
     "text": [
      "/opt/anaconda3/lib/python3.9/site-packages/sklearn/base.py:420: UserWarning: X does not have valid feature names, but LinearRegression was fitted with feature names\n",
      "  warnings.warn(\n"
     ]
    },
    {
     "data": {
      "image/png": "[encoded data removed]",
      "text/plain": [
       "<Figure size 800x400 with 1 Axes>"
      ]
     },
     "metadata": {},
     "output_type": "display_data"
    }
   ],
   "source": [
    "# データと予測値の可視化\n",
    "plt.figure(figsize=(8, 4)) #プロットのサイズ指定\n",
    "X = X_train.values.flatten() # numpy配列に変換し、1次元配列に変換\n",
    "y = y_train.values # numpy配列に変換\n",
    "\n",
    "# Xの最小値から最大値まで0.01刻みのX_pltを作成し、2次元配列に変換\n",
    "X_plt = np.arange(X.min(), X.max(), 0.01)[:, np.newaxis] # np.newaxisで新しい次元を追加\n",
    "y_pred = model.predict(X_plt) # 住宅価格を予測\n",
    "\n",
    "# 学習データ(平均部屋数と住宅価格)の散布図と予測値のプロット\n",
    "plt.scatter(X, y, color='blue', label='data')\n",
    "plt.plot(X_plt, y_pred, color='red', label='LinearRegression')\n",
    "plt.ylabel('Price in $1000s [MEDV]')\n",
    "plt.xlabel('average number of rooms [RM]')\n",
    "plt.title('Boston house-prices')\n",
    "plt.legend(loc='upper right')\n",
    "plt.show()"
   ]
  },
  {
   "cell_type": "code",
   "execution_count": 14,
   "id": "e7f2ab05-33e6-4e7c-bf0a-a8290c7b9434",
   "metadata": {},
   "outputs": [
    {
     "name": "stdout",
     "output_type": "stream",
     "text": [
      "傾き w1: 10.223463401699547\n",
      "切片 w0: -41.42826246618969\n"
     ]
    }
   ],
   "source": [
    "# パラメータ\n",
    "print('傾き w1:', model.coef_[0])\n",
    "print('切片 w0:', model.intercept_) "
   ]
  },
  {
   "cell_type": "markdown",
   "id": "3cfa12a0-fafc-4337-8737-57966e424b7a",
   "metadata": {},
   "source": [
    "## 重回帰"
   ]
  },
  {
   "cell_type": "code",
   "execution_count": 22,
   "id": "66dfa6f4-f2b9-43c2-993d-739b71a23d3b",
   "metadata": {},
   "outputs": [
    {
     "data": {
      "text/html": [
       "<div>\n",
       "<style scoped>\n",
       "    .dataframe tbody tr th:only-of-type {\n",
       "        vertical-align: middle;\n",
       "    }\n",
       "\n",
       "    .dataframe tbody tr th {\n",
       "        vertical-align: top;\n",
       "    }\n",
       "\n",
       "    .dataframe thead th {\n",
       "        text-align: right;\n",
       "    }\n",
       "</style>\n",
       "<table border=\"1\" class=\"dataframe\">\n",
       "  <thead>\n",
       "    <tr style=\"text-align: right;\">\n",
       "      <th></th>\n",
       "      <th>CRIM</th>\n",
       "      <th>ZN</th>\n",
       "      <th>INDUS</th>\n",
       "      <th>CHAS</th>\n",
       "      <th>NOX</th>\n",
       "      <th>RM</th>\n",
       "      <th>AGE</th>\n",
       "      <th>DIS</th>\n",
       "      <th>RAD</th>\n",
       "      <th>TAX</th>\n",
       "      <th>PTRATIO</th>\n",
       "      <th>B</th>\n",
       "      <th>LSTAT</th>\n",
       "    </tr>\n",
       "  </thead>\n",
       "  <tbody>\n",
       "    <tr>\n",
       "      <th>0</th>\n",
       "      <td>0.00632</td>\n",
       "      <td>18.0</td>\n",
       "      <td>2.31</td>\n",
       "      <td>0</td>\n",
       "      <td>0.538</td>\n",
       "      <td>6.575</td>\n",
       "      <td>65.2</td>\n",
       "      <td>4.0900</td>\n",
       "      <td>1</td>\n",
       "      <td>296.0</td>\n",
       "      <td>15.3</td>\n",
       "      <td>396.90</td>\n",
       "      <td>4.98</td>\n",
       "    </tr>\n",
       "    <tr>\n",
       "      <th>1</th>\n",
       "      <td>0.02731</td>\n",
       "      <td>0.0</td>\n",
       "      <td>7.07</td>\n",
       "      <td>0</td>\n",
       "      <td>0.469</td>\n",
       "      <td>6.421</td>\n",
       "      <td>78.9</td>\n",
       "      <td>4.9671</td>\n",
       "      <td>2</td>\n",
       "      <td>242.0</td>\n",
       "      <td>17.8</td>\n",
       "      <td>396.90</td>\n",
       "      <td>9.14</td>\n",
       "    </tr>\n",
       "    <tr>\n",
       "      <th>2</th>\n",
       "      <td>0.02729</td>\n",
       "      <td>0.0</td>\n",
       "      <td>7.07</td>\n",
       "      <td>0</td>\n",
       "      <td>0.469</td>\n",
       "      <td>7.185</td>\n",
       "      <td>61.1</td>\n",
       "      <td>4.9671</td>\n",
       "      <td>2</td>\n",
       "      <td>242.0</td>\n",
       "      <td>17.8</td>\n",
       "      <td>392.83</td>\n",
       "      <td>4.03</td>\n",
       "    </tr>\n",
       "    <tr>\n",
       "      <th>3</th>\n",
       "      <td>0.03237</td>\n",
       "      <td>0.0</td>\n",
       "      <td>2.18</td>\n",
       "      <td>0</td>\n",
       "      <td>0.458</td>\n",
       "      <td>6.998</td>\n",
       "      <td>45.8</td>\n",
       "      <td>6.0622</td>\n",
       "      <td>3</td>\n",
       "      <td>222.0</td>\n",
       "      <td>18.7</td>\n",
       "      <td>394.63</td>\n",
       "      <td>2.94</td>\n",
       "    </tr>\n",
       "    <tr>\n",
       "      <th>4</th>\n",
       "      <td>0.06905</td>\n",
       "      <td>0.0</td>\n",
       "      <td>2.18</td>\n",
       "      <td>0</td>\n",
       "      <td>0.458</td>\n",
       "      <td>7.147</td>\n",
       "      <td>54.2</td>\n",
       "      <td>6.0622</td>\n",
       "      <td>3</td>\n",
       "      <td>222.0</td>\n",
       "      <td>18.7</td>\n",
       "      <td>396.90</td>\n",
       "      <td>5.33</td>\n",
       "    </tr>\n",
       "  </tbody>\n",
       "</table>\n",
       "</div>"
      ],
      "text/plain": [
       "      CRIM    ZN  INDUS  CHAS    NOX     RM   AGE     DIS  RAD    TAX  \\\n",
       "0  0.00632  18.0   2.31     0  0.538  6.575  65.2  4.0900    1  296.0   \n",
       "1  0.02731   0.0   7.07     0  0.469  6.421  78.9  4.9671    2  242.0   \n",
       "2  0.02729   0.0   7.07     0  0.469  7.185  61.1  4.9671    2  242.0   \n",
       "3  0.03237   0.0   2.18     0  0.458  6.998  45.8  6.0622    3  222.0   \n",
       "4  0.06905   0.0   2.18     0  0.458  7.147  54.2  6.0622    3  222.0   \n",
       "\n",
       "   PTRATIO       B  LSTAT  \n",
       "0     15.3  396.90   4.98  \n",
       "1     17.8  396.90   9.14  \n",
       "2     17.8  392.83   4.03  \n",
       "3     18.7  394.63   2.94  \n",
       "4     18.7  396.90   5.33  "
      ]
     },
     "execution_count": 22,
     "metadata": {},
     "output_type": "execute_result"
    }
   ],
   "source": [
    "# 特徴量と目的変数の設定\n",
    "X = df.drop(['MEDV'], axis=1)\n",
    "y = df['MEDV']\n",
    "X.head()"
   ]
  },
  {
   "cell_type": "code",
   "execution_count": 25,
   "id": "b9370b2b-4dd3-46af-a369-98bd5779a0cb",
   "metadata": {},
   "outputs": [
    {
     "name": "stdout",
     "output_type": "stream",
     "text": [
      "X_trainの形状： (404, 13)  y_trainの形状： (404,)  X_testの形状： (102, 13)  y_testの形状： (102,)\n"
     ]
    }
   ],
   "source": [
    "# 学習データとテストデータに分割\n",
    "X_train, X_test, y_train, y_test = train_test_split(X, y, test_size=0.2, shuffle=True, random_state=0)\n",
    "print('X_trainの形状：', X_train.shape, ' y_trainの形状：', y_train.shape, ' X_testの形状：', X_test.shape, ' y_testの形状：', y_test.shape)"
   ]
  },
  {
   "cell_type": "code",
   "execution_count": 27,
   "id": "b7387154-c31b-4755-aad3-a2bf187fe6d4",
   "metadata": {},
   "outputs": [
    {
     "data": {
      "text/html": [
       "<div>\n",
       "<style scoped>\n",
       "    .dataframe tbody tr th:only-of-type {\n",
       "        vertical-align: middle;\n",
       "    }\n",
       "\n",
       "    .dataframe tbody tr th {\n",
       "        vertical-align: top;\n",
       "    }\n",
       "\n",
       "    .dataframe thead th {\n",
       "        text-align: right;\n",
       "    }\n",
       "</style>\n",
       "<table border=\"1\" class=\"dataframe\">\n",
       "  <thead>\n",
       "    <tr style=\"text-align: right;\">\n",
       "      <th></th>\n",
       "      <th>CRIM</th>\n",
       "      <th>ZN</th>\n",
       "      <th>INDUS</th>\n",
       "      <th>CHAS</th>\n",
       "      <th>NOX</th>\n",
       "      <th>RM</th>\n",
       "      <th>AGE</th>\n",
       "      <th>DIS</th>\n",
       "      <th>RAD</th>\n",
       "      <th>TAX</th>\n",
       "      <th>PTRATIO</th>\n",
       "      <th>B</th>\n",
       "      <th>LSTAT</th>\n",
       "    </tr>\n",
       "  </thead>\n",
       "  <tbody>\n",
       "    <tr>\n",
       "      <th>220</th>\n",
       "      <td>-0.372574</td>\n",
       "      <td>-0.499608</td>\n",
       "      <td>-0.704925</td>\n",
       "      <td>3.664502</td>\n",
       "      <td>-0.424879</td>\n",
       "      <td>0.935678</td>\n",
       "      <td>0.693669</td>\n",
       "      <td>-0.437218</td>\n",
       "      <td>-0.162242</td>\n",
       "      <td>-0.561656</td>\n",
       "      <td>-0.484638</td>\n",
       "      <td>0.371691</td>\n",
       "      <td>-0.411000</td>\n",
       "    </tr>\n",
       "    <tr>\n",
       "      <th>71</th>\n",
       "      <td>-0.397099</td>\n",
       "      <td>-0.499608</td>\n",
       "      <td>-0.044878</td>\n",
       "      <td>-0.272888</td>\n",
       "      <td>-1.241859</td>\n",
       "      <td>-0.491181</td>\n",
       "      <td>-1.835528</td>\n",
       "      <td>0.730055</td>\n",
       "      <td>-0.624648</td>\n",
       "      <td>-0.573376</td>\n",
       "      <td>0.336491</td>\n",
       "      <td>0.205012</td>\n",
       "      <td>-0.387681</td>\n",
       "    </tr>\n",
       "  </tbody>\n",
       "</table>\n",
       "</div>"
      ],
      "text/plain": [
       "         CRIM        ZN     INDUS      CHAS       NOX        RM       AGE  \\\n",
       "220 -0.372574 -0.499608 -0.704925  3.664502 -0.424879  0.935678  0.693669   \n",
       "71  -0.397099 -0.499608 -0.044878 -0.272888 -1.241859 -0.491181 -1.835528   \n",
       "\n",
       "          DIS       RAD       TAX   PTRATIO         B     LSTAT  \n",
       "220 -0.437218 -0.162242 -0.561656 -0.484638  0.371691 -0.411000  \n",
       "71   0.730055 -0.624648 -0.573376  0.336491  0.205012 -0.387681  "
      ]
     },
     "metadata": {},
     "output_type": "display_data"
    }
   ],
   "source": [
    "scaler = StandardScaler() # 変換器の作成\n",
    "num_cols =  X.columns[0:13] # 全て数値型の特徴量なので全て取得\n",
    "scaler.fit(X_train[num_cols]) # 学習データでの標準化パラメータの計算\n",
    "X_train[num_cols] = scaler.transform(X_train[num_cols]) # 学習データの変換\n",
    "X_test[num_cols] = scaler.transform(X_test[num_cols]) # テストデータの変換\n",
    "\n",
    "display(X_train.iloc[:2]) # 標準化された学習データの特徴量"
   ]
  },
  {
   "cell_type": "code",
   "execution_count": 28,
   "id": "851aa217-ddf2-44bb-a888-abbe1acdd590",
   "metadata": {},
   "outputs": [
    {
     "data": {
      "text/plain": [
       "{'copy_X': True, 'fit_intercept': True, 'n_jobs': None, 'positive': False}"
      ]
     },
     "execution_count": 28,
     "metadata": {},
     "output_type": "execute_result"
    }
   ],
   "source": [
    "model = LinearRegression() # 線形回帰モデル\n",
    "model.fit(X_train, y_train)\n",
    "model.get_params()"
   ]
  },
  {
   "cell_type": "code",
   "execution_count": 29,
   "id": "31509cfd-0329-4bcd-9dfa-1c0e9a4325f2",
   "metadata": {},
   "outputs": [
    {
     "name": "stdout",
     "output_type": "stream",
     "text": [
      "RMSE test: 5.78\n"
     ]
    }
   ],
   "source": [
    "# テストデータの予測と評価\n",
    "y_test_pred = model.predict(X_test)\n",
    "print('RMSE test: %.2f' % (mean_squared_error(y_test, y_test_pred) ** 0.5))"
   ]
  },
  {
   "cell_type": "markdown",
   "id": "2b4266e9-7ccc-4c51-abe2-90f013d599c4",
   "metadata": {},
   "source": [
    "### 予測値の解釈"
   ]
  },
  {
   "cell_type": "code",
   "execution_count": 31,
   "id": "d3c3f8d9-de4c-4ba1-a06c-e0ced3c7e09b",
   "metadata": {},
   "outputs": [
    {
     "name": "stdout",
     "output_type": "stream",
     "text": [
      "定数項：22.611881188118804\n"
     ]
    },
    {
     "data": {
      "text/html": [
       "<div>\n",
       "<style scoped>\n",
       "    .dataframe tbody tr th:only-of-type {\n",
       "        vertical-align: middle;\n",
       "    }\n",
       "\n",
       "    .dataframe tbody tr th {\n",
       "        vertical-align: top;\n",
       "    }\n",
       "\n",
       "    .dataframe thead th {\n",
       "        text-align: right;\n",
       "    }\n",
       "</style>\n",
       "<table border=\"1\" class=\"dataframe\">\n",
       "  <thead>\n",
       "    <tr style=\"text-align: right;\">\n",
       "      <th></th>\n",
       "      <th>feature</th>\n",
       "      <th>coef</th>\n",
       "    </tr>\n",
       "  </thead>\n",
       "  <tbody>\n",
       "    <tr>\n",
       "      <th>0</th>\n",
       "      <td>CRIM</td>\n",
       "      <td>-0.970820</td>\n",
       "    </tr>\n",
       "    <tr>\n",
       "      <th>1</th>\n",
       "      <td>ZN</td>\n",
       "      <td>1.057149</td>\n",
       "    </tr>\n",
       "    <tr>\n",
       "      <th>2</th>\n",
       "      <td>INDUS</td>\n",
       "      <td>0.038311</td>\n",
       "    </tr>\n",
       "    <tr>\n",
       "      <th>3</th>\n",
       "      <td>CHAS</td>\n",
       "      <td>0.594506</td>\n",
       "    </tr>\n",
       "    <tr>\n",
       "      <th>4</th>\n",
       "      <td>NOX</td>\n",
       "      <td>-1.855148</td>\n",
       "    </tr>\n",
       "    <tr>\n",
       "      <th>5</th>\n",
       "      <td>RM</td>\n",
       "      <td>2.573219</td>\n",
       "    </tr>\n",
       "    <tr>\n",
       "      <th>6</th>\n",
       "      <td>AGE</td>\n",
       "      <td>-0.087615</td>\n",
       "    </tr>\n",
       "    <tr>\n",
       "      <th>7</th>\n",
       "      <td>DIS</td>\n",
       "      <td>-2.880943</td>\n",
       "    </tr>\n",
       "    <tr>\n",
       "      <th>8</th>\n",
       "      <td>RAD</td>\n",
       "      <td>2.112245</td>\n",
       "    </tr>\n",
       "    <tr>\n",
       "      <th>9</th>\n",
       "      <td>TAX</td>\n",
       "      <td>-1.875331</td>\n",
       "    </tr>\n",
       "    <tr>\n",
       "      <th>10</th>\n",
       "      <td>PTRATIO</td>\n",
       "      <td>-2.292767</td>\n",
       "    </tr>\n",
       "    <tr>\n",
       "      <th>11</th>\n",
       "      <td>B</td>\n",
       "      <td>0.718179</td>\n",
       "    </tr>\n",
       "    <tr>\n",
       "      <th>12</th>\n",
       "      <td>LSTAT</td>\n",
       "      <td>-3.592455</td>\n",
       "    </tr>\n",
       "  </tbody>\n",
       "</table>\n",
       "</div>"
      ],
      "text/plain": [
       "    feature      coef\n",
       "0      CRIM -0.970820\n",
       "1        ZN  1.057149\n",
       "2     INDUS  0.038311\n",
       "3      CHAS  0.594506\n",
       "4       NOX -1.855148\n",
       "5        RM  2.573219\n",
       "6       AGE -0.087615\n",
       "7       DIS -2.880943\n",
       "8       RAD  2.112245\n",
       "9       TAX -1.875331\n",
       "10  PTRATIO -2.292767\n",
       "11        B  0.718179\n",
       "12    LSTAT -3.592455"
      ]
     },
     "metadata": {},
     "output_type": "display_data"
    }
   ],
   "source": [
    "features = model.feature_names_in_.reshape(-1, 13)\n",
    "coef = model.coef_\n",
    "intercept = model.intercept_\n",
    "result_df = pd.DataFrame({'feature': features.flatten(), 'coef': coef.flatten()})\n",
    "print(f'定数項：{intercept}')\n",
    "display(result_df)"
   ]
  },
  {
   "cell_type": "code",
   "execution_count": 32,
   "id": "40d50524-2fab-47b1-93f6-41027db228f6",
   "metadata": {},
   "outputs": [
    {
     "data": {
      "image/png": "[encoded data removed]",
      "text/plain": [
       "<Figure size 800x400 with 1 Axes>"
      ]
     },
     "metadata": {},
     "output_type": "display_data"
    }
   ],
   "source": [
    "# 回帰係数の可視化\n",
    "importances = model.coef_ # 回帰係数\n",
    "indices = np.argsort(importances)[::-1] # 回帰係数を降順にソート\n",
    "\n",
    "plt.figure(figsize=(8, 4)) #プロットのサイズ指定\n",
    "plt.title('Regression coefficient') # プロットのタイトルを作成\n",
    "plt.bar(range(X.shape[1]), importances[indices]) # 棒グラフを追加\n",
    "plt.xticks(range(X.shape[1]), X.columns[indices], rotation=90) # X軸に特徴量の名前を追加\n",
    "plt.show() # プロットを表示"
   ]
  },
  {
   "cell_type": "code",
   "execution_count": null,
   "id": "cc9e0498-267b-45f3-a5c7-c88ddfcf53bc",
   "metadata": {},
   "outputs": [],
   "source": []
  }
 ],
 "metadata": {
  "kernelspec": {
   "display_name": "Python 3 (ipykernel)",
   "language": "python",
   "name": "python3"
  },
  "language_info": {
   "codemirror_mode": {
    "name": "ipython",
    "version": 3
   },
   "file_extension": ".py",
   "mimetype": "text/x-python",
   "name": "python",
   "nbconvert_exporter": "python",
   "pygments_lexer": "ipython3",
   "version": "3.9.13"
  }
 },
 "nbformat": 4,
 "nbformat_minor": 5
}
