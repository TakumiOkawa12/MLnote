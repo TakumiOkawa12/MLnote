{
 "cells": [
  {
   "cell_type": "markdown",
   "id": "85db3a77-13ca-4a6a-83d2-37db8f165171",
   "metadata": {},
   "source": [
    "# 実践的な分析\n",
    "- 実務で使えそうな統計的な手法や分析方法についてまとめる\n",
    "- 実際の実務で本ノートブックを見れば使える状態を目指す\n",
    "- 記述統計や検定の基本的な考え方などについては省略"
   ]
  },
  {
   "cell_type": "markdown",
   "id": "0e1790bb-a141-4923-ba2b-d141be44ede4",
   "metadata": {},
   "source": [
    "## 目次\n",
    "1. 比率の差の検定\n",
    "2. 平均値差の検定\n",
    "3. 検定力分析\n",
    "4. データ間の関係性に関する分析\n",
    "    - カイ二乗検定\n",
    "    - アソシエーション分析\n",
    "    - 数量化理論\n",
    "5. クラスタリング\n",
    "6. 回帰分析"
   ]
  },
  {
   "cell_type": "markdown",
   "id": "2a8032fb-6f87-4510-8640-fc295397d231",
   "metadata": {},
   "source": [
    "## 準備"
   ]
  },
  {
   "cell_type": "code",
   "execution_count": 1,
   "id": "231271ad-fea1-413a-94e3-32ff65f90cd7",
   "metadata": {},
   "outputs": [],
   "source": [
    "import pandas as pd\n",
    "import numpy as np\n",
    "import seaborn as sns\n",
    "from sklearn.preprocessing import StandardScaler\n",
    "from statsmodels.stats.proportion import proportions_ztest\n",
    "from statsmodels.api import qqplot\n",
    "from scipy import stats\n",
    "from statsmodels.stats.power import TTestIndPower"
   ]
  },
  {
   "cell_type": "code",
   "execution_count": 2,
   "id": "57158367-b01c-4cc9-bc72-bc7738844cc2",
   "metadata": {},
   "outputs": [
    {
     "data": {
      "text/html": [
       "<div>\n",
       "<style scoped>\n",
       "    .dataframe tbody tr th:only-of-type {\n",
       "        vertical-align: middle;\n",
       "    }\n",
       "\n",
       "    .dataframe tbody tr th {\n",
       "        vertical-align: top;\n",
       "    }\n",
       "\n",
       "    .dataframe thead th {\n",
       "        text-align: right;\n",
       "    }\n",
       "</style>\n",
       "<table border=\"1\" class=\"dataframe\">\n",
       "  <thead>\n",
       "    <tr style=\"text-align: right;\">\n",
       "      <th></th>\n",
       "      <th>total_bill</th>\n",
       "      <th>tip</th>\n",
       "      <th>sex</th>\n",
       "      <th>smoker</th>\n",
       "      <th>day</th>\n",
       "      <th>time</th>\n",
       "      <th>size</th>\n",
       "      <th>tip_rate</th>\n",
       "    </tr>\n",
       "  </thead>\n",
       "  <tbody>\n",
       "    <tr>\n",
       "      <th>0</th>\n",
       "      <td>16.99</td>\n",
       "      <td>1.01</td>\n",
       "      <td>Female</td>\n",
       "      <td>No</td>\n",
       "      <td>Sun</td>\n",
       "      <td>Dinner</td>\n",
       "      <td>2</td>\n",
       "      <td>0.059447</td>\n",
       "    </tr>\n",
       "    <tr>\n",
       "      <th>1</th>\n",
       "      <td>10.34</td>\n",
       "      <td>1.66</td>\n",
       "      <td>Male</td>\n",
       "      <td>No</td>\n",
       "      <td>Sun</td>\n",
       "      <td>Dinner</td>\n",
       "      <td>3</td>\n",
       "      <td>0.160542</td>\n",
       "    </tr>\n",
       "    <tr>\n",
       "      <th>2</th>\n",
       "      <td>21.01</td>\n",
       "      <td>3.50</td>\n",
       "      <td>Male</td>\n",
       "      <td>No</td>\n",
       "      <td>Sun</td>\n",
       "      <td>Dinner</td>\n",
       "      <td>3</td>\n",
       "      <td>0.166587</td>\n",
       "    </tr>\n",
       "    <tr>\n",
       "      <th>3</th>\n",
       "      <td>23.68</td>\n",
       "      <td>3.31</td>\n",
       "      <td>Male</td>\n",
       "      <td>No</td>\n",
       "      <td>Sun</td>\n",
       "      <td>Dinner</td>\n",
       "      <td>2</td>\n",
       "      <td>0.139780</td>\n",
       "    </tr>\n",
       "    <tr>\n",
       "      <th>4</th>\n",
       "      <td>24.59</td>\n",
       "      <td>3.61</td>\n",
       "      <td>Female</td>\n",
       "      <td>No</td>\n",
       "      <td>Sun</td>\n",
       "      <td>Dinner</td>\n",
       "      <td>4</td>\n",
       "      <td>0.146808</td>\n",
       "    </tr>\n",
       "  </tbody>\n",
       "</table>\n",
       "</div>"
      ],
      "text/plain": [
       "   total_bill   tip     sex smoker  day    time  size  tip_rate\n",
       "0       16.99  1.01  Female     No  Sun  Dinner     2  0.059447\n",
       "1       10.34  1.66    Male     No  Sun  Dinner     3  0.160542\n",
       "2       21.01  3.50    Male     No  Sun  Dinner     3  0.166587\n",
       "3       23.68  3.31    Male     No  Sun  Dinner     2  0.139780\n",
       "4       24.59  3.61  Female     No  Sun  Dinner     4  0.146808"
      ]
     },
     "execution_count": 2,
     "metadata": {},
     "output_type": "execute_result"
    }
   ],
   "source": [
    "# データセットダウンロード\n",
    "df = sns.load_dataset('tips')\n",
    "# チップ率というカラムを追加\n",
    "df['tip_rate'] = df[\"tip\"] / df[\"total_bill\"]\n",
    "df.head()"
   ]
  },
  {
   "cell_type": "code",
   "execution_count": null,
   "id": "9d86bae2-d390-4140-a665-4f3f04ac269c",
   "metadata": {},
   "outputs": [],
   "source": []
  },
  {
   "cell_type": "markdown",
   "id": "89d04c23-de1f-4cc9-bb55-4ed44b411032",
   "metadata": {},
   "source": [
    "## 比率の差の検定\n",
    "**何らかの施策の実施前と後で、比率に差があったかどうかを統計的に検定したいときに用いる**  \n",
    "例）自社のWebサイトにおいて，新しい施策をしたことによりクリック率が上がったかどうかを確かめたい"
   ]
  },
  {
   "cell_type": "markdown",
   "id": "e4646c6f-a464-47fa-91c7-eacd46d2c2bb",
   "metadata": {},
   "source": [
    "![比率の差の標本分布](image/比率の差の標本分布.jpg)"
   ]
  },
  {
   "cell_type": "code",
   "execution_count": 7,
   "id": "9fc283e7-76d9-43e9-87f8-3ea7db50d46e",
   "metadata": {},
   "outputs": [
    {
     "name": "stdout",
     "output_type": "stream",
     "text": [
      "Z検定\n",
      "z : -0.15358283506716305, p値:0.8779386719808685\n",
      "帰無仮説を否定できなかった\n"
     ]
    }
   ],
   "source": [
    "# 全データを母集団としたときに、2つのサンプルを取得し、2つのグループのディナーの比率の差を検定\n",
    "n = 100\n",
    "sampled_df_1 = df.sample(n)\n",
    "sampled_df_2 = df.sample(n)\n",
    "\n",
    "# Dinnerの比率\n",
    "dinner_count_1 = len(sampled_df_1[sampled_df_1['time'] == 'Dinner'])\n",
    "dinner_count_2 = len(sampled_df_2[sampled_df_2['time'] == 'Dinner'])\n",
    "\n",
    "# Z検定\n",
    "z_stats, p_value = proportions_ztest([dinner_count_1, dinner_count_2], [n, n])\n",
    "\n",
    "\"\"\"\n",
    "statsmodels.stats.proporRon.proporRons_ztest(count, nobs, alternaRve)\n",
    "- count: 標本の中で実際に観察できた数\n",
    "- nobs(the number of observa9ons): 標本の大きさ\n",
    "- alterna9ve: ‘two-sided’, ‘smaller’, ‘larger’ (’smaller’: p1 < p2, larger’: p1 > p2)\n",
    "\"\"\"\n",
    "# alternative: ‘two-sided’, ‘smaller’, ‘larger’\n",
    "# 片側検定の場合：(’smaller’: p1 < p2, larger’: p1 > p2)\n",
    "# 両側検定の場合：'two-sided'\n",
    "# 何らかの施策の実施前がsampled_df_1、実施後がsampled_df_2とすると、sampled_df_2の方がdinnerの比率が大きいことを期待している場合、alternative = 'smaller'となる（p1-p2はマイナスになることを期待）\n",
    "print(\"Z検定\")\n",
    "print(f\"z : {z_stats}, p値:{p_value}\")\n",
    "if p_value <= 0.025:\n",
    "    print(\"対立仮説を採用\")\n",
    "else:\n",
    "    print(\"帰無仮説を否定できなかった\")"
   ]
  },
  {
   "cell_type": "markdown",
   "id": "11b16d4c-dbdf-4e61-b246-f68d1ffa7641",
   "metadata": {},
   "source": [
    "## 平均値差の検定"
   ]
  },
  {
   "cell_type": "markdown",
   "id": "e45a961d-54ee-4d7a-8ee8-0e082a909695",
   "metadata": {},
   "source": [
    "#### 対応なしのT検定"
   ]
  },
  {
   "cell_type": "markdown",
   "id": "83069f02-9bdc-4dc8-93aa-32f9cc8808ed",
   "metadata": {},
   "source": [
    "![対応なしのt検定](image/対応なしのt検定.jpg)\n",
    "- 大標本であっても、pythonで検定を行う場合はt分布で普遍分散を用いて検定を行う\n",
    "- 等分散性について何か問題がある場合は、最初からウェルチのt検定を用いる\n",
    "    - 検定の重複に注意"
   ]
  },
  {
   "cell_type": "markdown",
   "id": "b5dd7ba5-b0b3-4001-9659-cc8cc108e04d",
   "metadata": {},
   "source": [
    "##### スチューデントのT検定"
   ]
  },
  {
   "cell_type": "code",
   "execution_count": 18,
   "id": "93899126-0434-4efe-9e34-b595430600d3",
   "metadata": {},
   "outputs": [
    {
     "name": "stdout",
     "output_type": "stream",
     "text": [
      "t値:-1.0833972270477996, p値:0.2797103849605489, 自由度:242.0\n"
     ]
    }
   ],
   "source": [
    "# 男性のチップを取得\n",
    "man_tip = df[df['sex'] == 'Male']['tip_rate']\n",
    "# 女性のチップを取得\n",
    "woman_tip = df[df['sex'] == 'Female']['tip_rate']\n",
    "\n",
    "# スチューデントのt検定\n",
    "result_1 = stats.ttest_ind(man_tip, woman_tip, equal_var = True)\n",
    "print(f\"t値:{result_1.statistic}, p値:{result_1.pvalue}, 自由度:{result_1.df}\")"
   ]
  },
  {
   "cell_type": "markdown",
   "id": "7eafa201-39bb-478f-a441-7ea168650350",
   "metadata": {},
   "source": [
    "##### ウェルチのT検定"
   ]
  },
  {
   "cell_type": "code",
   "execution_count": 20,
   "id": "13bb7afe-2c5a-4828-b2db-292bdccc94b6",
   "metadata": {},
   "outputs": [
    {
     "name": "stdout",
     "output_type": "stream",
     "text": [
      "t値:-1.1432770167349968, p値:0.2542456188927583, 自由度:206.75874799951296\n"
     ]
    }
   ],
   "source": [
    "result_2 = stats.ttest_ind(man_tip, woman_tip, equal_var = False)\n",
    "print(f\"t値:{result_2.statistic}, p値:{result_2.pvalue}, 自由度:{result_2.df}\")"
   ]
  },
  {
   "cell_type": "markdown",
   "id": "f0cdfb31-0706-42cf-9455-35577dfe3c29",
   "metadata": {},
   "source": [
    "##### Q-Qプロット\n",
    "Q-Qプロット（Quantile-Quantile Plot）は、データが特定の理論的な分布（例えば正規分布）に従っているかどうかを視覚的に確認するためのグラフである。具体的には、データの分位点と理論的な分布の分位点をプロットし、その結果を比較する。  \n",
    "\n",
    "- Q-Qプロットの概要\n",
    "    - X軸：理論的分布の分位点（例えば、正規分布の場合、標準正規分布の分位点）。\n",
    "    - Y軸：実際のデータの分位点。\n",
    "    - プロット上の点が理論的な分布に沿って直線的に並ぶ場合、データはその分布に従っていると言える。\n",
    "- Q-Qプロットの目的\n",
    "    - Q-Qプロットを使うことで、データが理論的な分布に従うかどうかを簡単に判断できる。もしプロットの点が直線的に並ぶなら、データはその理論的な分布（例えば正規分布）に近いと考えられ、直線から大きく外れている場合、データはその分布に従っていない可能性がある。"
   ]
  },
  {
   "cell_type": "code",
   "execution_count": 23,
   "id": "d00adb97-3214-4c90-881e-8e7780401558",
   "metadata": {},
   "outputs": [
    {
     "data": {
      "image/png": "[encoded data removed]",
      "text/plain": [
       "<Figure size 1200x600 with 2 Axes>"
      ]
     },
     "metadata": {},
     "output_type": "display_data"
    },
    {
     "data": {
      "text/plain": [
       "'\\n結果の解説\\n左側のプロット（正規分布に従うデータ）：\\nプロット上の点がほぼ直線的に並んでいます。これは、データが理論的な正規分布に従っていることを示しています。\\n右側のプロット（一様分布に従うデータ）：\\nプロット上の点が直線から大きく外れています。これは、データが正規分布に従っていないことを示しています。このデータは一様分布に従っているため、Q-Qプロットでは直線的な関係が崩れることになります。\\n\\nデータに外れ値が1つでもあると直線ではなくなってしまう可能性があります。\\n'"
      ]
     },
     "execution_count": 23,
     "metadata": {},
     "output_type": "execute_result"
    }
   ],
   "source": [
    "import numpy as np\n",
    "import matplotlib.pyplot as plt\n",
    "import scipy.stats as stats\n",
    "\n",
    "# 正規分布に従うランダムデータ\n",
    "np.random.seed(0)\n",
    "normal_data = np.random.normal(loc=0, scale=1, size=1000)\n",
    "\n",
    "# 一様分布に従うランダムデータ（正規分布ではない）\n",
    "uniform_data = np.random.uniform(low=-3, high=3, size=1000)\n",
    "\n",
    "# Q-Qプロットを描く\n",
    "fig, axes = plt.subplots(1, 2, figsize=(12, 6))\n",
    "\n",
    "# 正規分布に従うデータのQ-Qプロット\n",
    "stats.probplot(normal_data, dist=\"norm\", plot=axes[0])\n",
    "axes[0].set_title('Q-Q Plot for Normal Distribution')\n",
    "\n",
    "# 一様分布に従うデータのQ-Qプロット\n",
    "stats.probplot(uniform_data, dist=\"norm\", plot=axes[1])\n",
    "axes[1].set_title('Q-Q Plot for Uniform Distribution')\n",
    "\n",
    "plt.tight_layout()\n",
    "plt.show()\n",
    "\n",
    "\"\"\"\n",
    "結果の解説\n",
    "左側のプロット（正規分布に従うデータ）：\n",
    "プロット上の点がほぼ直線的に並んでいます。これは、データが理論的な正規分布に従っていることを示しています。\n",
    "右側のプロット（一様分布に従うデータ）：\n",
    "プロット上の点が直線から大きく外れています。これは、データが正規分布に従っていないことを示しています。このデータは一様分布に従っているため、Q-Qプロットでは直線的な関係が崩れることになります。\n",
    "\n",
    "データに外れ値が1つでもあると直線ではなくなってしまう可能性があります。\n",
    "\"\"\""
   ]
  },
  {
   "cell_type": "markdown",
   "id": "edebcba7-47ee-4641-ab02-120803a7e203",
   "metadata": {},
   "source": [
    "##### シャピロウィルク検定\n",
    "- シャピロ-ウィルク検定はQ-Qプロットにおいて，どれくらい直線からずれているかを検定する\n",
    "- 特に母集団が正規分布に従っているかどうかを検定する\n",
    "    - 多くの検定は正規分布に従っていることを仮定している\n",
    "- 標本の順序統計量と正規分布の順序統計量の期待値の相関を検定統計量にする\n",
    "- 検定方法\n",
    "    - 帰無仮説：母集団が正規分布に従う ← **つまり棄却することを狙っていない**\n",
    "    - 対立仮説：母集団が正規分布に従わない\n",
    "    - 「母集団が正規分布に従うという仮説を否定できなかった」という結論に持っていくことにモチベーションがある"
   ]
  },
  {
   "cell_type": "code",
   "execution_count": 29,
   "id": "d7aea4ba-5a6a-472c-b3a2-097890bf605c",
   "metadata": {},
   "outputs": [
    {
     "name": "stdout",
     "output_type": "stream",
     "text": [
      "検定統計量：0.744784334553468\n",
      "p値：3.2242405768357026e-15\n",
      "--------------------------------\n",
      "外れ値除外後\n",
      "検定統計量：0.9931073588892674\n",
      "p値：0.6645123250856151\n"
     ]
    }
   ],
   "source": [
    "male_tipr = df[df['sex'] == 'Male']['tip_rate']\n",
    "female_tipr = df[df['sex'] == 'Female']['tip_rate']\n",
    "\n",
    "# 男性のチップ率が正規分布に従っているかを検定\n",
    "result = stats.shapiro(male_tipr)\n",
    "\"\"\"\n",
    "• stats.shapiro(x)\n",
    "- データxに正規性があるかを検定する\n",
    "- 第一戻り値は検定統計値\n",
    "- 第二戻り値はp値\n",
    "\"\"\"\n",
    "print(f\"検定統計量：{result.statistic}\")\n",
    "print(f\"p値：{result.pvalue}\")\n",
    "print(\"--------------------------------\")\n",
    "print(f\"外れ値除外後\")\n",
    "result = stats.shapiro(np.sort(male_tipr)[:-1])\n",
    "print(f\"検定統計量：{result.statistic}\")\n",
    "print(f\"p値：{result.pvalue}\")"
   ]
  },
  {
   "cell_type": "markdown",
   "id": "1f7920d2-d9d4-4f23-966f-ff8d374af262",
   "metadata": {},
   "source": [
    "##### F検定\n",
    "- 2群の等分散性の検定を行う\n",
    "- 検定統計量には分散の比率を用いる\n",
    "    - 標本は標本分布に従って抽出されると考えると、標本の分散は確率変数であり、分散の比率も確率変数になる\n",
    "- 母集団は正規分布に従うことを仮定\n",
    "- 検定方法\n",
    "    - 帰無仮説：分散に差はない\n",
    "    - 対立仮説：分散に差はある"
   ]
  },
  {
   "cell_type": "markdown",
   "id": "916eda0c-54b8-4de8-a8b8-75b0ba84ccbc",
   "metadata": {},
   "source": [
    "![F分布](image/F分布.jpg)"
   ]
  },
  {
   "cell_type": "code",
   "execution_count": 32,
   "id": "ac5785a9-199a-4956-9c34-3aa80782f64e",
   "metadata": {},
   "outputs": [
    {
     "name": "stdout",
     "output_type": "stream",
     "text": [
      "男性のチップ率の不偏分散：0.004196172792769981\n",
      "女性のチップ率の不偏分散：0.002876362058404039\n",
      "F値 : 1.4588472200534603\n",
      "p値：0.027100863454374458\n"
     ]
    }
   ],
   "source": [
    "# F値を計算し、検定を行う\n",
    "print(f\"男性のチップ率の不偏分散：{stats.tvar(male_tipr)}\")\n",
    "print(f\"女性のチップ率の不偏分散：{stats.tvar(female_tipr)}\")\n",
    "f = stats.tvar(male_tipr) / stats.tvar(female_tipr) # 通常は大きい方を分子に置く\n",
    "print(f\"F値 : {f}\")\n",
    "p_value = stats.f(dfn = len(male_tipr)-1, dfd = len(female_tipr)-1).sf(f)\n",
    "print(f\"p値：{p_value}\")"
   ]
  },
  {
   "cell_type": "markdown",
   "id": "5a9caf31-b007-4396-924e-89dfa30bc071",
   "metadata": {},
   "source": [
    "#### 対応ありのT検定"
   ]
  },
  {
   "cell_type": "code",
   "execution_count": 33,
   "id": "bcc68600-dc09-4c79-895b-d22cccf14dd4",
   "metadata": {},
   "outputs": [
    {
     "data": {
      "text/html": [
       "<div>\n",
       "<style scoped>\n",
       "    .dataframe tbody tr th:only-of-type {\n",
       "        vertical-align: middle;\n",
       "    }\n",
       "\n",
       "    .dataframe tbody tr th {\n",
       "        vertical-align: top;\n",
       "    }\n",
       "\n",
       "    .dataframe thead th {\n",
       "        text-align: right;\n",
       "    }\n",
       "</style>\n",
       "<table border=\"1\" class=\"dataframe\">\n",
       "  <thead>\n",
       "    <tr style=\"text-align: right;\">\n",
       "      <th></th>\n",
       "      <th>patient</th>\n",
       "      <th>sex</th>\n",
       "      <th>agegrp</th>\n",
       "      <th>bp_before</th>\n",
       "      <th>bp_after</th>\n",
       "    </tr>\n",
       "  </thead>\n",
       "  <tbody>\n",
       "    <tr>\n",
       "      <th>0</th>\n",
       "      <td>1</td>\n",
       "      <td>Male</td>\n",
       "      <td>30-45</td>\n",
       "      <td>143</td>\n",
       "      <td>153</td>\n",
       "    </tr>\n",
       "    <tr>\n",
       "      <th>1</th>\n",
       "      <td>2</td>\n",
       "      <td>Male</td>\n",
       "      <td>30-45</td>\n",
       "      <td>163</td>\n",
       "      <td>170</td>\n",
       "    </tr>\n",
       "    <tr>\n",
       "      <th>2</th>\n",
       "      <td>3</td>\n",
       "      <td>Male</td>\n",
       "      <td>30-45</td>\n",
       "      <td>153</td>\n",
       "      <td>168</td>\n",
       "    </tr>\n",
       "    <tr>\n",
       "      <th>3</th>\n",
       "      <td>4</td>\n",
       "      <td>Male</td>\n",
       "      <td>30-45</td>\n",
       "      <td>153</td>\n",
       "      <td>142</td>\n",
       "    </tr>\n",
       "    <tr>\n",
       "      <th>4</th>\n",
       "      <td>5</td>\n",
       "      <td>Male</td>\n",
       "      <td>30-45</td>\n",
       "      <td>146</td>\n",
       "      <td>141</td>\n",
       "    </tr>\n",
       "  </tbody>\n",
       "</table>\n",
       "</div>"
      ],
      "text/plain": [
       "   patient   sex agegrp  bp_before  bp_after\n",
       "0        1  Male  30-45        143       153\n",
       "1        2  Male  30-45        163       170\n",
       "2        3  Male  30-45        153       168\n",
       "3        4  Male  30-45        153       142\n",
       "4        5  Male  30-45        146       141"
      ]
     },
     "execution_count": 33,
     "metadata": {},
     "output_type": "execute_result"
    }
   ],
   "source": [
    "blood_df = pd.read_csv('/work/MLnote/statistics/dataset/blood_pressure.csv')\n",
    "blood_df.head()"
   ]
  },
  {
   "cell_type": "code",
   "execution_count": 37,
   "id": "975e72f9-5d28-49e1-af63-1cfe1458bb79",
   "metadata": {},
   "outputs": [
    {
     "name": "stdout",
     "output_type": "stream",
     "text": [
      "施術前：156.45\n",
      "施術後：151.35833333333332\n",
      "t値：3.3371870510833657\n",
      "p値：0.0005648957322420411\n"
     ]
    }
   ],
   "source": [
    "print(f\"施術前：{blood_df['bp_before'].mean()}\")\n",
    "print(f\"施術後：{blood_df['bp_after'].mean()}\")\n",
    "# 血圧の施術前後の差を検定\n",
    "result = stats.ttest_rel(blood_df['bp_before'], blood_df['bp_after'], alternative='greater') # 血圧は下がってほしいことを期待しているので、前-後>0となるのでgreaterを指定する\n",
    "print(f\"t値：{result.statistic}\")\n",
    "print(f\"p値：{result.pvalue}\")"
   ]
  },
  {
   "cell_type": "markdown",
   "id": "ea756f66-e0d3-4aee-b532-6710bbbe4465",
   "metadata": {},
   "source": [
    "## 検定力分析"
   ]
  },
  {
   "cell_type": "markdown",
   "id": "e84af666-f83e-491e-a718-f5c92cf4fb7f",
   "metadata": {},
   "source": [
    "### 検定力"
   ]
  },
  {
   "cell_type": "markdown",
   "id": "69141caf-8f40-4a01-a500-0fab6d57b57a",
   "metadata": {},
   "source": [
    "![検定力](image/検定力.jpg)"
   ]
  },
  {
   "cell_type": "markdown",
   "id": "d1b3c69b-a141-4674-b999-61f0704c67f6",
   "metadata": {},
   "source": [
    "- 検定力の構成要素\n",
    "    - 有意水準\n",
    "        - 基本的に有意水準は0.05か0.01で行う。検定力を上げるために有意水準を操作するのはNG。\n",
    "    - サンプルサイズ\n",
    "        - サンプルサイズを大きくすると検定力も高まる\n",
    "        - サンプルを増やすと標本平均は母集団の平均に近づいていき、標本の分散も小さくなるので、より尖った分布になる → 帰無分布と対立分布に差ができるので検定力が高まる\n",
    "        - **サンプルサイズが大きすぎると少しの差でも有意差が出てしまうので、本来やりたかった検定の目的とは外れてしまう**\n",
    "    - 帰無分布と対立分布の差（効果量）\n",
    "        - 検出したい差が大きければ大きいほど検定力は高くなる"
   ]
  },
  {
   "cell_type": "markdown",
   "id": "4adb83a7-6bb0-4c74-9c95-70ff1ce7006a",
   "metadata": {},
   "source": [
    "![サンプルサイズの問題](image/検定力_サンプルサイズ.jpg)"
   ]
  },
  {
   "cell_type": "markdown",
   "id": "06acf54b-6c72-463f-91da-ddc52ed86aea",
   "metadata": {},
   "source": [
    "![検定力の構成図](image/検定力の構成図.jpg)"
   ]
  },
  {
   "cell_type": "markdown",
   "id": "eecd8386-ba86-4802-818f-cd26a7102069",
   "metadata": {},
   "source": [
    "### 検定力分析"
   ]
  },
  {
   "cell_type": "markdown",
   "id": "6dec3838-b417-4ee6-8199-de658ec9272e",
   "metadata": {},
   "source": [
    "#### 効果量の計算\n",
    "- 効果量とは検定で明らかにしたい2群の差の量\n",
    "    - 標準偏差はどれくらい離れているのかで測る\n",
    "- 使用場面例\n",
    "    - メール配信施策において、何らかの最適化施策を実施し、その施策の実施前と後でどれだけ施策の効果があったかを検定する時。"
   ]
  },
  {
   "cell_type": "code",
   "execution_count": 38,
   "id": "34ca952a-a6ca-4694-b47e-7507a56cda09",
   "metadata": {},
   "outputs": [],
   "source": [
    "def cohen_d(x1, x2):\n",
    "    n1 = len(x1)\n",
    "    n2 = len(x2)\n",
    "    dof = n1+n2-2\n",
    "    std = np.sqrt(((n1-1)*stats.tvar(x1)+(n2-1)*stats.tvar(x2))/dof)\n",
    "    x1_mean = np.mean(x1)\n",
    "    x2_mean = np.mean(x2)\n",
    "    return np.abs((x1_mean - x2_mean))/std"
   ]
  },
  {
   "cell_type": "code",
   "execution_count": 39,
   "id": "118de245-744e-4a0b-b6b1-17a306dbf83f",
   "metadata": {},
   "outputs": [
    {
     "data": {
      "text/plain": [
       "np.float64(0.14480153987269387)"
      ]
     },
     "execution_count": 39,
     "metadata": {},
     "output_type": "execute_result"
    }
   ],
   "source": [
    "male_tip_rate = df[df['sex'] == 'Male']['tip_rate']\n",
    "female_tip_rate = df[df['sex'] == 'Female']['tip_rate']\n",
    "cohen_d(male_tip_rate, female_tip_rate)"
   ]
  },
  {
   "cell_type": "code",
   "execution_count": 42,
   "id": "8deabd92-781d-4e57-b9bc-1a5a86f92792",
   "metadata": {},
   "outputs": [
    {
     "name": "stdout",
     "output_type": "stream",
     "text": [
      "検定力：0.19038260700802495\n"
     ]
    }
   ],
   "source": [
    "\"\"\"\n",
    "有意水準，効果量，検定力，サンプルサイズを残りの値から算出する\n",
    "• statsmodels.stats.power.TTestIndPowerクラス\n",
    "• power = TTestIndPower()でインスタンス化\n",
    "• .solve_power(effect_size, nobs1, alpha, power, ratio, alternative)\n",
    "• eﬀect_size: 効果量 (cohen’s d)\n",
    "• nobs1: 標本1のサイズ\n",
    "• alpha: 有意水準 (ex. 0.05)\n",
    "• power: 検定力\n",
    "• ratio: 標本1に対する標本2の大きさ\n",
    "• alternative: ‘two-sided’, ‘smaller’, ‘larger’\n",
    "• 算出したいパラメータをNoneにする \n",
    "\"\"\"\n",
    "\n",
    "# インスタンスを作成\n",
    "power = TTestIndPower()\n",
    "effect_size = cohen_d(male_tip_rate, female_tip_rate)\n",
    "n1 = len(male_tip_rate)\n",
    "n2 = len(female_tip_rate)\n",
    "stats_power = power.solve_power(effect_size = effect_size, nobs1 = n1, alpha = 0.05, power = None, ratio = n2/n1)\n",
    "print(f\"検定力：{stats_power}\")"
   ]
  },
  {
   "cell_type": "code",
   "execution_count": 43,
   "id": "6b3947c4-6320-45f8-bb6f-36e50cee2a69",
   "metadata": {},
   "outputs": [
    {
     "name": "stdout",
     "output_type": "stream",
     "text": [
      "749.6312654614109\n"
     ]
    }
   ],
   "source": [
    "# 検定力は0.8を目指す\n",
    "# 有意水準0.05、検定力0.8の時に必要なサンプルサイズ\n",
    "male_size = power.solve_power(effect_size = effect_size, nobs1 = None, alpha = 0.05, power = 0.8, ratio = 1)\n",
    "print(male_size)"
   ]
  },
  {
   "cell_type": "markdown",
   "id": "7669affd-6e14-4a90-bc5f-94817a7ad06c",
   "metadata": {},
   "source": [
    "- もし手元にデータがない場合は、今までの経験やドメイン知識から効果量を仮定する\n",
    "- サンプル比率も同様"
   ]
  },
  {
   "cell_type": "code",
   "execution_count": 44,
   "id": "d28acd04-140d-41af-b19c-13d33e5bea88",
   "metadata": {},
   "outputs": [
    {
     "data": {
      "text/plain": [
       "393.4056989990335"
      ]
     },
     "execution_count": 44,
     "metadata": {},
     "output_type": "execute_result"
    }
   ],
   "source": [
    "power.solve_power(effect_size = 0.2, nobs1 = None, alpha = 0.05, power = 0.8, ratio = 1) # ratio=1は比率が同じくらい"
   ]
  },
  {
   "cell_type": "markdown",
   "id": "b83f549e-eb3a-4cd4-9c37-c6ec37737a92",
   "metadata": {},
   "source": [
    "#### 検定力の推移"
   ]
  },
  {
   "cell_type": "code",
   "execution_count": 48,
   "id": "7bf98b5c-2996-4033-b9f5-6c46d85f91ba",
   "metadata": {},
   "outputs": [
    {
     "data": {
      "image/png": "[encoded data removed]",
      "text/plain": [
       "<Figure size 640x480 with 1 Axes>"
      ]
     },
     "metadata": {},
     "output_type": "display_data"
    }
   ],
   "source": [
    "fig = power.plot_power(dep_var = 'nobs', nobs = np.array(range(5, 100)), effect_size = [0.2, 0.5, 0.8], alpha = 0.05)"
   ]
  },
  {
   "cell_type": "markdown",
   "id": "98ffcbf1-0d5b-4b57-ae9a-6a868a7096d9",
   "metadata": {},
   "source": [
    "## データ間の関係性について"
   ]
  },
  {
   "cell_type": "markdown",
   "id": "0c10ecb9-b698-4739-ab9c-603bacc496b6",
   "metadata": {},
   "source": [
    "### カイ二乗検定(連関の検定)\n",
    "**2つのカテゴリ変数間に相関関係があるかどうかを検定**  \n",
    "• 帰無仮説には「連関がない(=独立)」  \n",
    "• 対立仮説には「連関がある(=独立ではない)」"
   ]
  },
  {
   "cell_type": "markdown",
   "id": "047a01d7-c83a-4763-b39a-c32b76754950",
   "metadata": {},
   "source": [
    "![カイ二乗分布](image/カイ二乗分布.jpg)"
   ]
  },
  {
   "cell_type": "code",
   "execution_count": 12,
   "id": "c86c3893-9568-43f3-be01-4c49229ff269",
   "metadata": {},
   "outputs": [
    {
     "name": "stdout",
     "output_type": "stream",
     "text": [
      "カイ2乗検定\n",
      "カイ2乗値：0.2761159687068569, p値：0.5992583230406663\n",
      "帰無仮説を否定できなかった\n"
     ]
    }
   ],
   "source": [
    "# 全データを母集団としたときに、2つのサンプルを取得し、2つのグループのディナーの比率の差を検定\n",
    "n = 100\n",
    "sampled_df_1 = df.sample(n)\n",
    "sampled_df_2 = df.sample(n)\n",
    "\n",
    "# Dinnerの比率\n",
    "dinner_count_1 = len(sampled_df_1[sampled_df_1['time'] == 'Dinner'])\n",
    "dinner_count_2 = len(sampled_df_2[sampled_df_2['time'] == 'Dinner'])\n",
    "\n",
    "# カイ2乗検定\n",
    "chi2, p, dof, ex = stats.chi2_contingency([[dinner_count_1, n - dinner_count_1], [dinner_count_2, n - dinner_count_2]], correction = False)\n",
    "\"\"\"\n",
    "chi2, p, dof, ex = stats.chi2_conRngency(obs, correcRon=False)\n",
    "- obs: 観測度数\n",
    "- correc9on: イェイツの修正(通常はFalseでOK)\n",
    "※イェイツの修正とは、通常のカイ二乗検定よりp値を高く出やすくしたもの（有意差が出やすいのではないかという主張があった）\n",
    "\"\"\"\n",
    "print(\"カイ2乗検定\")\n",
    "print(f\"カイ2乗値：{chi2}, p値：{p}\")\n",
    "if p_value <= 0.05:\n",
    "    print(\"対立仮説を採用\")\n",
    "else:\n",
    "    print(\"帰無仮説を否定できなかった\")"
   ]
  },
  {
   "cell_type": "markdown",
   "id": "c2d41dae-a36e-4e91-ab84-6b6e5ef511da",
   "metadata": {},
   "source": [
    "### クラメールの連関係数"
   ]
  },
  {
   "cell_type": "markdown",
   "id": "4afd5edb-49d7-449c-a892-aacc0fbd0601",
   "metadata": {},
   "source": [
    "![クラメールの連関係数](image/クラメールの連関係数.jpg)"
   ]
  },
  {
   "cell_type": "markdown",
   "id": "d1b28111-6659-435a-9ce1-3ea93d82a9d7",
   "metadata": {},
   "source": [
    "### アソシエーション分析（association analysis）\n",
    "**ある事象とある事象の共起性や関係性などの法則を見つける分析手法。**  \n",
    "例) 商品の購入データを元に「xを買った人はyも買っている」などの法則を見つける  \n",
    "##### 取り組み方\n",
    "1. 共起性を調べたいのか、x→yのような関係性を調べたいのかという部分を定める\n",
    "2. 共起性であれば共起性を示す指標を一通り出す。関係性であれば、事象同士の関係性を示す指標を一通り出す。\n",
    "3. 複数の指標を複合的に見ることで、法則性や因果関係などの解釈を行う。\n",
    "    - 指標によって結果が違う場合がある。これはどちらかの指標が誤りということではなく、それぞれ別の視点からの解釈を与えてくれるものである。  \n",
    "        - confidenceは大きいがliftはほぼ1である時、これはxの購入の有無に左右されることなくyを購入する人が多い。\n",
    "        - liftが大きくconfidenceが小さい時、全体のyの購入の割合はconfidenceをliftで割って計算できるので、yの購買件数が少ないことが分かる。つまり商品xは商品yを買ってもらうために非常に重要な商品である可能性が分かる。"
   ]
  },
  {
   "cell_type": "markdown",
   "id": "65871cad-38d1-4120-b398-bde1cdfdf3ca",
   "metadata": {},
   "source": [
    "#### 類似度・関連性指標まとめ\n",
    "\n",
    "| 指標名 | 定義 | 特徴 | 値の範囲 |\n",
    "|--------|------|------|----------|\n",
    "| **Jaccard係数** | $\\frac{\\left| X \\cap Y \\right|}{\\left| X \\cup Y \\right|}$ | 0の場合は同時が無いことを表し、1に近づくについて同時が多いことを表す | $[0,1]$ |\n",
    "| **Dice係数** | $\\frac{2 \\left| X \\cap Y \\right|}{\\left| X \\right| + \\left| Y \\right|}$ | 0の場合は同時が無いことを表し、1に近づくについて同時が多いことを表す | $[0,1]$ |\n",
    "| **Cosine類似度** | $\\frac{\\left| X \\cap Y \\right|}{\\sqrt{\\left| X \\right| + \\left| Y \\right|}}$ | 0の場合は同時が無いことを表し、1に近づくについて同時が多いことを表す | $[0,1]$ | \n",
    "| **Simpson係数** | $\\frac{\\left| X \\cap Y \\right|}{\\min(\\left| X \\right|, \\left| Y \\right|)}$ | 0の場合は同時が無いことを表し、1に近づくについて同時が多いことを表す | $[0,1]$ | \n",
    "| **Leverage** | $P(X \\cap Y) - P(X) P(Y)$ | XとYの独立性に関する指標。0であれば独立、正であれば同時、負であれば同時にされない。 | $[\\frac{-1}{4},\\frac{1}{4}]$ | \n",
    "| **Confidence** | $Confidence(X \\to Y) = \\frac{\\left| X \\cap Y \\right|}{\\left| X \\right|}$ | Xをした人の中でYをした人の割合。 | $[0,1]$ | \n",
    "| **Lift** | $Lift(X \\to Y) = \\frac{\\frac{\\left| X \\cap Y \\right|}{\\left| X \\right|}}{\\frac{\\left| Y \\right|}{\\left| U \\right|}}$ | XをしたことによってYをする確率が何倍になるかを表した指標。 | $[0, \\infty)$ |\n",
    "| **Conviction** | $Conviction(X \\to Y) = \\frac{1-\\frac{\\left| Y \\right|}{\\left| U \\right|}}{1-\\frac{\\left| X \\cap Y \\right|}{\\left| X \\right|}}$ | XをしたことによってYをしない確率が何倍になるかを表した指標。 | $[1, \\infty)$ |\n",
    "\n"
   ]
  },
  {
   "cell_type": "markdown",
   "id": "44d05855-73fd-4879-994d-0fc37c6253a3",
   "metadata": {},
   "source": [
    "#### 実装"
   ]
  },
  {
   "cell_type": "code",
   "execution_count": 13,
   "id": "5985304d-a38f-4c09-955b-b54a7a943e69",
   "metadata": {},
   "outputs": [],
   "source": [
    "# 実際に実務で取り組んでみたら、その内容を追記する"
   ]
  },
  {
   "cell_type": "code",
   "execution_count": 17,
   "id": "3651ae5c-fc99-41d6-adc2-062cc3abaa78",
   "metadata": {},
   "outputs": [
    {
     "name": "stdout",
     "output_type": "stream",
     "text": [
      "Jaccard Index: 0.3333333333333333\n",
      "Dice Coefficient: 0.5\n",
      "Cosine Similarity: 0.9746318461970762\n",
      "Simpson Index: 0.5\n",
      "Leverage: 0.03999999999999998\n",
      "Confidence: 0.5\n",
      "Lift: 1.25\n",
      "Conviction: 1.2\n"
     ]
    }
   ],
   "source": [
    "# 以下はChatGPTの内容。正しいかどうかは検証が必要。\n",
    "import numpy as np\n",
    "\n",
    "# Jaccard係数の計算\n",
    "def jaccard_index(set1, set2):\n",
    "    intersection = len(set1.intersection(set2))\n",
    "    union = len(set1.union(set2))\n",
    "    return intersection / union if union != 0 else 0\n",
    "\n",
    "# Dice係数の計算\n",
    "def dice_coefficient(set1, set2):\n",
    "    intersection = len(set1.intersection(set2))\n",
    "    return 2 * intersection / (len(set1) + len(set2)) if len(set1) + len(set2) != 0 else 0\n",
    "\n",
    "# Cosine類似度の計算\n",
    "def cosine_similarity(vec1, vec2):\n",
    "    dot_product = np.dot(vec1, vec2)\n",
    "    norm1 = np.linalg.norm(vec1)\n",
    "    norm2 = np.linalg.norm(vec2)\n",
    "    return dot_product / (norm1 * norm2) if norm1 != 0 and norm2 != 0 else 0\n",
    "\n",
    "# Simpson係数の計算\n",
    "def simpson_index(set1, set2):\n",
    "    intersection = len(set1.intersection(set2))\n",
    "    return intersection / min(len(set1), len(set2)) if min(len(set1), len(set2)) != 0 else 0\n",
    "\n",
    "# Leverageの計算\n",
    "def leverage(set1, set2, total_elements):\n",
    "    # Leverage = P(X ∩ Y) - P(X) * P(Y)\n",
    "    intersection = len(set1.intersection(set2)) / total_elements\n",
    "    probability_x = len(set1) / total_elements\n",
    "    probability_y = len(set2) / total_elements\n",
    "    leverage_value = intersection - probability_x * probability_y\n",
    "    return leverage_value  # -1/4〜1/4の範囲に収まる\n",
    "\n",
    "# Confidenceの計算\n",
    "def confidence(set1, set2):\n",
    "    # Confidence(X -> Y) = P(Y | X) = |X ∩ Y| / |X|\n",
    "    intersection = len(set1.intersection(set2))\n",
    "    return intersection / len(set1) if len(set1) != 0 else 0\n",
    "\n",
    "# Liftの計算\n",
    "def lift(set1, set2, total_elements):\n",
    "    # Lift(X -> Y) = (|X ∩ Y| / |X|) / (|Y| / |U|)\n",
    "    intersection = len(set1.intersection(set2))\n",
    "    probability_x_given_y = intersection / len(set1) if len(set1) != 0 else 0\n",
    "    probability_y = len(set2) / total_elements\n",
    "    return probability_x_given_y / probability_y if probability_y != 0 else 0\n",
    "\n",
    "# Convictionの計算\n",
    "def conviction(set1, set2, total_elements):\n",
    "    # Conviction(X -> Y) = (1 - P(Y)) / (1 - P(X ∩ Y | X))\n",
    "    probability_y = len(set2) / total_elements\n",
    "    intersection = len(set1.intersection(set2)) / len(set1) if len(set1) != 0 else 0\n",
    "    return (1 - probability_y) / (1 - intersection) if (1 - intersection) != 0 else 0\n",
    "\n",
    "# 使用例\n",
    "set1 = {1, 2, 3, 4}\n",
    "set2 = {3, 4, 5, 6}\n",
    "total_elements = 10  # 総要素数（Uのサイズ）\n",
    "\n",
    "print(\"Jaccard Index:\", jaccard_index(set1, set2))\n",
    "print(\"Dice Coefficient:\", dice_coefficient(set1, set2))\n",
    "print(\"Cosine Similarity:\", cosine_similarity(np.array([1, 2, 3]), np.array([4, 5, 6])))\n",
    "print(\"Simpson Index:\", simpson_index(set1, set2))\n",
    "print(\"Leverage:\", leverage(set1, set2, total_elements))\n",
    "print(\"Confidence:\", confidence(set1, set2))\n",
    "print(\"Lift:\", lift(set1, set2, total_elements))\n",
    "print(\"Conviction:\", conviction(set1, set2, total_elements))\n"
   ]
  },
  {
   "cell_type": "markdown",
   "id": "93f56980-e90a-47f5-ac2b-9fc8cb608bb6",
   "metadata": {},
   "source": [
    "### 数量化理論\n",
    "[AIcia Solid Projectさんの動画](https://youtube.com/playlist?list=PLhDAH9aTfnxJGiLwq2CRS87J51ZPU5IEM&si=3t9eON176PseP29N)"
   ]
  },
  {
   "cell_type": "markdown",
   "id": "9facf967-5ba2-4c13-958e-5eba0323438e",
   "metadata": {},
   "source": [
    "#### 数量化Ⅰ類"
   ]
  },
  {
   "cell_type": "code",
   "execution_count": null,
   "id": "16db23eb-ae24-4878-8326-486210b4d9f3",
   "metadata": {},
   "outputs": [],
   "source": []
  },
  {
   "cell_type": "code",
   "execution_count": null,
   "id": "fe315a62-3903-42e3-aba4-f7da28650796",
   "metadata": {},
   "outputs": [],
   "source": []
  },
  {
   "cell_type": "code",
   "execution_count": null,
   "id": "5d9b34cb-b8e3-487b-a04b-861214655f08",
   "metadata": {},
   "outputs": [],
   "source": []
  },
  {
   "cell_type": "code",
   "execution_count": null,
   "id": "79306219-7ac3-4c11-8ec8-f65cbcfbd129",
   "metadata": {},
   "outputs": [],
   "source": []
  },
  {
   "cell_type": "code",
   "execution_count": null,
   "id": "f5640e77-a496-418d-98e6-0fbcff264561",
   "metadata": {},
   "outputs": [],
   "source": []
  },
  {
   "cell_type": "markdown",
   "id": "9573c5d3-7c96-4026-b155-3da9e9a224e0",
   "metadata": {},
   "source": [
    "#### 数量化Ⅱ類"
   ]
  },
  {
   "cell_type": "code",
   "execution_count": null,
   "id": "1fea2b64-60d2-49ac-8470-2945fd107f72",
   "metadata": {},
   "outputs": [],
   "source": []
  },
  {
   "cell_type": "code",
   "execution_count": null,
   "id": "9ecd1f2a-82ec-4fe8-87bb-90cf3e9fdf0f",
   "metadata": {},
   "outputs": [],
   "source": []
  },
  {
   "cell_type": "code",
   "execution_count": null,
   "id": "f1a6017d-814d-48a7-a1f3-d00035c19fc4",
   "metadata": {},
   "outputs": [],
   "source": []
  },
  {
   "cell_type": "code",
   "execution_count": null,
   "id": "63003682-833e-4931-8e59-01d2c7dccc83",
   "metadata": {},
   "outputs": [],
   "source": []
  },
  {
   "cell_type": "code",
   "execution_count": null,
   "id": "404cbe73-0857-4c8c-827e-78ce991afbe3",
   "metadata": {},
   "outputs": [],
   "source": []
  },
  {
   "cell_type": "code",
   "execution_count": null,
   "id": "36608e71-b73f-46a6-a18b-26a701d0e9be",
   "metadata": {},
   "outputs": [],
   "source": []
  },
  {
   "cell_type": "markdown",
   "id": "cca133bd-affd-434a-a7ca-6edf39822214",
   "metadata": {},
   "source": [
    "#### 数量化Ⅲ類"
   ]
  },
  {
   "cell_type": "code",
   "execution_count": null,
   "id": "b9dc2020-86ac-46e5-9fcf-3e0deee2716c",
   "metadata": {},
   "outputs": [],
   "source": []
  },
  {
   "cell_type": "code",
   "execution_count": null,
   "id": "d7a3c5c2-5858-45f0-a414-e06a843e33cc",
   "metadata": {},
   "outputs": [],
   "source": []
  },
  {
   "cell_type": "code",
   "execution_count": null,
   "id": "282bd18d-4ecf-4eee-8ede-a9536a2d8b11",
   "metadata": {},
   "outputs": [],
   "source": []
  },
  {
   "cell_type": "code",
   "execution_count": null,
   "id": "46da4486-4253-4bc3-abb3-491c912bc41f",
   "metadata": {},
   "outputs": [],
   "source": []
  },
  {
   "cell_type": "code",
   "execution_count": null,
   "id": "fc076ffe-0efd-4c16-bb18-9a948697dae4",
   "metadata": {},
   "outputs": [],
   "source": []
  },
  {
   "cell_type": "code",
   "execution_count": null,
   "id": "41da32e5-9717-4a1e-905a-71dd9c31a200",
   "metadata": {},
   "outputs": [],
   "source": []
  },
  {
   "cell_type": "markdown",
   "id": "74f95a89-9922-4b68-b2d6-b70d0fd201be",
   "metadata": {},
   "source": [
    "#### 数量化Ⅳ類"
   ]
  },
  {
   "cell_type": "code",
   "execution_count": null,
   "id": "58d10b0a-108e-4a00-8fe7-d7ac2e8fda02",
   "metadata": {},
   "outputs": [],
   "source": []
  },
  {
   "cell_type": "code",
   "execution_count": null,
   "id": "3e9e7a96-7a5d-4410-8aa3-b6919defd2fa",
   "metadata": {},
   "outputs": [],
   "source": []
  },
  {
   "cell_type": "code",
   "execution_count": null,
   "id": "d81646de-7baa-42ce-a5e6-6fd5b61a9334",
   "metadata": {},
   "outputs": [],
   "source": []
  },
  {
   "cell_type": "code",
   "execution_count": null,
   "id": "83987811-911e-45f2-9a15-b47d2bf2b6a3",
   "metadata": {},
   "outputs": [],
   "source": []
  },
  {
   "cell_type": "markdown",
   "id": "31d6cdb2-e1cc-4c73-be4e-69f612bc53ef",
   "metadata": {},
   "source": [
    "## appendix"
   ]
  },
  {
   "cell_type": "markdown",
   "id": "334ce29b-296a-48f7-af33-042925d40da5",
   "metadata": {},
   "source": [
    "### 標本分布"
   ]
  },
  {
   "cell_type": "markdown",
   "id": "f79bbbe2-9cc3-4e9f-abc8-79624daf8d83",
   "metadata": {},
   "source": [
    "![標本分布](image/標本分布.jpg)"
   ]
  },
  {
   "cell_type": "markdown",
   "id": "6dccafe5-7a19-41dd-bacb-e7adb11e0834",
   "metadata": {},
   "source": [
    "### 確率分布"
   ]
  },
  {
   "cell_type": "markdown",
   "id": "0045723f-671b-42d7-be45-95f236ba8124",
   "metadata": {},
   "source": [
    "![確率分布](image/確率分布.jpg)"
   ]
  },
  {
   "cell_type": "code",
   "execution_count": null,
   "id": "76640d3a-6136-4192-bde4-023208256379",
   "metadata": {},
   "outputs": [],
   "source": []
  }
 ],
 "metadata": {
  "kernelspec": {
   "display_name": "Python 3 (ipykernel)",
   "language": "python",
   "name": "python3"
  },
  "language_info": {
   "codemirror_mode": {
    "name": "ipython",
    "version": 3
   },
   "file_extension": ".py",
   "mimetype": "text/x-python",
   "name": "python",
   "nbconvert_exporter": "python",
   "pygments_lexer": "ipython3",
   "version": "3.10.12"
  }
 },
 "nbformat": 4,
 "nbformat_minor": 5
}
