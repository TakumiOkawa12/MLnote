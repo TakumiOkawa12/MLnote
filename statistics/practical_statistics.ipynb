{
 "cells": [
  {
   "cell_type": "markdown",
   "id": "85db3a77-13ca-4a6a-83d2-37db8f165171",
   "metadata": {},
   "source": [
    "# 実践的な分析\n",
    "- 実務で使えそうな統計的な手法や分析方法についてまとめる\n",
    "- 実際の実務で本ノートブックを見れば使える状態を目指す\n",
    "- 記述統計や検定の基本的な考え方などについては省略"
   ]
  },
  {
   "cell_type": "markdown",
   "id": "0e1790bb-a141-4923-ba2b-d141be44ede4",
   "metadata": {},
   "source": [
    "## 目次\n",
    "1. 比率の差の検定\n",
    "2. 平均値差の検定\n",
    "3. 検定力分析\n",
    "4. データ間の関係性に関する分析\n",
    "    - カイ二乗検定\n",
    "    - アソシエーション分析\n",
    "    - 数量化理論\n",
    "5. クラスタリング\n",
    "6. 回帰分析"
   ]
  },
  {
   "cell_type": "markdown",
   "id": "2a8032fb-6f87-4510-8640-fc295397d231",
   "metadata": {},
   "source": [
    "## 準備"
   ]
  },
  {
   "cell_type": "code",
   "execution_count": 26,
   "id": "231271ad-fea1-413a-94e3-32ff65f90cd7",
   "metadata": {},
   "outputs": [],
   "source": [
    "import pandas as pd\n",
    "import numpy as np\n",
    "import seaborn as sns\n",
    "from sklearn.preprocessing import StandardScaler\n",
    "from statsmodels.stats.proportion import proportions_ztest\n",
    "from statsmodels.api import qqplot\n",
    "from scipy import stats\n",
    "from statsmodels.stats.power import TTestIndPower\n",
    "import matplotlib.pyplot as plt\n",
    "from adjustText import adjust_text"
   ]
  },
  {
   "cell_type": "code",
   "execution_count": 2,
   "id": "57158367-b01c-4cc9-bc72-bc7738844cc2",
   "metadata": {},
   "outputs": [
    {
     "data": {
      "text/html": [
       "<div>\n",
       "<style scoped>\n",
       "    .dataframe tbody tr th:only-of-type {\n",
       "        vertical-align: middle;\n",
       "    }\n",
       "\n",
       "    .dataframe tbody tr th {\n",
       "        vertical-align: top;\n",
       "    }\n",
       "\n",
       "    .dataframe thead th {\n",
       "        text-align: right;\n",
       "    }\n",
       "</style>\n",
       "<table border=\"1\" class=\"dataframe\">\n",
       "  <thead>\n",
       "    <tr style=\"text-align: right;\">\n",
       "      <th></th>\n",
       "      <th>total_bill</th>\n",
       "      <th>tip</th>\n",
       "      <th>sex</th>\n",
       "      <th>smoker</th>\n",
       "      <th>day</th>\n",
       "      <th>time</th>\n",
       "      <th>size</th>\n",
       "      <th>tip_rate</th>\n",
       "    </tr>\n",
       "  </thead>\n",
       "  <tbody>\n",
       "    <tr>\n",
       "      <th>0</th>\n",
       "      <td>16.99</td>\n",
       "      <td>1.01</td>\n",
       "      <td>Female</td>\n",
       "      <td>No</td>\n",
       "      <td>Sun</td>\n",
       "      <td>Dinner</td>\n",
       "      <td>2</td>\n",
       "      <td>0.059447</td>\n",
       "    </tr>\n",
       "    <tr>\n",
       "      <th>1</th>\n",
       "      <td>10.34</td>\n",
       "      <td>1.66</td>\n",
       "      <td>Male</td>\n",
       "      <td>No</td>\n",
       "      <td>Sun</td>\n",
       "      <td>Dinner</td>\n",
       "      <td>3</td>\n",
       "      <td>0.160542</td>\n",
       "    </tr>\n",
       "    <tr>\n",
       "      <th>2</th>\n",
       "      <td>21.01</td>\n",
       "      <td>3.50</td>\n",
       "      <td>Male</td>\n",
       "      <td>No</td>\n",
       "      <td>Sun</td>\n",
       "      <td>Dinner</td>\n",
       "      <td>3</td>\n",
       "      <td>0.166587</td>\n",
       "    </tr>\n",
       "    <tr>\n",
       "      <th>3</th>\n",
       "      <td>23.68</td>\n",
       "      <td>3.31</td>\n",
       "      <td>Male</td>\n",
       "      <td>No</td>\n",
       "      <td>Sun</td>\n",
       "      <td>Dinner</td>\n",
       "      <td>2</td>\n",
       "      <td>0.139780</td>\n",
       "    </tr>\n",
       "    <tr>\n",
       "      <th>4</th>\n",
       "      <td>24.59</td>\n",
       "      <td>3.61</td>\n",
       "      <td>Female</td>\n",
       "      <td>No</td>\n",
       "      <td>Sun</td>\n",
       "      <td>Dinner</td>\n",
       "      <td>4</td>\n",
       "      <td>0.146808</td>\n",
       "    </tr>\n",
       "  </tbody>\n",
       "</table>\n",
       "</div>"
      ],
      "text/plain": [
       "   total_bill   tip     sex smoker  day    time  size  tip_rate\n",
       "0       16.99  1.01  Female     No  Sun  Dinner     2  0.059447\n",
       "1       10.34  1.66    Male     No  Sun  Dinner     3  0.160542\n",
       "2       21.01  3.50    Male     No  Sun  Dinner     3  0.166587\n",
       "3       23.68  3.31    Male     No  Sun  Dinner     2  0.139780\n",
       "4       24.59  3.61  Female     No  Sun  Dinner     4  0.146808"
      ]
     },
     "execution_count": 2,
     "metadata": {},
     "output_type": "execute_result"
    }
   ],
   "source": [
    "# データセットダウンロード\n",
    "df = sns.load_dataset('tips')\n",
    "# チップ率というカラムを追加\n",
    "df['tip_rate'] = df[\"tip\"] / df[\"total_bill\"]\n",
    "df.head()"
   ]
  },
  {
   "cell_type": "markdown",
   "id": "866a4126-4127-4c29-9501-23241a27e852",
   "metadata": {},
   "source": [
    "## 検定を行う前の目的確認\n",
    "そもそも、検定を行う目的とは？  \n",
    "→ 2つの群の何らかの指標の差は「たまたまであって本当は差がないのか」、それとも「ちゃんとした差があるのか」というところも明らかにしたい  \n",
    "→ じゃあ「差が無い」を否定する形で証明しよう → **「差が無い」ということは2つの群のそれぞれの母集団の分布に差が無いということ**  \n",
    "→ 仮説検定を行う  \n",
    "→ 検定でのハイパーパラメータになるサンプルサイズや有意水準は？  \n",
    "→ 有意水準は0.05か0.1が普通。サンプルサイズは？  \n",
    "→ 検定力0.8になるようにサンプルサイズを計算する（→検定力分析）  \n",
    "→ **手元にあるデータサイズがとても大きい場合は、すでに母集団にアクセスできているので、そのデータ同士で比率などの指標を比較すれば良い。(→検定を行う必要はない)**  \n",
    "※母集団にアクセスできている：手元にあるデータの分散や平均などは母分散や母平均に近しい値になっている（データ数が多いほど母数に近づく）"
   ]
  },
  {
   "cell_type": "markdown",
   "id": "89d04c23-de1f-4cc9-bb55-4ed44b411032",
   "metadata": {},
   "source": [
    "## 比率の差の検定\n",
    "**何らかの施策の実施前と後で、比率に差があったかどうかを統計的に検定したいときに用いる**  \n",
    "例）自社のWebサイトにおいて，新しい施策をしたことによりクリック率が上がったかどうかを確かめたい"
   ]
  },
  {
   "cell_type": "markdown",
   "id": "e4646c6f-a464-47fa-91c7-eacd46d2c2bb",
   "metadata": {},
   "source": [
    "![比率の差の標本分布](image/比率の差の標本分布.jpg)"
   ]
  },
  {
   "cell_type": "code",
   "execution_count": 7,
   "id": "9fc283e7-76d9-43e9-87f8-3ea7db50d46e",
   "metadata": {},
   "outputs": [
    {
     "name": "stdout",
     "output_type": "stream",
     "text": [
      "Z検定\n",
      "z : -0.15358283506716305, p値:0.8779386719808685\n",
      "帰無仮説を否定できなかった\n"
     ]
    }
   ],
   "source": [
    "# 全データを母集団としたときに、2つのサンプルを取得し、2つのグループのディナーの比率の差を検定\n",
    "n = 100\n",
    "sampled_df_1 = df.sample(n)\n",
    "sampled_df_2 = df.sample(n)\n",
    "\n",
    "# Dinnerの比率\n",
    "dinner_count_1 = len(sampled_df_1[sampled_df_1['time'] == 'Dinner'])\n",
    "dinner_count_2 = len(sampled_df_2[sampled_df_2['time'] == 'Dinner'])\n",
    "\n",
    "# Z検定\n",
    "z_stats, p_value = proportions_ztest([dinner_count_1, dinner_count_2], [n, n])\n",
    "\n",
    "\"\"\"\n",
    "statsmodels.stats.proporRon.proporRons_ztest(count, nobs, alternaRve)\n",
    "- count: 標本の中で実際に観察できた数\n",
    "- nobs(the number of observa9ons): 標本の大きさ\n",
    "- alterna9ve: ‘two-sided’, ‘smaller’, ‘larger’ (’smaller’: p1 < p2, larger’: p1 > p2)\n",
    "\"\"\"\n",
    "# alternative: ‘two-sided’, ‘smaller’, ‘larger’\n",
    "# 片側検定の場合：(’smaller’: p1 < p2, larger’: p1 > p2)\n",
    "# 両側検定の場合：'two-sided'\n",
    "# 何らかの施策の実施前がsampled_df_1、実施後がsampled_df_2とすると、sampled_df_2の方がdinnerの比率が大きいことを期待している場合、alternative = 'smaller'となる（p1-p2はマイナスになることを期待）\n",
    "print(\"Z検定\")\n",
    "print(f\"z : {z_stats}, p値:{p_value}\")\n",
    "if p_value <= 0.025:\n",
    "    print(\"対立仮説を採用\")\n",
    "else:\n",
    "    print(\"帰無仮説を否定できなかった\")"
   ]
  },
  {
   "cell_type": "markdown",
   "id": "11b16d4c-dbdf-4e61-b246-f68d1ffa7641",
   "metadata": {},
   "source": [
    "## 平均値差の検定"
   ]
  },
  {
   "cell_type": "markdown",
   "id": "e45a961d-54ee-4d7a-8ee8-0e082a909695",
   "metadata": {},
   "source": [
    "#### 対応なしのT検定"
   ]
  },
  {
   "cell_type": "markdown",
   "id": "83069f02-9bdc-4dc8-93aa-32f9cc8808ed",
   "metadata": {},
   "source": [
    "![対応なしのt検定](image/対応なしのt検定.jpg)\n",
    "- 大標本であっても、pythonで検定を行う場合はt分布で普遍分散を用いて検定を行う\n",
    "- 等分散性について何か問題がある場合は、最初からウェルチのt検定を用いる\n",
    "    - 検定の重複に注意"
   ]
  },
  {
   "cell_type": "markdown",
   "id": "b5dd7ba5-b0b3-4001-9659-cc8cc108e04d",
   "metadata": {},
   "source": [
    "##### スチューデントのT検定"
   ]
  },
  {
   "cell_type": "code",
   "execution_count": 18,
   "id": "93899126-0434-4efe-9e34-b595430600d3",
   "metadata": {},
   "outputs": [
    {
     "name": "stdout",
     "output_type": "stream",
     "text": [
      "t値:-1.0833972270477996, p値:0.2797103849605489, 自由度:242.0\n"
     ]
    }
   ],
   "source": [
    "# 男性のチップを取得\n",
    "man_tip = df[df['sex'] == 'Male']['tip_rate']\n",
    "# 女性のチップを取得\n",
    "woman_tip = df[df['sex'] == 'Female']['tip_rate']\n",
    "\n",
    "# スチューデントのt検定\n",
    "result_1 = stats.ttest_ind(man_tip, woman_tip, equal_var = True)\n",
    "print(f\"t値:{result_1.statistic}, p値:{result_1.pvalue}, 自由度:{result_1.df}\")"
   ]
  },
  {
   "cell_type": "markdown",
   "id": "7eafa201-39bb-478f-a441-7ea168650350",
   "metadata": {},
   "source": [
    "##### ウェルチのT検定"
   ]
  },
  {
   "cell_type": "code",
   "execution_count": 20,
   "id": "13bb7afe-2c5a-4828-b2db-292bdccc94b6",
   "metadata": {},
   "outputs": [
    {
     "name": "stdout",
     "output_type": "stream",
     "text": [
      "t値:-1.1432770167349968, p値:0.2542456188927583, 自由度:206.75874799951296\n"
     ]
    }
   ],
   "source": [
    "result_2 = stats.ttest_ind(man_tip, woman_tip, equal_var = False)\n",
    "print(f\"t値:{result_2.statistic}, p値:{result_2.pvalue}, 自由度:{result_2.df}\")"
   ]
  },
  {
   "cell_type": "markdown",
   "id": "f0cdfb31-0706-42cf-9455-35577dfe3c29",
   "metadata": {},
   "source": [
    "##### Q-Qプロット\n",
    "Q-Qプロット（Quantile-Quantile Plot）は、データが特定の理論的な分布（例えば正規分布）に従っているかどうかを視覚的に確認するためのグラフである。具体的には、データの分位点と理論的な分布の分位点をプロットし、その結果を比較する。  \n",
    "\n",
    "- Q-Qプロットの概要\n",
    "    - X軸：理論的分布の分位点（例えば、正規分布の場合、標準正規分布の分位点）。\n",
    "    - Y軸：実際のデータの分位点。\n",
    "    - プロット上の点が理論的な分布に沿って直線的に並ぶ場合、データはその分布に従っていると言える。\n",
    "- Q-Qプロットの目的\n",
    "    - Q-Qプロットを使うことで、データが理論的な分布に従うかどうかを簡単に判断できる。もしプロットの点が直線的に並ぶなら、データはその理論的な分布（例えば正規分布）に近いと考えられ、直線から大きく外れている場合、データはその分布に従っていない可能性がある。"
   ]
  },
  {
   "cell_type": "code",
   "execution_count": 23,
   "id": "d00adb97-3214-4c90-881e-8e7780401558",
   "metadata": {},
   "outputs": [
    {
     "data": {
      "image/png": "[encoded data removed]",
      "text/plain": [
       "<Figure size 1200x600 with 2 Axes>"
      ]
     },
     "metadata": {},
     "output_type": "display_data"
    },
    {
     "data": {
      "text/plain": [
       "'\\n結果の解説\\n左側のプロット（正規分布に従うデータ）：\\nプロット上の点がほぼ直線的に並んでいます。これは、データが理論的な正規分布に従っていることを示しています。\\n右側のプロット（一様分布に従うデータ）：\\nプロット上の点が直線から大きく外れています。これは、データが正規分布に従っていないことを示しています。このデータは一様分布に従っているため、Q-Qプロットでは直線的な関係が崩れることになります。\\n\\nデータに外れ値が1つでもあると直線ではなくなってしまう可能性があります。\\n'"
      ]
     },
     "execution_count": 23,
     "metadata": {},
     "output_type": "execute_result"
    }
   ],
   "source": [
    "import numpy as np\n",
    "import matplotlib.pyplot as plt\n",
    "import scipy.stats as stats\n",
    "\n",
    "# 正規分布に従うランダムデータ\n",
    "np.random.seed(0)\n",
    "normal_data = np.random.normal(loc=0, scale=1, size=1000)\n",
    "\n",
    "# 一様分布に従うランダムデータ（正規分布ではない）\n",
    "uniform_data = np.random.uniform(low=-3, high=3, size=1000)\n",
    "\n",
    "# Q-Qプロットを描く\n",
    "fig, axes = plt.subplots(1, 2, figsize=(12, 6))\n",
    "\n",
    "# 正規分布に従うデータのQ-Qプロット\n",
    "stats.probplot(normal_data, dist=\"norm\", plot=axes[0])\n",
    "axes[0].set_title('Q-Q Plot for Normal Distribution')\n",
    "\n",
    "# 一様分布に従うデータのQ-Qプロット\n",
    "stats.probplot(uniform_data, dist=\"norm\", plot=axes[1])\n",
    "axes[1].set_title('Q-Q Plot for Uniform Distribution')\n",
    "\n",
    "plt.tight_layout()\n",
    "plt.show()\n",
    "\n",
    "\"\"\"\n",
    "結果の解説\n",
    "左側のプロット（正規分布に従うデータ）：\n",
    "プロット上の点がほぼ直線的に並んでいます。これは、データが理論的な正規分布に従っていることを示しています。\n",
    "右側のプロット（一様分布に従うデータ）：\n",
    "プロット上の点が直線から大きく外れています。これは、データが正規分布に従っていないことを示しています。このデータは一様分布に従っているため、Q-Qプロットでは直線的な関係が崩れることになります。\n",
    "\n",
    "データに外れ値が1つでもあると直線ではなくなってしまう可能性があります。\n",
    "\"\"\""
   ]
  },
  {
   "cell_type": "markdown",
   "id": "edebcba7-47ee-4641-ab02-120803a7e203",
   "metadata": {},
   "source": [
    "##### シャピロウィルク検定\n",
    "- シャピロ-ウィルク検定はQ-Qプロットにおいて，どれくらい直線からずれているかを検定する\n",
    "- 特に母集団が正規分布に従っているかどうかを検定する\n",
    "    - 多くの検定は正規分布に従っていることを仮定している\n",
    "- 標本の順序統計量と正規分布の順序統計量の期待値の相関を検定統計量にする\n",
    "- 検定方法\n",
    "    - 帰無仮説：母集団が正規分布に従う ← **つまり棄却することを狙っていない**\n",
    "    - 対立仮説：母集団が正規分布に従わない\n",
    "    - 「母集団が正規分布に従うという仮説を否定できなかった」という結論に持っていくことにモチベーションがある"
   ]
  },
  {
   "cell_type": "code",
   "execution_count": 29,
   "id": "d7aea4ba-5a6a-472c-b3a2-097890bf605c",
   "metadata": {},
   "outputs": [
    {
     "name": "stdout",
     "output_type": "stream",
     "text": [
      "検定統計量：0.744784334553468\n",
      "p値：3.2242405768357026e-15\n",
      "--------------------------------\n",
      "外れ値除外後\n",
      "検定統計量：0.9931073588892674\n",
      "p値：0.6645123250856151\n"
     ]
    }
   ],
   "source": [
    "male_tipr = df[df['sex'] == 'Male']['tip_rate']\n",
    "female_tipr = df[df['sex'] == 'Female']['tip_rate']\n",
    "\n",
    "# 男性のチップ率が正規分布に従っているかを検定\n",
    "result = stats.shapiro(male_tipr)\n",
    "\"\"\"\n",
    "• stats.shapiro(x)\n",
    "- データxに正規性があるかを検定する\n",
    "- 第一戻り値は検定統計値\n",
    "- 第二戻り値はp値\n",
    "\"\"\"\n",
    "print(f\"検定統計量：{result.statistic}\")\n",
    "print(f\"p値：{result.pvalue}\")\n",
    "print(\"--------------------------------\")\n",
    "print(f\"外れ値除外後\")\n",
    "result = stats.shapiro(np.sort(male_tipr)[:-1])\n",
    "print(f\"検定統計量：{result.statistic}\")\n",
    "print(f\"p値：{result.pvalue}\")"
   ]
  },
  {
   "cell_type": "markdown",
   "id": "1f7920d2-d9d4-4f23-966f-ff8d374af262",
   "metadata": {},
   "source": [
    "##### F検定\n",
    "- 2群の等分散性の検定を行う\n",
    "- 検定統計量には分散の比率を用いる\n",
    "    - 標本は標本分布に従って抽出されると考えると、標本の分散は確率変数であり、分散の比率も確率変数になる\n",
    "- 母集団は正規分布に従うことを仮定\n",
    "- 検定方法\n",
    "    - 帰無仮説：分散に差はない\n",
    "    - 対立仮説：分散に差はある"
   ]
  },
  {
   "cell_type": "markdown",
   "id": "916eda0c-54b8-4de8-a8b8-75b0ba84ccbc",
   "metadata": {},
   "source": [
    "![F分布](image/F分布.jpg)"
   ]
  },
  {
   "cell_type": "code",
   "execution_count": 32,
   "id": "ac5785a9-199a-4956-9c34-3aa80782f64e",
   "metadata": {},
   "outputs": [
    {
     "name": "stdout",
     "output_type": "stream",
     "text": [
      "男性のチップ率の不偏分散：0.004196172792769981\n",
      "女性のチップ率の不偏分散：0.002876362058404039\n",
      "F値 : 1.4588472200534603\n",
      "p値：0.027100863454374458\n"
     ]
    }
   ],
   "source": [
    "# F値を計算し、検定を行う\n",
    "print(f\"男性のチップ率の不偏分散：{stats.tvar(male_tipr)}\")\n",
    "print(f\"女性のチップ率の不偏分散：{stats.tvar(female_tipr)}\")\n",
    "f = stats.tvar(male_tipr) / stats.tvar(female_tipr) # 通常は大きい方を分子に置く\n",
    "print(f\"F値 : {f}\")\n",
    "p_value = stats.f(dfn = len(male_tipr)-1, dfd = len(female_tipr)-1).sf(f)\n",
    "print(f\"p値：{p_value}\")"
   ]
  },
  {
   "cell_type": "markdown",
   "id": "5a9caf31-b007-4396-924e-89dfa30bc071",
   "metadata": {},
   "source": [
    "#### 対応ありのT検定"
   ]
  },
  {
   "cell_type": "code",
   "execution_count": 33,
   "id": "bcc68600-dc09-4c79-895b-d22cccf14dd4",
   "metadata": {},
   "outputs": [
    {
     "data": {
      "text/html": [
       "<div>\n",
       "<style scoped>\n",
       "    .dataframe tbody tr th:only-of-type {\n",
       "        vertical-align: middle;\n",
       "    }\n",
       "\n",
       "    .dataframe tbody tr th {\n",
       "        vertical-align: top;\n",
       "    }\n",
       "\n",
       "    .dataframe thead th {\n",
       "        text-align: right;\n",
       "    }\n",
       "</style>\n",
       "<table border=\"1\" class=\"dataframe\">\n",
       "  <thead>\n",
       "    <tr style=\"text-align: right;\">\n",
       "      <th></th>\n",
       "      <th>patient</th>\n",
       "      <th>sex</th>\n",
       "      <th>agegrp</th>\n",
       "      <th>bp_before</th>\n",
       "      <th>bp_after</th>\n",
       "    </tr>\n",
       "  </thead>\n",
       "  <tbody>\n",
       "    <tr>\n",
       "      <th>0</th>\n",
       "      <td>1</td>\n",
       "      <td>Male</td>\n",
       "      <td>30-45</td>\n",
       "      <td>143</td>\n",
       "      <td>153</td>\n",
       "    </tr>\n",
       "    <tr>\n",
       "      <th>1</th>\n",
       "      <td>2</td>\n",
       "      <td>Male</td>\n",
       "      <td>30-45</td>\n",
       "      <td>163</td>\n",
       "      <td>170</td>\n",
       "    </tr>\n",
       "    <tr>\n",
       "      <th>2</th>\n",
       "      <td>3</td>\n",
       "      <td>Male</td>\n",
       "      <td>30-45</td>\n",
       "      <td>153</td>\n",
       "      <td>168</td>\n",
       "    </tr>\n",
       "    <tr>\n",
       "      <th>3</th>\n",
       "      <td>4</td>\n",
       "      <td>Male</td>\n",
       "      <td>30-45</td>\n",
       "      <td>153</td>\n",
       "      <td>142</td>\n",
       "    </tr>\n",
       "    <tr>\n",
       "      <th>4</th>\n",
       "      <td>5</td>\n",
       "      <td>Male</td>\n",
       "      <td>30-45</td>\n",
       "      <td>146</td>\n",
       "      <td>141</td>\n",
       "    </tr>\n",
       "  </tbody>\n",
       "</table>\n",
       "</div>"
      ],
      "text/plain": [
       "   patient   sex agegrp  bp_before  bp_after\n",
       "0        1  Male  30-45        143       153\n",
       "1        2  Male  30-45        163       170\n",
       "2        3  Male  30-45        153       168\n",
       "3        4  Male  30-45        153       142\n",
       "4        5  Male  30-45        146       141"
      ]
     },
     "execution_count": 33,
     "metadata": {},
     "output_type": "execute_result"
    }
   ],
   "source": [
    "blood_df = pd.read_csv('/work/MLnote/statistics/dataset/blood_pressure.csv')\n",
    "blood_df.head()"
   ]
  },
  {
   "cell_type": "code",
   "execution_count": 37,
   "id": "975e72f9-5d28-49e1-af63-1cfe1458bb79",
   "metadata": {},
   "outputs": [
    {
     "name": "stdout",
     "output_type": "stream",
     "text": [
      "施術前：156.45\n",
      "施術後：151.35833333333332\n",
      "t値：3.3371870510833657\n",
      "p値：0.0005648957322420411\n"
     ]
    }
   ],
   "source": [
    "print(f\"施術前：{blood_df['bp_before'].mean()}\")\n",
    "print(f\"施術後：{blood_df['bp_after'].mean()}\")\n",
    "# 血圧の施術前後の差を検定\n",
    "result = stats.ttest_rel(blood_df['bp_before'], blood_df['bp_after'], alternative='greater') # 血圧は下がってほしいことを期待しているので、前-後>0となるのでgreaterを指定する\n",
    "print(f\"t値：{result.statistic}\")\n",
    "print(f\"p値：{result.pvalue}\")"
   ]
  },
  {
   "cell_type": "markdown",
   "id": "ea756f66-e0d3-4aee-b532-6710bbbe4465",
   "metadata": {},
   "source": [
    "## 検定力分析"
   ]
  },
  {
   "cell_type": "markdown",
   "id": "e84af666-f83e-491e-a718-f5c92cf4fb7f",
   "metadata": {},
   "source": [
    "### 検定力"
   ]
  },
  {
   "cell_type": "markdown",
   "id": "69141caf-8f40-4a01-a500-0fab6d57b57a",
   "metadata": {},
   "source": [
    "![検定力](image/検定力.jpg)"
   ]
  },
  {
   "cell_type": "markdown",
   "id": "d1b3c69b-a141-4674-b999-61f0704c67f6",
   "metadata": {},
   "source": [
    "- 検定力の構成要素\n",
    "    - 有意水準\n",
    "        - 基本的に有意水準は0.05か0.01で行う。検定力を上げるために有意水準を操作するのはNG。\n",
    "    - サンプルサイズ\n",
    "        - サンプルサイズを大きくすると検定力も高まる\n",
    "        - サンプルを増やすと標本平均は母集団の平均に近づいていき、標本の分散も小さくなるので、より尖った分布になる → 帰無分布と対立分布に差ができるので検定力が高まる\n",
    "        - **サンプルサイズが大きすぎると少しの差でも有意差が出てしまうので、本来やりたかった検定の目的とは外れてしまう**\n",
    "    - 帰無分布と対立分布の差（効果量）\n",
    "        - 検出したい差が大きければ大きいほど検定力は高くなる"
   ]
  },
  {
   "cell_type": "markdown",
   "id": "4adb83a7-6bb0-4c74-9c95-70ff1ce7006a",
   "metadata": {},
   "source": [
    "![サンプルサイズの問題](image/検定力_サンプルサイズ.jpg)"
   ]
  },
  {
   "cell_type": "markdown",
   "id": "06acf54b-6c72-463f-91da-ddc52ed86aea",
   "metadata": {},
   "source": [
    "![検定力の構成図](image/検定力の構成図.jpg)"
   ]
  },
  {
   "cell_type": "markdown",
   "id": "eecd8386-ba86-4802-818f-cd26a7102069",
   "metadata": {},
   "source": [
    "### 検定力分析"
   ]
  },
  {
   "cell_type": "markdown",
   "id": "6dec3838-b417-4ee6-8199-de658ec9272e",
   "metadata": {},
   "source": [
    "#### 効果量の計算\n",
    "- 効果量とは検定で明らかにしたい2群の差の量\n",
    "    - 標準偏差はどれくらい離れているのかで測る\n",
    "- 使用場面例\n",
    "    - メール配信施策において、何らかの最適化施策を実施し、その施策の実施前と後でどれだけ施策の効果があったかを検定する時。"
   ]
  },
  {
   "cell_type": "code",
   "execution_count": 38,
   "id": "34ca952a-a6ca-4694-b47e-7507a56cda09",
   "metadata": {},
   "outputs": [],
   "source": [
    "def cohen_d(x1, x2):\n",
    "    n1 = len(x1)\n",
    "    n2 = len(x2)\n",
    "    dof = n1+n2-2\n",
    "    std = np.sqrt(((n1-1)*stats.tvar(x1)+(n2-1)*stats.tvar(x2))/dof)\n",
    "    x1_mean = np.mean(x1)\n",
    "    x2_mean = np.mean(x2)\n",
    "    return np.abs((x1_mean - x2_mean))/std"
   ]
  },
  {
   "cell_type": "code",
   "execution_count": 39,
   "id": "118de245-744e-4a0b-b6b1-17a306dbf83f",
   "metadata": {},
   "outputs": [
    {
     "data": {
      "text/plain": [
       "np.float64(0.14480153987269387)"
      ]
     },
     "execution_count": 39,
     "metadata": {},
     "output_type": "execute_result"
    }
   ],
   "source": [
    "male_tip_rate = df[df['sex'] == 'Male']['tip_rate']\n",
    "female_tip_rate = df[df['sex'] == 'Female']['tip_rate']\n",
    "cohen_d(male_tip_rate, female_tip_rate)"
   ]
  },
  {
   "cell_type": "code",
   "execution_count": 42,
   "id": "8deabd92-781d-4e57-b9bc-1a5a86f92792",
   "metadata": {},
   "outputs": [
    {
     "name": "stdout",
     "output_type": "stream",
     "text": [
      "検定力：0.19038260700802495\n"
     ]
    }
   ],
   "source": [
    "\"\"\"\n",
    "有意水準，効果量，検定力，サンプルサイズを残りの値から算出する\n",
    "• statsmodels.stats.power.TTestIndPowerクラス\n",
    "• power = TTestIndPower()でインスタンス化\n",
    "• .solve_power(effect_size, nobs1, alpha, power, ratio, alternative)\n",
    "• eﬀect_size: 効果量 (cohen’s d)\n",
    "• nobs1: 標本1のサイズ\n",
    "• alpha: 有意水準 (ex. 0.05)\n",
    "• power: 検定力\n",
    "• ratio: 標本1に対する標本2の大きさ\n",
    "• alternative: ‘two-sided’, ‘smaller’, ‘larger’\n",
    "• 算出したいパラメータをNoneにする \n",
    "\"\"\"\n",
    "\n",
    "# インスタンスを作成\n",
    "power = TTestIndPower()\n",
    "effect_size = cohen_d(male_tip_rate, female_tip_rate)\n",
    "n1 = len(male_tip_rate)\n",
    "n2 = len(female_tip_rate)\n",
    "stats_power = power.solve_power(effect_size = effect_size, nobs1 = n1, alpha = 0.05, power = None, ratio = n2/n1)\n",
    "print(f\"検定力：{stats_power}\")"
   ]
  },
  {
   "cell_type": "code",
   "execution_count": 43,
   "id": "6b3947c4-6320-45f8-bb6f-36e50cee2a69",
   "metadata": {},
   "outputs": [
    {
     "name": "stdout",
     "output_type": "stream",
     "text": [
      "749.6312654614109\n"
     ]
    }
   ],
   "source": [
    "# 検定力は0.8を目指す\n",
    "# 有意水準0.05、検定力0.8の時に必要なサンプルサイズ\n",
    "male_size = power.solve_power(effect_size = effect_size, nobs1 = None, alpha = 0.05, power = 0.8, ratio = 1)\n",
    "print(male_size)"
   ]
  },
  {
   "cell_type": "markdown",
   "id": "7669affd-6e14-4a90-bc5f-94817a7ad06c",
   "metadata": {},
   "source": [
    "- もし手元にデータがない場合は、今までの経験やドメイン知識から効果量を仮定する\n",
    "- サンプル比率も同様"
   ]
  },
  {
   "cell_type": "code",
   "execution_count": 44,
   "id": "d28acd04-140d-41af-b19c-13d33e5bea88",
   "metadata": {},
   "outputs": [
    {
     "data": {
      "text/plain": [
       "393.4056989990335"
      ]
     },
     "execution_count": 44,
     "metadata": {},
     "output_type": "execute_result"
    }
   ],
   "source": [
    "power.solve_power(effect_size = 0.2, nobs1 = None, alpha = 0.05, power = 0.8, ratio = 1) # ratio=1は比率が同じくらい"
   ]
  },
  {
   "cell_type": "markdown",
   "id": "b83f549e-eb3a-4cd4-9c37-c6ec37737a92",
   "metadata": {},
   "source": [
    "#### 検定力の推移"
   ]
  },
  {
   "cell_type": "code",
   "execution_count": 48,
   "id": "7bf98b5c-2996-4033-b9f5-6c46d85f91ba",
   "metadata": {},
   "outputs": [
    {
     "data": {
      "image/png": "[encoded data removed]",
      "text/plain": [
       "<Figure size 640x480 with 1 Axes>"
      ]
     },
     "metadata": {},
     "output_type": "display_data"
    }
   ],
   "source": [
    "fig = power.plot_power(dep_var = 'nobs', nobs = np.array(range(5, 100)), effect_size = [0.2, 0.5, 0.8], alpha = 0.05)"
   ]
  },
  {
   "cell_type": "markdown",
   "id": "98ffcbf1-0d5b-4b57-ae9a-6a868a7096d9",
   "metadata": {},
   "source": [
    "## データ間の関係性について"
   ]
  },
  {
   "cell_type": "markdown",
   "id": "0c10ecb9-b698-4739-ab9c-603bacc496b6",
   "metadata": {},
   "source": [
    "### カイ二乗検定(連関の検定)\n",
    "**2つのカテゴリ変数間に相関関係があるかどうかを検定**  \n",
    "• 帰無仮説には「連関がない(=独立)」  \n",
    "• 対立仮説には「連関がある(=独立ではない)」"
   ]
  },
  {
   "cell_type": "markdown",
   "id": "047a01d7-c83a-4763-b39a-c32b76754950",
   "metadata": {},
   "source": [
    "![カイ二乗分布](image/カイ二乗分布.jpg)"
   ]
  },
  {
   "cell_type": "code",
   "execution_count": 12,
   "id": "c86c3893-9568-43f3-be01-4c49229ff269",
   "metadata": {},
   "outputs": [
    {
     "name": "stdout",
     "output_type": "stream",
     "text": [
      "カイ2乗検定\n",
      "カイ2乗値：0.2761159687068569, p値：0.5992583230406663\n",
      "帰無仮説を否定できなかった\n"
     ]
    }
   ],
   "source": [
    "# 全データを母集団としたときに、2つのサンプルを取得し、2つのグループのディナーの比率の差を検定\n",
    "n = 100\n",
    "sampled_df_1 = df.sample(n)\n",
    "sampled_df_2 = df.sample(n)\n",
    "\n",
    "# Dinnerの比率\n",
    "dinner_count_1 = len(sampled_df_1[sampled_df_1['time'] == 'Dinner'])\n",
    "dinner_count_2 = len(sampled_df_2[sampled_df_2['time'] == 'Dinner'])\n",
    "\n",
    "# カイ2乗検定\n",
    "chi2, p, dof, ex = stats.chi2_contingency([[dinner_count_1, n - dinner_count_1], [dinner_count_2, n - dinner_count_2]], correction = False)\n",
    "\"\"\"\n",
    "chi2, p, dof, ex = stats.chi2_conRngency(obs, correcRon=False)\n",
    "- obs: 観測度数\n",
    "- correc9on: イェイツの修正(通常はFalseでOK)\n",
    "※イェイツの修正とは、通常のカイ二乗検定よりp値を高く出やすくしたもの（有意差が出やすいのではないかという主張があった）\n",
    "\"\"\"\n",
    "print(\"カイ2乗検定\")\n",
    "print(f\"カイ2乗値：{chi2}, p値：{p}\")\n",
    "if p_value <= 0.05:\n",
    "    print(\"対立仮説を採用\")\n",
    "else:\n",
    "    print(\"帰無仮説を否定できなかった\")"
   ]
  },
  {
   "cell_type": "markdown",
   "id": "c2d41dae-a36e-4e91-ab84-6b6e5ef511da",
   "metadata": {},
   "source": [
    "### クラメールの連関係数"
   ]
  },
  {
   "cell_type": "markdown",
   "id": "4afd5edb-49d7-449c-a892-aacc0fbd0601",
   "metadata": {},
   "source": [
    "![クラメールの連関係数](image/クラメールの連関係数.jpg)"
   ]
  },
  {
   "cell_type": "markdown",
   "id": "d1b28111-6659-435a-9ce1-3ea93d82a9d7",
   "metadata": {},
   "source": [
    "### アソシエーション分析（association analysis）\n",
    "**ある事象とある事象の共起性や関係性などの法則を見つける分析手法。**  \n",
    "例) 商品の購入データを元に「xを買った人はyも買っている」などの法則を見つける  \n",
    "##### 取り組み方\n",
    "1. 共起性を調べたいのか、x→yのような関係性を調べたいのかという部分を定める\n",
    "2. 共起性であれば共起性を示す指標を一通り出す。関係性であれば、事象同士の関係性を示す指標を一通り出す。\n",
    "3. 複数の指標を複合的に見ることで、法則性や因果関係などの解釈を行う。\n",
    "    - 指標によって結果が違う場合がある。これはどちらかの指標が誤りということではなく、それぞれ別の視点からの解釈を与えてくれるものである。  \n",
    "        - confidenceは大きいがliftはほぼ1である時、これはxの購入の有無に左右されることなくyを購入する人が多い。\n",
    "        - liftが大きくconfidenceが小さい時、全体のyの購入の割合はconfidenceをliftで割って計算できるので、yの購買件数が少ないことが分かる。つまり商品xは商品yを買ってもらうために非常に重要な商品である可能性が分かる。"
   ]
  },
  {
   "cell_type": "markdown",
   "id": "65871cad-38d1-4120-b398-bde1cdfdf3ca",
   "metadata": {},
   "source": [
    "#### 類似度・関連性指標まとめ\n",
    "\n",
    "| 指標名 | 定義 | 特徴 | 値の範囲 |\n",
    "|--------|------|------|----------|\n",
    "| **Jaccard係数** | $\\frac{\\left| X \\cap Y \\right|}{\\left| X \\cup Y \\right|}$ | 0の場合は同時が無いことを表し、1に近づくについて同時が多いことを表す | $[0,1]$ |\n",
    "| **Dice係数** | $\\frac{2 \\left| X \\cap Y \\right|}{\\left| X \\right| + \\left| Y \\right|}$ | 0の場合は同時が無いことを表し、1に近づくについて同時が多いことを表す | $[0,1]$ |\n",
    "| **Cosine類似度** | $\\frac{\\left| X \\cap Y \\right|}{\\sqrt{\\left| X \\right| + \\left| Y \\right|}}$ | 0の場合は同時が無いことを表し、1に近づくについて同時が多いことを表す | $[0,1]$ | \n",
    "| **Simpson係数** | $\\frac{\\left| X \\cap Y \\right|}{\\min(\\left| X \\right|, \\left| Y \\right|)}$ | 0の場合は同時が無いことを表し、1に近づくについて同時が多いことを表す | $[0,1]$ | \n",
    "| **Leverage** | $P(X \\cap Y) - P(X) P(Y)$ | XとYの独立性に関する指標。0であれば独立、正であれば同時、負であれば同時にされない。 | $[\\frac{-1}{4},\\frac{1}{4}]$ | \n",
    "| **Confidence** | $Confidence(X \\to Y) = \\frac{\\left| X \\cap Y \\right|}{\\left| X \\right|}$ | Xをした人の中でYをした人の割合。 | $[0,1]$ | \n",
    "| **Lift** | $Lift(X \\to Y) = \\frac{\\frac{\\left| X \\cap Y \\right|}{\\left| X \\right|}}{\\frac{\\left| Y \\right|}{\\left| U \\right|}}$ | XをしたことによってYをする確率が何倍になるかを表した指標。 | $[0, \\infty)$ |\n",
    "| **Conviction** | $Conviction(X \\to Y) = \\frac{1-\\frac{\\left| Y \\right|}{\\left| U \\right|}}{1-\\frac{\\left| X \\cap Y \\right|}{\\left| X \\right|}}$ | XをしたことによってYをしない確率が何倍になるかを表した指標。 | $[1, \\infty)$ |\n",
    "\n"
   ]
  },
  {
   "cell_type": "markdown",
   "id": "44d05855-73fd-4879-994d-0fc37c6253a3",
   "metadata": {},
   "source": [
    "#### 実装"
   ]
  },
  {
   "cell_type": "code",
   "execution_count": 39,
   "id": "3651ae5c-fc99-41d6-adc2-062cc3abaa78",
   "metadata": {},
   "outputs": [],
   "source": [
    "# Confidenceの計算\n",
    "def confidence(x, y):\n",
    "    \"\"\"\n",
    "    Confidence(X -> Y) = P(Y | X) = |X ∩ Y| / |X|\n",
    "    \n",
    "    - x, y: リストまたは Pandas Series（0/1 の値を想定）\n",
    "    - 戻り値: Confidence スコア（0〜1）\n",
    "    \"\"\"\n",
    "    x, y = np.asarray(x), np.asarray(y)  # NumPy 配列に変換\n",
    "    x_inter_y = np.logical_and(x, y).sum()  # |X ∩ Y| を計算\n",
    "    x_count = np.sum(x)  # |X| を計算\n",
    "    return x_inter_y / x_count if x_count > 0 else 0\n",
    "\n",
    "# Liftの計算\n",
    "def lift(x, y):\n",
    "    \"\"\"\n",
    "    Lift(X -> Y) = (|X ∩ Y| / |X|) / (|Y| / |U|)\n",
    "    xをするとyをする確率が何倍になるか = (xをしてyをする確率)/(yをする確率)\n",
    "    \n",
    "    - x, y: リストまたは Pandas Series（0/1 の値を想定）\n",
    "    - 戻り値: Lift スコア（0以上の実数）\n",
    "    \"\"\"\n",
    "    if len(x) != len(y):\n",
    "        raise ValueError(\"x と y は同じ長さである必要があります\")\n",
    "\n",
    "    x, y = np.asarray(x), np.asarray(y)  # NumPy 配列に変換\n",
    "    x_inter_y = np.logical_and(x, y).sum()  # |X ∩ Y| を計算\n",
    "    x_count = np.sum(x)  # |X| を計算\n",
    "    y_prob = np.sum(y) / len(y)  # P(Y) = |Y| / |U|\n",
    "\n",
    "    if x_count == 0 or y_prob == 0:  # ゼロ除算の防止\n",
    "        return 0\n",
    "\n",
    "    return (x_inter_y / x_count) / y_prob\n",
    "\n",
    "# Convictionの計算\n",
    "def conviction(x, y):\n",
    "    \"\"\"\n",
    "    Conviction(X -> Y) = (1 - P(Y)) / (1 - P(X ∩ Y | X))\n",
    "    XをするとYをしない確率が何分の一か =  (Yをしない確率)/(XはしたけどYはしない確率)\n",
    "\n",
    "    - x, y: リストまたは Pandas Series（0/1 の値を想定）\n",
    "    - 戻り値: Conviction スコア（1以上の実数）\n",
    "    \"\"\"\n",
    "    if len(x) != len(y):\n",
    "        raise ValueError(\"x と y は同じ長さである必要があります\")\n",
    "\n",
    "    x, y = np.asarray(x), np.asarray(y)  # NumPy 配列に変換\n",
    "    x_inter_y = np.logical_and(x, y).sum()  # |X ∩ Y| を計算\n",
    "    x_count = np.sum(x)  # |X| を計算\n",
    "    y_prob = np.sum(y) / len(y)  # P(Y) = |Y| / |U|\n",
    "\n",
    "    if x_count == 0 or y_prob == 1:  # ゼロ除算の防止\n",
    "        return float(\"inf\")\n",
    "\n",
    "    conf = x_inter_y / x_count if x_count > 0 else 0  # Confidence(X → Y)\n",
    "    return (1 - y_prob) / (1 - conf) if conf < 1 else float(\"inf\")"
   ]
  },
  {
   "cell_type": "code",
   "execution_count": null,
   "id": "d2821f1d-9667-4e28-bbb9-a6e27ae2f379",
   "metadata": {},
   "outputs": [],
   "source": []
  },
  {
   "cell_type": "code",
   "execution_count": null,
   "id": "a261b2a2-0032-48e1-84ff-0bc2c9fe5914",
   "metadata": {},
   "outputs": [],
   "source": []
  },
  {
   "cell_type": "markdown",
   "id": "93f56980-e90a-47f5-ac2b-9fc8cb608bb6",
   "metadata": {},
   "source": [
    "### 数量化理論"
   ]
  },
  {
   "cell_type": "markdown",
   "id": "9573c5d3-7c96-4026-b155-3da9e9a224e0",
   "metadata": {},
   "source": [
    "#### 数量化Ⅱ類\n",
    "- 説明変数も被説明変数もカテゴリ変数のとき、説明変数と被説明変数の関係について分析する手法\n",
    "    - カテゴリ変数をベクトル化する\n",
    "    - 被説明変数の同じカテゴリのデータは近く、別のカテゴリのデータは遠くしたい（カテゴリ内の分散は小さく、カテゴリ間の分散は大きく）"
   ]
  },
  {
   "cell_type": "code",
   "execution_count": 53,
   "id": "1fea2b64-60d2-49ac-8470-2945fd107f72",
   "metadata": {},
   "outputs": [],
   "source": [
    "def quantification_ii_1(df, target_col, feature_cols):\n",
    "    \"\"\"\n",
    "    数量化Ⅱ類を実行する関数\n",
    "    \n",
    "    Parameters:\n",
    "    df (pd.DataFrame): 入力データ\n",
    "    target_col (str): 目的変数（カテゴリ変数）\n",
    "    feature_cols (list): 特徴量（カテゴリ変数のみ）\n",
    "    \n",
    "    Returns:\n",
    "    pd.DataFrame: 各データの y 値を追加したデータフレーム\n",
    "    np.array: 変数ごとの数量化ベクトル\n",
    "    pd.DataFrame: 固有ベクトルと各変数の関係を示すデータフレーム\n",
    "    \"\"\"\n",
    "    # カテゴリカル変数をダミー変換\n",
    "    X = pd.get_dummies(df[[target_col] + feature_cols])\n",
    "    target_dummies = [col for col in X.columns if col.startswith(target_col + \"_\")]\n",
    "    dependent_vars = [col for col in X.columns if col not in target_dummies]\n",
    "\n",
    "    # 共分散行列の計算\n",
    "    S_tot = X[dependent_vars].cov(ddof=0)\n",
    "    \n",
    "    # 各クラスのデータ数\n",
    "    class_counts = {cls: X[f'{target_col}_{cls}'].sum() for cls in df[target_col].unique()}\n",
    "    \n",
    "    # 各クラスの共分散行列\n",
    "    S_class = {cls: X[X[f'{target_col}_{cls}'] == 1][dependent_vars].cov(ddof=0) for cls in df[target_col].unique()}\n",
    "    \n",
    "    # 群内共分散行列と群間共分散行列\n",
    "    N_total = sum(class_counts.values())\n",
    "    S_within = sum(class_counts[cls] * S_class[cls] for cls in class_counts) / N_total\n",
    "    S_between = S_tot - S_within # 群間分散 = 全分散 - 郡内分散\n",
    "    \n",
    "    # 固有値・固有ベクトルの計算\n",
    "    eig_vals, eig_vecs = np.linalg.eig(np.linalg.inv(S_tot).dot(S_between))\n",
    "    \n",
    "    # 最大の固有値を持つインデックス\n",
    "    idx_eta_square = np.argmax(eig_vals)\n",
    "    qualitization_vector = eig_vecs[:, idx_eta_square]\n",
    "    \n",
    "    # 最大の固有値に対応する固有ベクトルと変数名を紐づけ\n",
    "    eigenvalue_df = pd.DataFrame({\n",
    "        'variable': dependent_vars,\n",
    "        'eigenvalue_contribution': qualitization_vector\n",
    "    }).sort_values(by='eigenvalue_contribution', key=abs, ascending=False)\n",
    "\n",
    "    # y値の計算\n",
    "    df_with_y = pd.concat([df[[target_col]], X[dependent_vars]], axis=1)\n",
    "    df_with_y['y'] = X[dependent_vars].dot(qualitization_vector)\n",
    "    \n",
    "    # 符号調整\n",
    "    y_means = df_with_y.groupby(target_col, observed=False)['y'].mean()\n",
    "    if y_means.iloc[0] < y_means.iloc[-1]:\n",
    "        qualitization_vector = -1 * qualitization_vector\n",
    "        df_with_y['y'] = - df_with_y['y']\n",
    "        eigenvalue_df['eigenvalue_contribution'] = -eigenvalue_df['eigenvalue_contribution']\n",
    "\n",
    "    # 分布をプロット\n",
    "    for cls in df[target_col].unique():\n",
    "        plt.hist(df_with_y[df_with_y[target_col] == cls]['y'], alpha=0.3, label=cls)\n",
    "    \n",
    "    plt.legend()\n",
    "    plt.show()\n",
    "    \n",
    "    return df_with_y, qualitization_vector, eigenvalue_df"
   ]
  },
  {
   "cell_type": "code",
   "execution_count": 54,
   "id": "9ecd1f2a-82ec-4fe8-87bb-90cf3e9fdf0f",
   "metadata": {},
   "outputs": [],
   "source": [
    "def convert_int_to_category(df, columns=None):\n",
    "    \"\"\"\n",
    "    整数型（int）のカラムをカテゴリ型に変換する\n",
    "    \n",
    "    Parameters:\n",
    "    df (pd.DataFrame): 変換対象のデータフレーム\n",
    "    columns (list, optional): 変換するカラムのリスト（指定しない場合は int 型のカラムを自動検出）\n",
    "    \n",
    "    Returns:\n",
    "    pd.DataFrame: 指定したカラムをカテゴリ型に変換したデータフレーム\n",
    "    \"\"\"\n",
    "    df = df.copy()\n",
    "    \n",
    "    # 変換対象のカラムを特定\n",
    "    if columns is None:\n",
    "        columns = df.select_dtypes(include=['int']).columns.tolist()\n",
    "    \n",
    "    # カラムをカテゴリ型に変換\n",
    "    for col in columns:\n",
    "        df[col] = df[col].astype('category')\n",
    "    \n",
    "    return df"
   ]
  },
  {
   "cell_type": "code",
   "execution_count": 55,
   "id": "f944b737-ef88-4415-a701-40c41804e228",
   "metadata": {},
   "outputs": [],
   "source": [
    "def quantification_ii_2(df, target_col, feature_cols):\n",
    "    # カテゴリカル変数をダミー変換\n",
    "    X = pd.get_dummies(df[[target_col] + feature_cols])\n",
    "    target_dummies = [col for col in X.columns if col.startswith(target_col + \"_\")]\n",
    "    dependent_vars = [col for col in X.columns if col not in target_dummies]\n",
    "    \n",
    "    # 共分散行列の計算\n",
    "    S_tot = X[dependent_vars].cov(ddof=0)\n",
    "    \n",
    "    # 各クラスのデータ数\n",
    "    class_counts = {cls: X[f'{target_col}_{cls}'].sum() for cls in df[target_col].unique()}\n",
    "    \n",
    "    # 各クラスの共分散行列\n",
    "    S_class = {cls: X[X[f'{target_col}_{cls}'] == 1][dependent_vars].cov(ddof=0) for cls in df[target_col].unique()}\n",
    "    \n",
    "    # 群内共分散行列と群間共分散行列\n",
    "    N_total = sum(class_counts.values())\n",
    "    S_within = sum(class_counts[cls] * S_class[cls] for cls in class_counts) / N_total\n",
    "    S_between = S_tot - S_within\n",
    "    \n",
    "    # 固有値・固有ベクトルの計算\n",
    "    eig_vals, eig_vecs = np.linalg.eig(np.linalg.inv(S_tot).dot(S_between))\n",
    "    argsort_ev = np.argsort(eig_vals)\n",
    "    \n",
    "    # 第1主成分（y1）\n",
    "    idx_eta_square_1 = argsort_ev[-1]\n",
    "    qualitization_vector_1 = eig_vecs[:, idx_eta_square_1]\n",
    "    df_with_y = pd.concat([df[[target_col]], X[dependent_vars]], axis=1)\n",
    "    df_with_y['y1'] = X[dependent_vars].dot(qualitization_vector_1)\n",
    "    \n",
    "    # 第2主成分（y2）\n",
    "    idx_eta_square_2 = argsort_ev[-2]\n",
    "    qualitization_vector_2 = eig_vecs[:, idx_eta_square_2]\n",
    "    df_with_y['y2'] = X[dependent_vars].dot(qualitization_vector_2)\n",
    "    \n",
    "    # 符号調整\n",
    "    y1_means = df_with_y.groupby(target_col, observed=False)['y1'].mean()\n",
    "    if y1_means.iloc[0] < y1_means.iloc[-1]:\n",
    "        qualitization_vector_1 *= -1\n",
    "        df_with_y['y1'] *= -1\n",
    "    \n",
    "    y2_means = df_with_y.groupby(target_col, observed=False)['y2'].mean()\n",
    "    if y2_means.iloc[0] < y2_means.iloc[-1]:\n",
    "        qualitization_vector_2 *= -1\n",
    "        df_with_y['y2'] *= -1\n",
    "    \n",
    "    # 固有値と変数名の対応\n",
    "    eigen_info = pd.DataFrame({\n",
    "        'Variable': dependent_vars,\n",
    "        'EigenVector_1': qualitization_vector_1,\n",
    "        'EigenVector_2': qualitization_vector_2\n",
    "    })\n",
    "    \n",
    "    # 分布をプロット\n",
    "    plt.figure(figsize=(8, 6))\n",
    "    markers = ['o', '^', 's', 'x', 'D']\n",
    "    for idx, cls in enumerate(df[target_col].unique()):\n",
    "        data = df_with_y[df_with_y[target_col] == cls]\n",
    "        plt.scatter(data['y1'], data['y2'], label=cls, alpha=0.5, marker=markers[idx % len(markers)])\n",
    "    \n",
    "    plt.xlabel('y1 (First Discriminant Axis)')\n",
    "    plt.ylabel('y2 (Second Discriminant Axis)')\n",
    "    plt.legend()\n",
    "    plt.grid()\n",
    "    plt.show()\n",
    "    \n",
    "    return df_with_y, eigen_info, qualitization_vector_1, qualitization_vector_2\n"
   ]
  },
  {
   "cell_type": "code",
   "execution_count": 56,
   "id": "3950249c-b6ad-44ba-a5fb-4595fd801660",
   "metadata": {},
   "outputs": [],
   "source": [
    "def quantification_ii_3(df, target_col, feature_cols, qual1, qual2):\n",
    "    \"\"\"\n",
    "    数量化Ⅱ類の結果を自動で可視化する関数\n",
    "    \n",
    "    Args:\n",
    "        df: データフレーム\n",
    "        target_col: 目的変数のカラム名\n",
    "        feature_cols: 説明変数（カテゴリ変数）のカラム名リスト\n",
    "        qual1: 1つ目の判別軸の数量化ベクトル\n",
    "        qual2: 2つ目の判別軸の数量化ベクトル\n",
    "    \n",
    "    Returns:\n",
    "        None (プロットを表示)\n",
    "    \"\"\"\n",
    "    \n",
    "    # 1. カテゴリーリスト & 各カテゴリの要素数を自動取得\n",
    "    category_groups = []\n",
    "    categories = []\n",
    "    \n",
    "    for col in feature_cols:\n",
    "        unique_values = df[col].unique()\n",
    "        category_groups.append(len(unique_values))\n",
    "        categories.extend([f\"{col}_{val}\" for val in unique_values])\n",
    "\n",
    "    def centerize_qualitization(qual, category_groups):\n",
    "        \"\"\" 各カテゴリのスコアを中心化 \"\"\"\n",
    "        start = 0\n",
    "        centered_qual = []\n",
    "        for size in category_groups:\n",
    "            group = np.concatenate([qual[start:start + size], [0]])\n",
    "            group = group - group.mean()\n",
    "            centered_qual.append(group[:-1])\n",
    "            start += size\n",
    "        return np.concatenate(centered_qual)\n",
    "\n",
    "    # 2. 中心化\n",
    "    y1 = centerize_qualitization(qual1, category_groups)\n",
    "    y2 = centerize_qualitization(qual2, category_groups)\n",
    "\n",
    "    # 3. データフレーム作成\n",
    "    df_qualitization = pd.DataFrame({'category': categories, 'y1': y1, 'y2': y2})\n",
    "\n",
    "    # 4. 可視化\n",
    "    plt.figure(figsize=(8, 6))\n",
    "    plt.scatter(df_qualitization['y1'], df_qualitization['y2'], s=100)\n",
    "\n",
    "    texts = [\n",
    "        plt.text(df_qualitization['y1'][i], df_qualitization['y2'][i], df_qualitization['category'][i], \n",
    "                 fontsize=14, ha='center', va='center') \n",
    "        for i in range(len(df_qualitization))\n",
    "    ]\n",
    "\n",
    "    adjust_text(texts)\n",
    "    plt.xlabel(\"First Discriminant Axis (y1)\")\n",
    "    plt.ylabel(\"Second Discriminant Axis (y2)\")\n",
    "    plt.title(\"Visualization of Quantification II Categories\")\n",
    "    plt.show()"
   ]
  },
  {
   "cell_type": "markdown",
   "id": "a56a8940-7741-40f7-a508-c084bedf193a",
   "metadata": {},
   "source": [
    "##### 例) タイタニック"
   ]
  },
  {
   "cell_type": "code",
   "execution_count": 57,
   "id": "63003682-833e-4931-8e59-01d2c7dccc83",
   "metadata": {},
   "outputs": [
    {
     "data": {
      "text/html": [
       "<div>\n",
       "<style scoped>\n",
       "    .dataframe tbody tr th:only-of-type {\n",
       "        vertical-align: middle;\n",
       "    }\n",
       "\n",
       "    .dataframe tbody tr th {\n",
       "        vertical-align: top;\n",
       "    }\n",
       "\n",
       "    .dataframe thead th {\n",
       "        text-align: right;\n",
       "    }\n",
       "</style>\n",
       "<table border=\"1\" class=\"dataframe\">\n",
       "  <thead>\n",
       "    <tr style=\"text-align: right;\">\n",
       "      <th></th>\n",
       "      <th>PassengerId</th>\n",
       "      <th>Survived</th>\n",
       "      <th>Pclass</th>\n",
       "      <th>Name</th>\n",
       "      <th>Sex</th>\n",
       "      <th>Age</th>\n",
       "      <th>SibSp</th>\n",
       "      <th>Parch</th>\n",
       "      <th>Ticket</th>\n",
       "      <th>Fare</th>\n",
       "      <th>Cabin</th>\n",
       "      <th>Embarked</th>\n",
       "    </tr>\n",
       "  </thead>\n",
       "  <tbody>\n",
       "    <tr>\n",
       "      <th>1</th>\n",
       "      <td>2</td>\n",
       "      <td>1</td>\n",
       "      <td>1</td>\n",
       "      <td>Cumings, Mrs. John Bradley (Florence Briggs Th...</td>\n",
       "      <td>female</td>\n",
       "      <td>38.0</td>\n",
       "      <td>1</td>\n",
       "      <td>0</td>\n",
       "      <td>PC 17599</td>\n",
       "      <td>71.2833</td>\n",
       "      <td>C85</td>\n",
       "      <td>C</td>\n",
       "    </tr>\n",
       "    <tr>\n",
       "      <th>3</th>\n",
       "      <td>4</td>\n",
       "      <td>1</td>\n",
       "      <td>1</td>\n",
       "      <td>Futrelle, Mrs. Jacques Heath (Lily May Peel)</td>\n",
       "      <td>female</td>\n",
       "      <td>35.0</td>\n",
       "      <td>1</td>\n",
       "      <td>0</td>\n",
       "      <td>113803</td>\n",
       "      <td>53.1000</td>\n",
       "      <td>C123</td>\n",
       "      <td>S</td>\n",
       "    </tr>\n",
       "    <tr>\n",
       "      <th>6</th>\n",
       "      <td>7</td>\n",
       "      <td>0</td>\n",
       "      <td>1</td>\n",
       "      <td>McCarthy, Mr. Timothy J</td>\n",
       "      <td>male</td>\n",
       "      <td>54.0</td>\n",
       "      <td>0</td>\n",
       "      <td>0</td>\n",
       "      <td>17463</td>\n",
       "      <td>51.8625</td>\n",
       "      <td>E46</td>\n",
       "      <td>S</td>\n",
       "    </tr>\n",
       "    <tr>\n",
       "      <th>10</th>\n",
       "      <td>11</td>\n",
       "      <td>1</td>\n",
       "      <td>3</td>\n",
       "      <td>Sandstrom, Miss. Marguerite Rut</td>\n",
       "      <td>female</td>\n",
       "      <td>4.0</td>\n",
       "      <td>1</td>\n",
       "      <td>1</td>\n",
       "      <td>PP 9549</td>\n",
       "      <td>16.7000</td>\n",
       "      <td>G6</td>\n",
       "      <td>S</td>\n",
       "    </tr>\n",
       "    <tr>\n",
       "      <th>11</th>\n",
       "      <td>12</td>\n",
       "      <td>1</td>\n",
       "      <td>1</td>\n",
       "      <td>Bonnell, Miss. Elizabeth</td>\n",
       "      <td>female</td>\n",
       "      <td>58.0</td>\n",
       "      <td>0</td>\n",
       "      <td>0</td>\n",
       "      <td>113783</td>\n",
       "      <td>26.5500</td>\n",
       "      <td>C103</td>\n",
       "      <td>S</td>\n",
       "    </tr>\n",
       "  </tbody>\n",
       "</table>\n",
       "</div>"
      ],
      "text/plain": [
       "    PassengerId  Survived  Pclass  \\\n",
       "1             2         1       1   \n",
       "3             4         1       1   \n",
       "6             7         0       1   \n",
       "10           11         1       3   \n",
       "11           12         1       1   \n",
       "\n",
       "                                                 Name     Sex   Age  SibSp  \\\n",
       "1   Cumings, Mrs. John Bradley (Florence Briggs Th...  female  38.0      1   \n",
       "3        Futrelle, Mrs. Jacques Heath (Lily May Peel)  female  35.0      1   \n",
       "6                             McCarthy, Mr. Timothy J    male  54.0      0   \n",
       "10                    Sandstrom, Miss. Marguerite Rut  female   4.0      1   \n",
       "11                           Bonnell, Miss. Elizabeth  female  58.0      0   \n",
       "\n",
       "    Parch    Ticket     Fare Cabin Embarked  \n",
       "1       0  PC 17599  71.2833   C85        C  \n",
       "3       0    113803  53.1000  C123        S  \n",
       "6       0     17463  51.8625   E46        S  \n",
       "10      1   PP 9549  16.7000    G6        S  \n",
       "11      0    113783  26.5500  C103        S  "
      ]
     },
     "execution_count": 57,
     "metadata": {},
     "output_type": "execute_result"
    }
   ],
   "source": [
    "df = pd.read_csv(\"dataset/titanic/train.csv\")\n",
    "df = df.dropna() # 今回欠損値は削除する\n",
    "df.head()"
   ]
  },
  {
   "cell_type": "code",
   "execution_count": 58,
   "id": "834ff526-edbf-4d7d-a284-880e8fe90557",
   "metadata": {},
   "outputs": [
    {
     "name": "stdout",
     "output_type": "stream",
     "text": [
      "<class 'pandas.core.frame.DataFrame'>\n",
      "Index: 183 entries, 1 to 889\n",
      "Data columns (total 12 columns):\n",
      " #   Column       Non-Null Count  Dtype  \n",
      "---  ------       --------------  -----  \n",
      " 0   PassengerId  183 non-null    int64  \n",
      " 1   Survived     183 non-null    int64  \n",
      " 2   Pclass       183 non-null    int64  \n",
      " 3   Name         183 non-null    object \n",
      " 4   Sex          183 non-null    object \n",
      " 5   Age          183 non-null    float64\n",
      " 6   SibSp        183 non-null    int64  \n",
      " 7   Parch        183 non-null    int64  \n",
      " 8   Ticket       183 non-null    object \n",
      " 9   Fare         183 non-null    float64\n",
      " 10  Cabin        183 non-null    object \n",
      " 11  Embarked     183 non-null    object \n",
      "dtypes: float64(2), int64(5), object(5)\n",
      "memory usage: 18.6+ KB\n"
     ]
    }
   ],
   "source": [
    "df.info()"
   ]
  },
  {
   "cell_type": "code",
   "execution_count": 59,
   "id": "404cbe73-0857-4c8c-827e-78ce991afbe3",
   "metadata": {},
   "outputs": [
    {
     "name": "stdout",
     "output_type": "stream",
     "text": [
      "<class 'pandas.core.frame.DataFrame'>\n",
      "Index: 183 entries, 1 to 889\n",
      "Data columns (total 12 columns):\n",
      " #   Column       Non-Null Count  Dtype   \n",
      "---  ------       --------------  -----   \n",
      " 0   PassengerId  183 non-null    int64   \n",
      " 1   Survived     183 non-null    category\n",
      " 2   Pclass       183 non-null    category\n",
      " 3   Name         183 non-null    object  \n",
      " 4   Sex          183 non-null    object  \n",
      " 5   Age          183 non-null    float64 \n",
      " 6   SibSp        183 non-null    category\n",
      " 7   Parch        183 non-null    category\n",
      " 8   Ticket       183 non-null    object  \n",
      " 9   Fare         183 non-null    float64 \n",
      " 10  Cabin        183 non-null    object  \n",
      " 11  Embarked     183 non-null    object  \n",
      "dtypes: category(4), float64(2), int64(1), object(5)\n",
      "memory usage: 14.2+ KB\n"
     ]
    }
   ],
   "source": [
    "df = convert_int_to_category(df, columns = [\"Survived\", \"Pclass\", \"SibSp\", \"Parch\"])\n",
    "df.info()"
   ]
  },
  {
   "cell_type": "code",
   "execution_count": 60,
   "id": "36608e71-b73f-46a6-a18b-26a701d0e9be",
   "metadata": {},
   "outputs": [
    {
     "name": "stderr",
     "output_type": "stream",
     "text": [
      "/usr/local/lib/python3.10/dist-packages/matplotlib/cbook.py:1709: ComplexWarning: Casting complex values to real discards the imaginary part\n",
      "  return math.isfinite(val)\n",
      "/usr/local/lib/python3.10/dist-packages/numpy/lib/_histograms_impl.py:851: ComplexWarning: Casting complex values to real discards the imaginary part\n",
      "  indices = f_indices.astype(np.intp)\n",
      "/usr/local/lib/python3.10/dist-packages/matplotlib/axes/_axes.py:7096: ComplexWarning: Casting complex values to real discards the imaginary part\n",
      "  bins = np.array(bins, float)  # causes problems if float16\n"
     ]
    },
    {
     "data": {
      "image/png": "[encoded data removed]",
      "text/plain": [
       "<Figure size 640x480 with 1 Axes>"
      ]
     },
     "metadata": {},
     "output_type": "display_data"
    }
   ],
   "source": [
    "feature_cols = [\"Pclass\", 'SibSp', 'Parch', 'Sex', 'Embarked']\n",
    "target_col = \"Survived\"\n",
    "df_with_y, qualitization_vector, eigenvalue_df = quantification_ii_1(df, target_col, feature_cols)"
   ]
  },
  {
   "cell_type": "markdown",
   "id": "04f3457e-f6b3-48e4-b207-300f9101a9b6",
   "metadata": {},
   "source": [
    "- 0と1でうまくわけられていない"
   ]
  },
  {
   "cell_type": "code",
   "execution_count": 30,
   "id": "2859df19-e964-4570-84ab-8bda63052e13",
   "metadata": {},
   "outputs": [
    {
     "data": {
      "text/html": [
       "<div>\n",
       "<style scoped>\n",
       "    .dataframe tbody tr th:only-of-type {\n",
       "        vertical-align: middle;\n",
       "    }\n",
       "\n",
       "    .dataframe tbody tr th {\n",
       "        vertical-align: top;\n",
       "    }\n",
       "\n",
       "    .dataframe thead th {\n",
       "        text-align: right;\n",
       "    }\n",
       "</style>\n",
       "<table border=\"1\" class=\"dataframe\">\n",
       "  <thead>\n",
       "    <tr style=\"text-align: right;\">\n",
       "      <th></th>\n",
       "      <th>variable</th>\n",
       "      <th>eigenvalue_contribution</th>\n",
       "    </tr>\n",
       "  </thead>\n",
       "  <tbody>\n",
       "    <tr>\n",
       "      <th>14</th>\n",
       "      <td>Embarked_Q</td>\n",
       "      <td>-0.512781-0.000000j</td>\n",
       "    </tr>\n",
       "    <tr>\n",
       "      <th>15</th>\n",
       "      <td>Embarked_S</td>\n",
       "      <td>-0.512428-0.000000j</td>\n",
       "    </tr>\n",
       "    <tr>\n",
       "      <th>13</th>\n",
       "      <td>Embarked_C</td>\n",
       "      <td>-0.512108-0.000000j</td>\n",
       "    </tr>\n",
       "    <tr>\n",
       "      <th>2</th>\n",
       "      <td>Pclass_3</td>\n",
       "      <td>0.260661-0.000000j</td>\n",
       "    </tr>\n",
       "    <tr>\n",
       "      <th>0</th>\n",
       "      <td>Pclass_1</td>\n",
       "      <td>0.259838-0.000000j</td>\n",
       "    </tr>\n",
       "    <tr>\n",
       "      <th>1</th>\n",
       "      <td>Pclass_2</td>\n",
       "      <td>0.259282-0.000000j</td>\n",
       "    </tr>\n",
       "    <tr>\n",
       "      <th>12</th>\n",
       "      <td>Sex_male</td>\n",
       "      <td>0.060437-0.000000j</td>\n",
       "    </tr>\n",
       "    <tr>\n",
       "      <th>11</th>\n",
       "      <td>Sex_female</td>\n",
       "      <td>0.060436-0.000000j</td>\n",
       "    </tr>\n",
       "    <tr>\n",
       "      <th>10</th>\n",
       "      <td>Parch_4</td>\n",
       "      <td>0.018058-0.000000j</td>\n",
       "    </tr>\n",
       "    <tr>\n",
       "      <th>8</th>\n",
       "      <td>Parch_1</td>\n",
       "      <td>0.018047-0.000000j</td>\n",
       "    </tr>\n",
       "    <tr>\n",
       "      <th>7</th>\n",
       "      <td>Parch_0</td>\n",
       "      <td>0.018042-0.000000j</td>\n",
       "    </tr>\n",
       "    <tr>\n",
       "      <th>9</th>\n",
       "      <td>Parch_2</td>\n",
       "      <td>0.018039-0.000000j</td>\n",
       "    </tr>\n",
       "    <tr>\n",
       "      <th>6</th>\n",
       "      <td>SibSp_3</td>\n",
       "      <td>0.015225-0.000000j</td>\n",
       "    </tr>\n",
       "    <tr>\n",
       "      <th>4</th>\n",
       "      <td>SibSp_1</td>\n",
       "      <td>0.015216-0.000000j</td>\n",
       "    </tr>\n",
       "    <tr>\n",
       "      <th>5</th>\n",
       "      <td>SibSp_2</td>\n",
       "      <td>0.015182-0.000000j</td>\n",
       "    </tr>\n",
       "    <tr>\n",
       "      <th>3</th>\n",
       "      <td>SibSp_0</td>\n",
       "      <td>0.015173-0.000000j</td>\n",
       "    </tr>\n",
       "  </tbody>\n",
       "</table>\n",
       "</div>"
      ],
      "text/plain": [
       "      variable  eigenvalue_contribution\n",
       "14  Embarked_Q      -0.512781-0.000000j\n",
       "15  Embarked_S      -0.512428-0.000000j\n",
       "13  Embarked_C      -0.512108-0.000000j\n",
       "2     Pclass_3       0.260661-0.000000j\n",
       "0     Pclass_1       0.259838-0.000000j\n",
       "1     Pclass_2       0.259282-0.000000j\n",
       "12    Sex_male       0.060437-0.000000j\n",
       "11  Sex_female       0.060436-0.000000j\n",
       "10     Parch_4       0.018058-0.000000j\n",
       "8      Parch_1       0.018047-0.000000j\n",
       "7      Parch_0       0.018042-0.000000j\n",
       "9      Parch_2       0.018039-0.000000j\n",
       "6      SibSp_3       0.015225-0.000000j\n",
       "4      SibSp_1       0.015216-0.000000j\n",
       "5      SibSp_2       0.015182-0.000000j\n",
       "3      SibSp_0       0.015173-0.000000j"
      ]
     },
     "execution_count": 30,
     "metadata": {},
     "output_type": "execute_result"
    }
   ],
   "source": [
    "# 固有ベクトル\n",
    "eigenvalue_df"
   ]
  },
  {
   "cell_type": "code",
   "execution_count": 33,
   "id": "6ea15477-2225-48d2-9b99-812fa87053bc",
   "metadata": {},
   "outputs": [
    {
     "data": {
      "text/plain": [
       "array([ 0.25983758-0.j,  0.2592819 -0.j,  0.26066084-0.j,  0.01517273-0.j,\n",
       "        0.01521564-0.j,  0.01518219-0.j,  0.0152252 -0.j,  0.01804239-0.j,\n",
       "        0.01804721-0.j,  0.01803905-0.j,  0.01805771-0.j,  0.06043592-0.j,\n",
       "        0.06043659-0.j, -0.51210799+0.j, -0.51278084+0.j, -0.51242818+0.j])"
      ]
     },
     "execution_count": 33,
     "metadata": {},
     "output_type": "execute_result"
    }
   ],
   "source": [
    "qualitization_vector"
   ]
  },
  {
   "cell_type": "code",
   "execution_count": 35,
   "id": "c0020d63-6952-4758-8280-ab7403dbcd94",
   "metadata": {},
   "outputs": [
    {
     "name": "stderr",
     "output_type": "stream",
     "text": [
      "/usr/local/lib/python3.10/dist-packages/matplotlib/cbook.py:1709: ComplexWarning: Casting complex values to real discards the imaginary part\n",
      "  return math.isfinite(val)\n",
      "/usr/local/lib/python3.10/dist-packages/matplotlib/collections.py:200: ComplexWarning: Casting complex values to real discards the imaginary part\n",
      "  offsets = np.asanyarray(offsets, float)\n"
     ]
    },
    {
     "data": {
      "image/png": "[encoded data removed]",
      "text/plain": [
       "<Figure size 800x600 with 1 Axes>"
      ]
     },
     "metadata": {},
     "output_type": "display_data"
    }
   ],
   "source": [
    "df_with_y, eigen_info, qualitization_vector_1, qualitization_vector_2 = quantification_ii_2(df, target_col, feature_cols)"
   ]
  },
  {
   "cell_type": "code",
   "execution_count": 36,
   "id": "5f1e7325-7064-4f53-9297-b17bc058a00c",
   "metadata": {},
   "outputs": [
    {
     "data": {
      "text/html": [
       "<div>\n",
       "<style scoped>\n",
       "    .dataframe tbody tr th:only-of-type {\n",
       "        vertical-align: middle;\n",
       "    }\n",
       "\n",
       "    .dataframe tbody tr th {\n",
       "        vertical-align: top;\n",
       "    }\n",
       "\n",
       "    .dataframe thead th {\n",
       "        text-align: right;\n",
       "    }\n",
       "</style>\n",
       "<table border=\"1\" class=\"dataframe\">\n",
       "  <thead>\n",
       "    <tr style=\"text-align: right;\">\n",
       "      <th></th>\n",
       "      <th>Variable</th>\n",
       "      <th>EigenVector_1</th>\n",
       "      <th>EigenVector_2</th>\n",
       "    </tr>\n",
       "  </thead>\n",
       "  <tbody>\n",
       "    <tr>\n",
       "      <th>0</th>\n",
       "      <td>Pclass_1</td>\n",
       "      <td>0.259838-0.000000j</td>\n",
       "      <td>-0.066798+0.000000j</td>\n",
       "    </tr>\n",
       "    <tr>\n",
       "      <th>1</th>\n",
       "      <td>Pclass_2</td>\n",
       "      <td>0.259282-0.000000j</td>\n",
       "      <td>-0.064304+0.000000j</td>\n",
       "    </tr>\n",
       "    <tr>\n",
       "      <th>2</th>\n",
       "      <td>Pclass_3</td>\n",
       "      <td>0.260661-0.000000j</td>\n",
       "      <td>-0.076891+0.000000j</td>\n",
       "    </tr>\n",
       "    <tr>\n",
       "      <th>3</th>\n",
       "      <td>SibSp_0</td>\n",
       "      <td>0.015173-0.000000j</td>\n",
       "      <td>-0.269075+0.000000j</td>\n",
       "    </tr>\n",
       "    <tr>\n",
       "      <th>4</th>\n",
       "      <td>SibSp_1</td>\n",
       "      <td>0.015216-0.000000j</td>\n",
       "      <td>-0.270757+0.000000j</td>\n",
       "    </tr>\n",
       "    <tr>\n",
       "      <th>5</th>\n",
       "      <td>SibSp_2</td>\n",
       "      <td>0.015182-0.000000j</td>\n",
       "      <td>-0.269541+0.000000j</td>\n",
       "    </tr>\n",
       "    <tr>\n",
       "      <th>6</th>\n",
       "      <td>SibSp_3</td>\n",
       "      <td>0.015225-0.000000j</td>\n",
       "      <td>-0.270002+0.000000j</td>\n",
       "    </tr>\n",
       "    <tr>\n",
       "      <th>7</th>\n",
       "      <td>Parch_0</td>\n",
       "      <td>0.018042-0.000000j</td>\n",
       "      <td>-0.188954+0.000000j</td>\n",
       "    </tr>\n",
       "    <tr>\n",
       "      <th>8</th>\n",
       "      <td>Parch_1</td>\n",
       "      <td>0.018047-0.000000j</td>\n",
       "      <td>-0.189674+0.000000j</td>\n",
       "    </tr>\n",
       "    <tr>\n",
       "      <th>9</th>\n",
       "      <td>Parch_2</td>\n",
       "      <td>0.018039-0.000000j</td>\n",
       "      <td>-0.189679+0.000000j</td>\n",
       "    </tr>\n",
       "    <tr>\n",
       "      <th>10</th>\n",
       "      <td>Parch_4</td>\n",
       "      <td>0.018058-0.000000j</td>\n",
       "      <td>-0.188664+0.000000j</td>\n",
       "    </tr>\n",
       "    <tr>\n",
       "      <th>11</th>\n",
       "      <td>Sex_female</td>\n",
       "      <td>0.060436-0.000000j</td>\n",
       "      <td>-0.463071+0.000000j</td>\n",
       "    </tr>\n",
       "    <tr>\n",
       "      <th>12</th>\n",
       "      <td>Sex_male</td>\n",
       "      <td>0.060437-0.000000j</td>\n",
       "      <td>-0.463074+0.000000j</td>\n",
       "    </tr>\n",
       "    <tr>\n",
       "      <th>13</th>\n",
       "      <td>Embarked_C</td>\n",
       "      <td>-0.512108+0.000000j</td>\n",
       "      <td>0.186817+0.000000j</td>\n",
       "    </tr>\n",
       "    <tr>\n",
       "      <th>14</th>\n",
       "      <td>Embarked_Q</td>\n",
       "      <td>-0.512781+0.000000j</td>\n",
       "      <td>0.209189+0.000000j</td>\n",
       "    </tr>\n",
       "    <tr>\n",
       "      <th>15</th>\n",
       "      <td>Embarked_S</td>\n",
       "      <td>-0.512428+0.000000j</td>\n",
       "      <td>0.208426+0.000000j</td>\n",
       "    </tr>\n",
       "  </tbody>\n",
       "</table>\n",
       "</div>"
      ],
      "text/plain": [
       "      Variable       EigenVector_1       EigenVector_2\n",
       "0     Pclass_1  0.259838-0.000000j -0.066798+0.000000j\n",
       "1     Pclass_2  0.259282-0.000000j -0.064304+0.000000j\n",
       "2     Pclass_3  0.260661-0.000000j -0.076891+0.000000j\n",
       "3      SibSp_0  0.015173-0.000000j -0.269075+0.000000j\n",
       "4      SibSp_1  0.015216-0.000000j -0.270757+0.000000j\n",
       "5      SibSp_2  0.015182-0.000000j -0.269541+0.000000j\n",
       "6      SibSp_3  0.015225-0.000000j -0.270002+0.000000j\n",
       "7      Parch_0  0.018042-0.000000j -0.188954+0.000000j\n",
       "8      Parch_1  0.018047-0.000000j -0.189674+0.000000j\n",
       "9      Parch_2  0.018039-0.000000j -0.189679+0.000000j\n",
       "10     Parch_4  0.018058-0.000000j -0.188664+0.000000j\n",
       "11  Sex_female  0.060436-0.000000j -0.463071+0.000000j\n",
       "12    Sex_male  0.060437-0.000000j -0.463074+0.000000j\n",
       "13  Embarked_C -0.512108+0.000000j  0.186817+0.000000j\n",
       "14  Embarked_Q -0.512781+0.000000j  0.209189+0.000000j\n",
       "15  Embarked_S -0.512428+0.000000j  0.208426+0.000000j"
      ]
     },
     "execution_count": 36,
     "metadata": {},
     "output_type": "execute_result"
    }
   ],
   "source": [
    "eigen_info"
   ]
  },
  {
   "cell_type": "code",
   "execution_count": 37,
   "id": "2d040500-2baa-40d1-8038-f44b7ea7903c",
   "metadata": {},
   "outputs": [
    {
     "name": "stderr",
     "output_type": "stream",
     "text": [
      "/usr/local/lib/python3.10/dist-packages/matplotlib/cbook.py:1709: ComplexWarning: Casting complex values to real discards the imaginary part\n",
      "  return math.isfinite(val)\n",
      "/usr/local/lib/python3.10/dist-packages/matplotlib/collections.py:200: ComplexWarning: Casting complex values to real discards the imaginary part\n",
      "  offsets = np.asanyarray(offsets, float)\n",
      "/usr/local/lib/python3.10/dist-packages/matplotlib/text.py:762: ComplexWarning: Casting complex values to real discards the imaginary part\n",
      "  posx = float(self.convert_xunits(x))\n",
      "/usr/local/lib/python3.10/dist-packages/matplotlib/text.py:763: ComplexWarning: Casting complex values to real discards the imaginary part\n",
      "  posy = float(self.convert_yunits(y))\n",
      "/usr/local/lib/python3.10/dist-packages/matplotlib/text.py:905: ComplexWarning: Casting complex values to real discards the imaginary part\n",
      "  x = float(self.convert_xunits(self._x))\n",
      "/usr/local/lib/python3.10/dist-packages/matplotlib/text.py:906: ComplexWarning: Casting complex values to real discards the imaginary part\n",
      "  y = float(self.convert_yunits(self._y))\n"
     ]
    },
    {
     "data": {
      "image/png": "[encoded data removed]",
      "text/plain": [
       "<Figure size 800x600 with 1 Axes>"
      ]
     },
     "metadata": {},
     "output_type": "display_data"
    }
   ],
   "source": [
    "quantification_ii_3(df, target_col, feature_cols, qualitization_vector_1, qualitization_vector_2)"
   ]
  },
  {
   "cell_type": "code",
   "execution_count": null,
   "id": "8c0fe1d9-10c2-421e-be26-b0d8fafda34f",
   "metadata": {},
   "outputs": [],
   "source": []
  },
  {
   "cell_type": "markdown",
   "id": "cca133bd-affd-434a-a7ca-6edf39822214",
   "metadata": {},
   "source": [
    "#### 数量化Ⅲ類\n",
    "- アンケートデータで主に使われる\n",
    "- 現状、アンケートデータを使用することは無いので一旦スキップする"
   ]
  },
  {
   "cell_type": "code",
   "execution_count": null,
   "id": "46da4486-4253-4bc3-abb3-491c912bc41f",
   "metadata": {},
   "outputs": [],
   "source": []
  },
  {
   "cell_type": "code",
   "execution_count": null,
   "id": "fc076ffe-0efd-4c16-bb18-9a948697dae4",
   "metadata": {},
   "outputs": [],
   "source": []
  },
  {
   "cell_type": "markdown",
   "id": "74f95a89-9922-4b68-b2d6-b70d0fd201be",
   "metadata": {},
   "source": [
    "#### 数量化Ⅳ類\n",
    "- 距離や相関、共通する属性データの数などの類似度を示すデータを2次元に可視化する手法\n",
    "- 類似度の高いものは近く、類似度の低いものは遠くになっている場合、固有ベクトルはうまく類似度を反映できていると言える。\n",
    "    - 次元削減にも使える"
   ]
  },
  {
   "cell_type": "code",
   "execution_count": 63,
   "id": "58d10b0a-108e-4a00-8fe7-d7ac2e8fda02",
   "metadata": {},
   "outputs": [],
   "source": [
    "import numpy as np\n",
    "import pandas as pd\n",
    "import matplotlib.pyplot as plt\n",
    "from adjustText import adjust_text\n",
    "\n",
    "def quantification_type_iv(df_scores, labels=None):\n",
    "    \"\"\"\n",
    "    数量化Ⅳ類を適用し、データを2次元に可視化する\n",
    "    \n",
    "    Parameters:\n",
    "    df_scores (pd.DataFrame): 相関行列を求めるデータフレーム\n",
    "    labels (dict, optional): カラム名をマッピングする辞書（例: {'数学': 'Math', '英語': 'English'}）\n",
    "    \n",
    "    Returns:\n",
    "    pd.DataFrame: 2次元に変換したデータフレーム\n",
    "    \"\"\"\n",
    "    \n",
    "    # 相関行列を計算\n",
    "    df_corr = df_scores.corr()\n",
    "\n",
    "    # 行列の作成\n",
    "    nda_diag = - np.diag((df_corr.sum(axis=0).values - 1) + (df_corr.sum(axis=1).values - 1))\n",
    "    nda_non_diag_pre = (df_corr + df_corr.T).values\n",
    "    nda_non_diag = nda_non_diag_pre - np.diag(np.diag(nda_non_diag_pre))\n",
    "    nda_matrix = nda_diag + nda_non_diag\n",
    "\n",
    "    # 固有値・固有ベクトルの計算\n",
    "    eig_val, eig_vec = np.linalg.eig(nda_matrix)\n",
    "\n",
    "    # 固有値の降順ソート\n",
    "    argsort = np.argsort(-eig_val)\n",
    "    qualification_vector_1 = eig_vec[:, argsort[1]] # 一番大きい固有値に対応する固有ベクトル\n",
    "    qualification_vector_2 = eig_vec[:, argsort[2]] # 二番目に大きい固有値に対応する固有ベクトル\n",
    "\n",
    "    # 結果をデータフレーム化\n",
    "    df_qualification = pd.DataFrame({'qv_1': qualification_vector_1, 'qv_2': qualification_vector_2}, index=df_scores.columns)\n",
    "\n",
    "    # 可視化\n",
    "    plt.figure(figsize=(10, 7))\n",
    "    plt.scatter(df_qualification['qv_1'], df_qualification['qv_2'], s=100)\n",
    "\n",
    "    # ラベルを追加\n",
    "    texts = []\n",
    "    for i in range(len(df_qualification)):\n",
    "        label = df_qualification.index[i]\n",
    "        if labels and label in labels:\n",
    "            label = labels[label]\n",
    "        texts.append(plt.text(df_qualification['qv_1'][i], df_qualification['qv_2'][i], label, fontsize=18, ha='center', va='center'))\n",
    "    \n",
    "    adjust_text(texts)\n",
    "\n",
    "    # 補助線\n",
    "    plt.axhline(y=0, color='gray', alpha=0.5, linewidth=1, linestyle='--')\n",
    "    plt.axvline(x=0, color='gray', alpha=0.5, linewidth=1, linestyle='--')\n",
    "\n",
    "    plt.title(\"Quantification Type IV Visualization\")\n",
    "    plt.show()\n",
    "\n",
    "    return df_qualification\n"
   ]
  },
  {
   "cell_type": "code",
   "execution_count": 64,
   "id": "6f2d496a-0246-46c3-bbd7-204e1cab213e",
   "metadata": {},
   "outputs": [
    {
     "name": "stderr",
     "output_type": "stream",
     "text": [
      "/tmp/ipykernel_2989/2467805729.py:48: FutureWarning: Series.__getitem__ treating keys as positions is deprecated. In a future version, integer keys will always be treated as labels (consistent with DataFrame behavior). To access a value by position, use `ser.iloc[pos]`\n",
      "  texts.append(plt.text(df_qualification['qv_1'][i], df_qualification['qv_2'][i], label, fontsize=18, ha='center', va='center'))\n"
     ]
    },
    {
     "data": {
      "image/png": "[encoded data removed]",
      "text/plain": [
       "<Figure size 1000x700 with 1 Axes>"
      ]
     },
     "metadata": {},
     "output_type": "display_data"
    }
   ],
   "source": [
    "df_scores = pd.DataFrame({  \n",
    "    '数学': [80, 75, 90, 85, 70],  \n",
    "    '英語': [65, 60, 80, 70, 75],  \n",
    "    '理科': [85, 80, 95, 90, 85],  \n",
    "    '社会': [60, 70, 75, 80, 65]\n",
    "})\n",
    "\n",
    "# 日本語の科目名を英語に変換（オプション）\n",
    "mapper_ja2en = {'数学': 'Math', '英語': 'English', '理科': 'Science', '社会': 'Social'}\n",
    "\n",
    "df_qualification = quantification_type_iv(df_scores, labels=mapper_ja2en)\n"
   ]
  },
  {
   "cell_type": "code",
   "execution_count": null,
   "id": "3e9e7a96-7a5d-4410-8aa3-b6919defd2fa",
   "metadata": {},
   "outputs": [],
   "source": []
  },
  {
   "cell_type": "code",
   "execution_count": null,
   "id": "d81646de-7baa-42ce-a5e6-6fd5b61a9334",
   "metadata": {},
   "outputs": [],
   "source": []
  },
  {
   "cell_type": "code",
   "execution_count": null,
   "id": "83987811-911e-45f2-9a15-b47d2bf2b6a3",
   "metadata": {},
   "outputs": [],
   "source": []
  },
  {
   "cell_type": "markdown",
   "id": "913e848c-b8a3-4300-b850-1cc9e421e4a1",
   "metadata": {},
   "source": [
    "### 回帰分析"
   ]
  },
  {
   "cell_type": "code",
   "execution_count": 1,
   "id": "6d3a0568-dfd2-4da0-bf3f-13bf25e9d42a",
   "metadata": {},
   "outputs": [],
   "source": [
    "import pandas as pd\n",
    "import statsmodels.api as sm\n",
    "from statsmodels.stats.outliers_influence import variance_inflation_factor\n",
    "\n",
    "def run_regression(df, target_col, feature_cols):\n",
    "    \"\"\"\n",
    "    汎用的な重回帰分析関数\n",
    "    - df: データフレーム\n",
    "    - target_col: 目的変数（数値型）\n",
    "    - feature_cols: 説明変数（数値 or カテゴリ変数）\n",
    "    \"\"\"\n",
    "    # データのコピー\n",
    "    data = df.copy()\n",
    "\n",
    "    # 説明変数のダミー変数化（カテゴリ変数を含む場合）\n",
    "    data = pd.get_dummies(data, columns=[col for col in feature_cols if data[col].dtype == \"object\"], drop_first=True)\n",
    "\n",
    "    # 目的変数と説明変数を取得\n",
    "    y = data[target_col]\n",
    "    X = data[feature_cols]\n",
    "\n",
    "    # 欠損値処理（平均値で補完）\n",
    "    X = X.fillna(X.mean())\n",
    "    y = y.fillna(y.mean())\n",
    "\n",
    "    # 定数項を追加\n",
    "    X = sm.add_constant(X)\n",
    "\n",
    "    # モデルの作成・学習\n",
    "    model = sm.OLS(y, X).fit()\n",
    "\n",
    "    # 結果の表示\n",
    "    print(model.summary())\n",
    "\n",
    "    # VIF（分散拡大係数）の計算\n",
    "    vif_data = pd.DataFrame()\n",
    "    vif_data[\"Feature\"] = X.columns\n",
    "    vif_data[\"VIF\"] = [variance_inflation_factor(X.values, i) for i in range(X.shape[1])]\n",
    "\n",
    "    print(\"\\n【VIF（多重共線性チェック）】\")\n",
    "    print(vif_data)\n",
    "\n",
    "    return model\n"
   ]
  },
  {
   "cell_type": "code",
   "execution_count": null,
   "id": "dc6740cf-2b98-4c6d-a4f7-587e72e0ec19",
   "metadata": {},
   "outputs": [],
   "source": []
  },
  {
   "cell_type": "markdown",
   "id": "31d6cdb2-e1cc-4c73-be4e-69f612bc53ef",
   "metadata": {},
   "source": [
    "## appendix"
   ]
  },
  {
   "cell_type": "markdown",
   "id": "334ce29b-296a-48f7-af33-042925d40da5",
   "metadata": {},
   "source": [
    "### 標本分布"
   ]
  },
  {
   "cell_type": "markdown",
   "id": "f79bbbe2-9cc3-4e9f-abc8-79624daf8d83",
   "metadata": {},
   "source": [
    "![標本分布](image/標本分布.jpg)"
   ]
  },
  {
   "cell_type": "markdown",
   "id": "6dccafe5-7a19-41dd-bacb-e7adb11e0834",
   "metadata": {},
   "source": [
    "### 確率分布"
   ]
  },
  {
   "cell_type": "markdown",
   "id": "0045723f-671b-42d7-be45-95f236ba8124",
   "metadata": {},
   "source": [
    "![確率分布](image/確率分布.jpg)"
   ]
  },
  {
   "cell_type": "code",
   "execution_count": null,
   "id": "76640d3a-6136-4192-bde4-023208256379",
   "metadata": {},
   "outputs": [],
   "source": []
  }
 ],
 "metadata": {
  "kernelspec": {
   "display_name": "Python 3 (ipykernel)",
   "language": "python",
   "name": "python3"
  },
  "language_info": {
   "codemirror_mode": {
    "name": "ipython",
    "version": 3
   },
   "file_extension": ".py",
   "mimetype": "text/x-python",
   "name": "python",
   "nbconvert_exporter": "python",
   "pygments_lexer": "ipython3",
   "version": "3.10.12"
  }
 },
 "nbformat": 4,
 "nbformat_minor": 5
}
