{
 "cells": [
  {
   "cell_type": "markdown",
   "id": "cb2964a6-f753-4900-9183-d974623bf26b",
   "metadata": {},
   "source": [
    "# 勾配ブースティング"
   ]
  },
  {
   "cell_type": "markdown",
   "id": "0af46f9b-3996-4e66-86b0-018fc86c13fb",
   "metadata": {},
   "source": [
    "<script type=\"text/javascript\" async src=\"https://cdnjs.cloudflare.com/ajax/libs/mathjax/2.7.7/MathJax.js?config=TeX-MML-AM_CHTML\">\n",
    "</script>\n",
    "<script type=\"text/x-mathjax-config\">\n",
    " MathJax.Hub.Config({\n",
    " tex2jax: {\n",
    " inlineMath: [['$', '$'] ],\n",
    " displayMath: [ ['$$','$$'], [\"\\\\[\",\"\\\\]\"] ]\n",
    " }\n",
    " });\n",
    "</script>\n",
    "- ここでは勾配ブースティングの仕組みについては述べない.  \n",
    "## 勾配ブースティング分類の式\n",
    "- 分類の勾配ブースティングでは回帰木による出力値をシグモイド関数によって確率値に変換し、予測値を出力する.\n",
    "$$ p = \\frac{1}{1 + e^{-F_b}} $$\n",
    "## 損失関数\n",
    "$\\begin{equation}\n",
    "\\begin{split}\n",
    "L &= -\\sum_{i = 1}^m(y_ilog(p_i) + (1 - y_i)log(1 - p_i)) \\\\\n",
    "&= -(y_i(log(p_i) - log(1 - p_i)) + log(1 - p_i)) \\\\\n",
    "&= -(y_ilog(\\frac{p_i}{1 - p_i}) + log(1 - p_i)) \\\\\n",
    "&= -(y_ilog(odds) + log(1 - p_i))\n",
    "\\end{split}\n",
    "\\end{equation}$  \n",
    "$ここで、p_i = \\frac{1}{1 + e^{-F_b}}　および、F_b(x_i) = log(\\frac{p_i}{1 - p_i}) = log(odds)から p_i = \\frac{1}{1 + e^{-log(odds)}}$  \n",
    "$\\begin{equation}\n",
    "\\begin{split}\n",
    "L &= -(y_ilog(odds) + log(1 - p_i)) \\\\\n",
    "&= -(y_ilog(odds) + log(1 - \\frac{1}{1 + e^{-log(odds)}})) \\\\\n",
    "&= -(y_ilog(odds) + log(\\frac{e^{-log(odds)}}{1 + e^{-log(odds)}}) \\\\\n",
    "&= -(y_ilog(odds) + log(\\frac{1}{1 + e^{log(odds)}}) \\\\\n",
    "&= -(y_ilog(odds) + log(1) - log(1 + e^{log(odds)}) \\\\\n",
    "&= -(y_ilog(odds) - log(1 + e^{log(odds)})\n",
    "\\end{split}\n",
    "\\end{equation}$  \n",
    "\n",
    "つまり、損失関数は$$\\mathbf{L = -\\sum_{i = 1}^m(y_ilog(odds) - log(1 + e^{log(odds)})}$$となる.  \n",
    "これが最小となる$odds(p_i)$を求める.  \n",
    "\n",
    "$\\begin{equation}\n",
    "\\begin{split}\n",
    "-\\frac{\\partial}{\\partial odds}\\sum_{i = 1}^m(y_ilog(odds) - log(1 + e^{log(odds)}) &= -\\sum_{i = 1}^my_i + m\\frac{e^{log(odds)}}{1 + e^{log(odds)}} \\\\\n",
    "&= -\\sum_{i = 1}^my_i + mp_i\n",
    "\\end{split}\n",
    "\\end{equation}$  \n",
    "\n",
    "$p_i = \\frac{1}{m}\\sum_{i = 1}^my_i$  \n",
    "$p_i = \\bar{y}$  \n",
    "よって$b = 0$(最初の回帰木)は平均$\\bar{y}$の対数オッズ比となる.  \n",
    "$F_0 = log(\\frac{\\bar{y}}{1 - \\bar{y}})$"
   ]
  },
  {
   "cell_type": "code",
   "execution_count": null,
   "id": "f2717100-c70b-4acb-8c16-b08ec4fb3f17",
   "metadata": {},
   "outputs": [],
   "source": []
  }
 ],
 "metadata": {
  "kernelspec": {
   "display_name": "Python 3 (ipykernel)",
   "language": "python",
   "name": "python3"
  },
  "language_info": {
   "codemirror_mode": {
    "name": "ipython",
    "version": 3
   },
   "file_extension": ".py",
   "mimetype": "text/x-python",
   "name": "python",
   "nbconvert_exporter": "python",
   "pygments_lexer": "ipython3",
   "version": "3.9.13"
  }
 },
 "nbformat": 4,
 "nbformat_minor": 5
}
