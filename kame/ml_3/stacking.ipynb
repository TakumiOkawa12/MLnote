{
 "cells": [
  {
   "cell_type": "markdown",
   "id": "b80ad6a1-129f-4d9c-b189-722d5e2a0cb2",
   "metadata": {},
   "source": [
    "## スタッキング"
   ]
  },
  {
   "cell_type": "code",
   "execution_count": 25,
   "id": "c9ca8171-e5d0-426f-9133-35fa1eb52cfd",
   "metadata": {},
   "outputs": [],
   "source": [
    "import pandas as pd\n",
    "import numpy as np\n",
    "import seaborn as sns\n",
    "import matplotlib.pyplot as plt\n",
    "from sklearn.model_selection import KFold, RepeatedKFold, train_test_split\n",
    "from sklearn.ensemble import StackingClassifier\n",
    "from sklearn.ensemble import RandomForestClassifier\n",
    "from sklearn.svm import SVC\n",
    "from sklearn.linear_model import LogisticRegression\n",
    "from sklearn.preprocessing import StandardScaler, OneHotEncoder\n",
    "from sklearn.pipeline import Pipeline\n",
    "from sklearn.preprocessing import OrdinalEncoder\n",
    "from sklearn.neighbors import KNeighborsClassifier"
   ]
  },
  {
   "cell_type": "code",
   "execution_count": 6,
   "id": "52119666-bc0e-40fc-89f8-d077e75558c1",
   "metadata": {},
   "outputs": [],
   "source": [
    "class MyStackingClassifierCV:\n",
    "    \n",
    "    def __init__(self, estimators, final_estimator, cv):\n",
    "        self.estimators = estimators\n",
    "        self.final_estimator = final_estimator\n",
    "        self.cv = cv\n",
    "    \n",
    "    def fit(self, X, y):\n",
    "        #2層目のモデルに使用する学習データのデータフレーム\n",
    "        pred_features = pd.DataFrame()\n",
    "        \n",
    "        # 1層目のモデル\n",
    "        for model_name, model in self.estimators:\n",
    "            pred_proba_df = pd.DataFrame()\n",
    "            \n",
    "            for n, train_index, test_index in enumerate(cv.split(X)):\n",
    "                X_train, X_test = X[train_index], X[test_index]\n",
    "                y_train, y_test = y[train_index], y[test_index]\n",
    "                model.fit(X_train, y_train)\n",
    "                y_pred_proba = model.predict_proba(X_test)[:, 1].to_list()\n",
    "                pred_proba_df[n] = y_pred_proba\n",
    "            pred_features[model_name] = pred_proba_df.mean(axis = 1)\n",
    "        \n",
    "        # 2層目のモデル\n",
    "        self."
   ]
  },
  {
   "cell_type": "code",
   "execution_count": 26,
   "id": "10e7209d-5a65-4399-9f13-1fa72109f5f9",
   "metadata": {},
   "outputs": [],
   "source": [
    "df = sns.load_dataset('titanic')\n",
    "df = df.dropna()\n",
    "\n",
    "# 学習データ作成\n",
    "X = df.loc[:, (df.columns != 'survived') & (df.columns != 'alive')]\n",
    "y = df[\"survived\"]\n",
    "\n",
    "# 決定木モデルではワンホットエンコーディングではなく、ラベルエンコーディングでも問題ない\n",
    "# 理由：\n",
    "oe = OrdinalEncoder()\n",
    "oe.set_output(transform = 'pandas')\n",
    "X = oe.fit_transform(X)\n",
    "\n",
    "X_train, X_test, y_train, y_test = train_test_split(X, y, test_size = 0.3, random_state = 0)"
   ]
  },
  {
   "cell_type": "code",
   "execution_count": 55,
   "id": "0db6ecb4-4ae7-467a-9772-8ee615f4f534",
   "metadata": {},
   "outputs": [],
   "source": [
    "class StackingClassifierCV():\n",
    "    \n",
    "    def __init__(self, estimators, final_estimator, cv):\n",
    "        self.estimators = estimators\n",
    "        self.final_estimator = final_estimator\n",
    "        self.cv = cv\n",
    "    \n",
    "    def fit(self, X, y):\n",
    "        pred_features = {}\n",
    "        #1層目のモデル学習\n",
    "        for model_name, model in self.estimators:\n",
    "            preds = []\n",
    "            new_y = []\n",
    "            \n",
    "            for train_index, val_index in self.cv.split(X):\n",
    "                X_train, X_val = X.iloc[train_index], X.iloc[val_index]\n",
    "                y_train, y_val = y.iloc[train_index], y.iloc[val_index]\n",
    "                model.fit(X_train, y_train)\n",
    "                pred = model.predict_proba(X_val)[:, 1].tolist()\n",
    "                preds += pred\n",
    "                new_y += y_val.tolist()\n",
    "            pred_features[model_name] = preds\n",
    "            # 再度全データで学習\n",
    "            model.fit(X, y) #全データで学習したモデルはself.estimatorsに格納される\n",
    "        \n",
    "        # 2層目のモデル学習\n",
    "        new_X = pd.DataFrame(pred_features)\n",
    "        self.final_estimator.fit(new_X, new_y)\n",
    "    \n",
    "    def predict_proba(self, X):\n",
    "        # 1層目のモデルで特徴量(予測値)生成\n",
    "        pred_features = {}\n",
    "        for model_name, model in self.estimators:\n",
    "            pred = model.predict_proba(X)[:,1]\n",
    "            pred_features[model_name] = pred\n",
    "        \n",
    "        new_X = pd.DataFrame(pred_features)\n",
    "        final_pred = self.final_estimator.predict_proba(new_X)\n",
    "        \n",
    "        return final_pred"
   ]
  },
  {
   "cell_type": "code",
   "execution_count": 56,
   "id": "6218d2ae-d3e0-431a-ae52-72004169d036",
   "metadata": {},
   "outputs": [],
   "source": [
    "df = sns.load_dataset('titanic')\n",
    "df = df.dropna()\n",
    "\n",
    "# 学習データ作成\n",
    "X = df.loc[:, (df.columns != 'survived') & (df.columns != 'alive')]\n",
    "y = df[\"survived\"]\n",
    "\n",
    "# 決定木モデルではワンホットエンコーディングではなく、ラベルエンコーディングでも問題ない\n",
    "# 理由：\n",
    "oe = OrdinalEncoder()\n",
    "oe.set_output(transform = 'pandas')\n",
    "X = oe.fit_transform(X)\n",
    "\n",
    "X_train, X_test, y_train, y_test = train_test_split(X, y, test_size = 0.3, random_state = 0)\n",
    "\n",
    "cv = KFold(n_splits = 5, shuffle = True, random_state = 0)\n",
    "final_estimator = LogisticRegression()\n",
    "stacking_cv = StackingClassifierCV(estimators = [('rf', RandomForestClassifier()), ('knn', KNeighborsClassifier())],\n",
    "                                  final_estimator = final_estimator,\n",
    "                                  cv = cv)\n",
    "stacking_cv.fit(X_train, y_train)\n",
    "y_pred_stacking_cv = stackin_cv.predict_proba(X_test)"
   ]
  },
  {
   "cell_type": "code",
   "execution_count": 57,
   "id": "1e8c5830-eb24-4660-89e5-9a72a0c34aab",
   "metadata": {},
   "outputs": [
    {
     "name": "stdout",
     "output_type": "stream",
     "text": [
      "stacking CV AUC: 0.8125\n"
     ]
    }
   ],
   "source": [
    "from sklearn.metrics import roc_auc_score\n",
    "print(f\"stacking CV AUC: {roc_auc_score(y_test, y_pred_stacking_cv[:, 1])}\")"
   ]
  },
  {
   "cell_type": "code",
   "execution_count": null,
   "id": "1482c749-94a1-48f0-ae67-3091355807e8",
   "metadata": {},
   "outputs": [],
   "source": []
  }
 ],
 "metadata": {
  "kernelspec": {
   "display_name": "Python 3 (ipykernel)",
   "language": "python",
   "name": "python3"
  },
  "language_info": {
   "codemirror_mode": {
    "name": "ipython",
    "version": 3
   },
   "file_extension": ".py",
   "mimetype": "text/x-python",
   "name": "python",
   "nbconvert_exporter": "python",
   "pygments_lexer": "ipython3",
   "version": "3.9.13"
  }
 },
 "nbformat": 4,
 "nbformat_minor": 5
}
