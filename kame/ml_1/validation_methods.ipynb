{
 "cells": [
  {
   "cell_type": "markdown",
   "id": "5e47ceb8-c78b-4af0-9f36-22f97095a37f",
   "metadata": {},
   "source": [
    "## hold out"
   ]
  },
  {
   "cell_type": "code",
   "execution_count": 16,
   "id": "b30a8d15-881a-4a85-9cf2-1e48a9ac81c9",
   "metadata": {},
   "outputs": [],
   "source": [
    "import seaborn as sns\n",
    "import numpy as np\n",
    "import pandas as pd\n",
    "from sklearn.model_selection import train_test_split\n",
    "df = sns.load_dataset('tips')"
   ]
  },
  {
   "cell_type": "code",
   "execution_count": 17,
   "id": "e3b16b43-ecc3-49bf-9a45-ac67d2161407",
   "metadata": {},
   "outputs": [],
   "source": [
    "y_col = 'tip'\n",
    "X = df.drop(columns = [y_col])\n",
    "# 標準化のために数値カラムを取得\n",
    "numeric_cols = X.select_dtypes(include = np.number).columns.to_list()\n",
    "X = pd.get_dummies(X, drop_first = True)\n",
    "y = df[y_col]\n",
    "X_train, X_test, y_train, y_test = train_test_split(X, y, test_size = 0.3, random_state = 0)"
   ]
  },
  {
   "cell_type": "code",
   "execution_count": 28,
   "id": "4a2f6da5-8299-40a6-a616-d1c10c25cb96",
   "metadata": {},
   "outputs": [],
   "source": [
    "# 標準化\n",
    "# 標準化はデータ分割後に行う\n",
    "from sklearn.preprocessing import StandardScaler\n",
    "scaler = StandardScaler()\n",
    "# 数値カラムのみ標準化\n",
    "X_train_scaled = X_train.copy()\n",
    "X_train_scaled[numeric_cols] = scaler.fit_transform(X_train[numeric_cols])\n",
    "X_test_scaled = X_test.copy()\n",
    "X_test_scaled[numeric_cols] = scaler.transform(X_test[numeric_cols])"
   ]
  },
  {
   "cell_type": "code",
   "execution_count": 31,
   "id": "07c56188-3338-4f35-ba96-43558c283fdc",
   "metadata": {},
   "outputs": [],
   "source": [
    "# 線形モデル学習\n",
    "from sklearn.linear_model import LinearRegression\n",
    "model = LinearRegression()\n",
    "model.fit(X_train_scaled, y_train)\n",
    "y_pred = model.predict(X_test_scaled)"
   ]
  },
  {
   "cell_type": "code",
   "execution_count": 36,
   "id": "af5fef2e-cf07-41ba-afe1-01fadc07626d",
   "metadata": {},
   "outputs": [
    {
     "data": {
      "text/plain": [
       "0.955080898861715"
      ]
     },
     "execution_count": 36,
     "metadata": {},
     "output_type": "execute_result"
    }
   ],
   "source": [
    "# モデルの評価 (MSE)\n",
    "from sklearn.metrics import mean_squared_error\n",
    "mean_squared_error(y_test, y_pred) # np.mean(np.square(y_test- y_pred))"
   ]
  },
  {
   "cell_type": "code",
   "execution_count": 33,
   "id": "49d9d492-73a1-447c-8f3d-b838d0359efc",
   "metadata": {},
   "outputs": [
    {
     "data": {
      "text/plain": [
       "64     2.64\n",
       "63     3.76\n",
       "55     3.51\n",
       "111    1.00\n",
       "225    2.50\n",
       "       ... \n",
       "90     3.00\n",
       "101    3.00\n",
       "75     1.25\n",
       "4      3.61\n",
       "109    4.00\n",
       "Name: tip, Length: 74, dtype: float64"
      ]
     },
     "execution_count": 33,
     "metadata": {},
     "output_type": "execute_result"
    }
   ],
   "source": [
    "y_test"
   ]
  },
  {
   "cell_type": "markdown",
   "id": "9e3f6472-5ff9-467d-a6d5-0370df595756",
   "metadata": {},
   "source": [
    "## LOOCV (Leave One Out Cross Validation)"
   ]
  },
  {
   "cell_type": "code",
   "execution_count": 38,
   "id": "ec0ffc6a-c498-45eb-90e2-cad239b52dfb",
   "metadata": {},
   "outputs": [],
   "source": [
    "from sklearn.model_selection import LeaveOneOut\n",
    "# データ準備\n",
    "X = df[\"total_bill\"].values.reshape(-1,1)\n",
    "y = df[\"tip\"]"
   ]
  },
  {
   "cell_type": "code",
   "execution_count": 39,
   "id": "f963ef87-9228-4cb8-9c05-ce7b6017a053",
   "metadata": {},
   "outputs": [],
   "source": [
    "loo = LeaveOneOut()"
   ]
  },
  {
   "cell_type": "code",
   "execution_count": 43,
   "id": "762151d3-4ffa-4946-817b-e7aa975f2cc7",
   "metadata": {},
   "outputs": [],
   "source": [
    "model = LinearRegression()\n",
    "mse_list = []\n",
    "for train_index, test_index in loo.split(X):\n",
    "    X_train, X_test = X[train_index], X[test_index]\n",
    "    y_train, y_test = y[train_index], y[test_index]\n",
    "    \n",
    "    # モデル学習\n",
    "    model.fit(X_train, y_train)\n",
    "    # テストデータの予測\n",
    "    y_pred = model.predict(X_test)\n",
    "    # モデル評価\n",
    "    mse = mean_squared_error(y_test, y_pred)\n",
    "    mse_list.append(mse)"
   ]
  },
  {
   "cell_type": "code",
   "execution_count": 45,
   "id": "565a973a-f60f-4a77-ac6b-577e4c97285f",
   "metadata": {},
   "outputs": [
    {
     "name": "stdout",
     "output_type": "stream",
     "text": [
      "MSE(LOOCV):1.0675673489857438\n",
      "std:2.0997944551776313\n"
     ]
    }
   ],
   "source": [
    "print(f\"MSE(LOOCV):{np.mean(mse_list)}\")\n",
    "print(f\"std:{np.std(mse_list)}\")"
   ]
  },
  {
   "cell_type": "code",
   "execution_count": 47,
   "id": "3284e788-a5e9-4465-b00c-924939da6291",
   "metadata": {},
   "outputs": [
    {
     "name": "stdout",
     "output_type": "stream",
     "text": [
      "MSE(LOOCV):1.0675673489857438\n",
      "std:2.0997944551776313\n"
     ]
    }
   ],
   "source": [
    "from sklearn.model_selection import cross_val_score\n",
    "cv = LeaveOneOut()\n",
    "scores = cross_val_score(model, X, y, cv = cv, scoring = 'neg_mean_squared_error')\n",
    "print(f\"MSE(LOOCV):{-np.mean(scores)}\")\n",
    "print(f\"std:{np.std(scores)}\")"
   ]
  },
  {
   "cell_type": "markdown",
   "id": "18c901ab-c6ec-4328-a373-24d9ce31d9dc",
   "metadata": {},
   "source": [
    "## k-Fold CV"
   ]
  },
  {
   "cell_type": "code",
   "execution_count": 72,
   "id": "230137d8-9e9e-471a-a504-51b956f6ba0e",
   "metadata": {},
   "outputs": [],
   "source": [
    "from sklearn.model_selection import KFold, RepeatedKFold\n",
    "k = 5\n",
    "n_repeats = 3\n",
    "# cv = KFold(n_splits = k, shuffle = True, random_state = 0)\n",
    "cv = RepeatedKFold(n_splits = k, n_repeats = n_repeats, random_state = 0)\n",
    "model = LinearRegression()\n",
    "mse_list = []\n",
    "for train_index, test_index in cv.split(X):\n",
    "    X_train, X_test = X[train_index], X[test_index]\n",
    "    y_train, y_test = y[train_index], y[test_index]\n",
    "    # 標準化をする場合はここでする\n",
    "    \n",
    "    # モデル学習\n",
    "    model.fit(X_train, y_train)\n",
    "    #テストデータ予測\n",
    "    y_pred = model.predict(X_test)\n",
    "    # モデル評価\n",
    "    mse = mean_squared_error(y_test, y_pred)\n",
    "    mse_list.append(mse)"
   ]
  },
  {
   "cell_type": "code",
   "execution_count": 73,
   "id": "cab9d65a-06f5-43c7-ab43-08a4f83d9a2d",
   "metadata": {},
   "outputs": [
    {
     "name": "stdout",
     "output_type": "stream",
     "text": [
      "MSE(5FoldCV):1.0746387233165984\n",
      "std:0.26517178540898434\n"
     ]
    }
   ],
   "source": [
    "print(f\"MSE({k}FoldCV):{np.mean(mse_list)}\")\n",
    "print(f\"std:{np.std(mse_list)}\")"
   ]
  },
  {
   "cell_type": "code",
   "execution_count": 74,
   "id": "9c2987af-52e8-4e7b-9b36-137ccfb4f421",
   "metadata": {},
   "outputs": [],
   "source": [
    "scores = cross_val_score(model, X, y, cv = cv, scoring = 'neg_mean_squared_error')"
   ]
  },
  {
   "cell_type": "code",
   "execution_count": 75,
   "id": "b5df6cb4-d8fd-406a-8307-d400b452be2d",
   "metadata": {},
   "outputs": [
    {
     "name": "stdout",
     "output_type": "stream",
     "text": [
      "MSE(5FoldCV):1.0746387233165984\n",
      "std:0.26517178540898434\n"
     ]
    }
   ],
   "source": [
    "print(f\"MSE({k}FoldCV):{-np.mean(scores)}\")\n",
    "print(f\"std:{np.std(scores)}\")"
   ]
  },
  {
   "cell_type": "code",
   "execution_count": 76,
   "id": "1feed784-e5d2-47ed-9c7b-b77c35077805",
   "metadata": {},
   "outputs": [
    {
     "data": {
      "text/plain": [
       "array([-0.82130906, -1.07458421, -1.08801239, -1.33238677, -1.084763  ,\n",
       "       -1.15878391, -1.6042084 , -1.03070862, -0.71202907, -0.84729854,\n",
       "       -0.88561033, -1.52485216, -0.6332659 , -1.2003542 , -1.12141427])"
      ]
     },
     "execution_count": 76,
     "metadata": {},
     "output_type": "execute_result"
    }
   ],
   "source": [
    "scores"
   ]
  },
  {
   "cell_type": "markdown",
   "id": "c05a165a-8204-4ca6-8d01-d7d8ed3d36e4",
   "metadata": {},
   "source": [
    "## Pipeline"
   ]
  },
  {
   "cell_type": "code",
   "execution_count": 77,
   "id": "2b660870-46a9-4fc1-b503-509960403ee9",
   "metadata": {},
   "outputs": [],
   "source": [
    "from sklearn.pipeline import Pipeline\n",
    "pipeline = Pipeline(steps = [('scaler', StandardScaler()), ('model', LinearRegression())])"
   ]
  },
  {
   "cell_type": "code",
   "execution_count": 78,
   "id": "439a6515-559a-4f4d-86d4-64849451edb8",
   "metadata": {},
   "outputs": [],
   "source": [
    "cv = KFold(n_splits = 5, shuffle = True, random_state = 0)\n",
    "scores = cross_val_score(pipeline, X, y, cv = cv, scoring = 'neg_mean_squared_error')"
   ]
  },
  {
   "cell_type": "code",
   "execution_count": 79,
   "id": "c68b586f-e90d-4422-b3f4-3704393ac809",
   "metadata": {},
   "outputs": [
    {
     "data": {
      "text/plain": [
       "array([-0.82130906, -1.07458421, -1.08801239, -1.33238677, -1.084763  ])"
      ]
     },
     "execution_count": 79,
     "metadata": {},
     "output_type": "execute_result"
    }
   ],
   "source": [
    "scores"
   ]
  },
  {
   "cell_type": "code",
   "execution_count": 83,
   "id": "25fac4bf-9a51-461e-9095-37c0f35a5d04",
   "metadata": {},
   "outputs": [],
   "source": [
    "## Pipelineなし\n",
    "# 標準化＋線形回帰\n",
    "X_train, X_test, y_train, y_test = train_test_split(X, y, test_size = 0.3, random_state = 0)\n",
    "model = LinearRegression()\n",
    "scaler = StandardScaler()\n",
    "X_train_scaled = scaler.fit_transform(X_train)\n",
    "X_test_scaled = scaler.transform(X_test)\n",
    "model.fit(X_train_scaled, y_train)\n",
    "y_pred = model.predict(X_test_scaled)"
   ]
  },
  {
   "cell_type": "code",
   "execution_count": 87,
   "id": "8d965865-f350-4406-aefa-74b3934bd484",
   "metadata": {},
   "outputs": [
    {
     "data": {
      "text/plain": [
       "array([2.71486884, 2.78639251, 2.90900452, 1.65836207, 2.57999564,\n",
       "       1.50509707, 2.74858715, 3.30136293, 2.77208778, 4.45800284,\n",
       "       3.50060744, 3.49345507, 2.35520697, 2.24587793, 2.28879213,\n",
       "       4.02375199, 1.77075641, 2.3480546 , 2.83645908, 3.2778623 ,\n",
       "       3.98901192, 3.05511716, 2.55240794, 2.45431834, 2.29798803,\n",
       "       2.59327861, 2.16004953, 3.96244599, 3.50162921, 2.5289073 ,\n",
       "       2.42264357, 2.19274606, 2.49314547, 1.99963215, 2.78639251,\n",
       "       2.28572683, 2.64743224, 1.97306622, 5.85577969, 2.55036441,\n",
       "       1.79425705, 2.18763723, 2.52073317, 3.96755482, 2.22135553,\n",
       "       2.65151931, 2.78128368, 3.12255376, 2.66173698, 3.66409011,\n",
       "       4.2567148 , 2.74552185, 3.01118119, 5.83943142, 1.89847725,\n",
       "       2.14676656, 3.97572896, 3.03161652, 2.37462053, 2.21113786,\n",
       "       3.70496078, 2.53299437, 3.07963956, 3.47199797, 3.99718606,\n",
       "       2.5043849 , 2.60043097, 4.2720413 , 1.97306622, 3.87763935,\n",
       "       2.4890584 , 1.99145802, 3.43010554, 2.37972937])"
      ]
     },
     "execution_count": 87,
     "metadata": {},
     "output_type": "execute_result"
    }
   ],
   "source": [
    "y_pred"
   ]
  },
  {
   "cell_type": "code",
   "execution_count": 85,
   "id": "f6d90f72-4339-44d3-8124-11478f710413",
   "metadata": {},
   "outputs": [],
   "source": [
    "## Pipelineあり\n",
    "X_train, X_test, y_train, y_test = train_test_split(X, y, test_size = 0.3, random_state = 0)\n",
    "pipeline = Pipeline(steps = [('scaler', StandardScaler()), ('model', LinearRegression())])\n",
    "pipeline.fit(X_train, y_train)\n",
    "y_pred_p = pipeline.predict(X_test)"
   ]
  },
  {
   "cell_type": "code",
   "execution_count": 86,
   "id": "47e89907-d283-4238-8fa0-d6a990b14036",
   "metadata": {},
   "outputs": [
    {
     "data": {
      "text/plain": [
       "array([2.71486884, 2.78639251, 2.90900452, 1.65836207, 2.57999564,\n",
       "       1.50509707, 2.74858715, 3.30136293, 2.77208778, 4.45800284,\n",
       "       3.50060744, 3.49345507, 2.35520697, 2.24587793, 2.28879213,\n",
       "       4.02375199, 1.77075641, 2.3480546 , 2.83645908, 3.2778623 ,\n",
       "       3.98901192, 3.05511716, 2.55240794, 2.45431834, 2.29798803,\n",
       "       2.59327861, 2.16004953, 3.96244599, 3.50162921, 2.5289073 ,\n",
       "       2.42264357, 2.19274606, 2.49314547, 1.99963215, 2.78639251,\n",
       "       2.28572683, 2.64743224, 1.97306622, 5.85577969, 2.55036441,\n",
       "       1.79425705, 2.18763723, 2.52073317, 3.96755482, 2.22135553,\n",
       "       2.65151931, 2.78128368, 3.12255376, 2.66173698, 3.66409011,\n",
       "       4.2567148 , 2.74552185, 3.01118119, 5.83943142, 1.89847725,\n",
       "       2.14676656, 3.97572896, 3.03161652, 2.37462053, 2.21113786,\n",
       "       3.70496078, 2.53299437, 3.07963956, 3.47199797, 3.99718606,\n",
       "       2.5043849 , 2.60043097, 4.2720413 , 1.97306622, 3.87763935,\n",
       "       2.4890584 , 1.99145802, 3.43010554, 2.37972937])"
      ]
     },
     "execution_count": 86,
     "metadata": {},
     "output_type": "execute_result"
    }
   ],
   "source": [
    "y_pred_p"
   ]
  },
  {
   "cell_type": "code",
   "execution_count": null,
   "id": "afc87358-89b6-4d7a-95b3-6c11c032957b",
   "metadata": {},
   "outputs": [],
   "source": []
  }
 ],
 "metadata": {
  "kernelspec": {
   "display_name": "Python 3 (ipykernel)",
   "language": "python",
   "name": "python3"
  },
  "language_info": {
   "codemirror_mode": {
    "name": "ipython",
    "version": 3
   },
   "file_extension": ".py",
   "mimetype": "text/x-python",
   "name": "python",
   "nbconvert_exporter": "python",
   "pygments_lexer": "ipython3",
   "version": "3.9.13"
  }
 },
 "nbformat": 4,
 "nbformat_minor": 5
}
