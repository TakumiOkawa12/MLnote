{
 "cells": [
  {
   "cell_type": "markdown",
   "id": "84cf8a2e-cf19-4d5f-a022-feaee5205d3a",
   "metadata": {},
   "source": [
    "# 分類器の精度指標"
   ]
  },
  {
   "cell_type": "markdown",
   "id": "663dae51-971a-4b55-926b-fdc1ecf7552d",
   "metadata": {},
   "source": [
    "## Confusion Matrix"
   ]
  },
  {
   "cell_type": "code",
   "execution_count": 1,
   "id": "e1dc5057-a77b-4e0d-ab59-c91fe0ac563e",
   "metadata": {},
   "outputs": [],
   "source": [
    "import seaborn as sns\n",
    "from sklearn.model_selection import train_test_split\n",
    "from sklearn.linear_model import LogisticRegression\n",
    "from sklearn.metrics import confusion_matrix, ConfusionMatrixDisplay"
   ]
  },
  {
   "cell_type": "code",
   "execution_count": 2,
   "id": "a45efeb1-ef8a-44fb-8c33-bba596b6c389",
   "metadata": {},
   "outputs": [
    {
     "data": {
      "text/html": [
       "<div>\n",
       "<style scoped>\n",
       "    .dataframe tbody tr th:only-of-type {\n",
       "        vertical-align: middle;\n",
       "    }\n",
       "\n",
       "    .dataframe tbody tr th {\n",
       "        vertical-align: top;\n",
       "    }\n",
       "\n",
       "    .dataframe thead th {\n",
       "        text-align: right;\n",
       "    }\n",
       "</style>\n",
       "<table border=\"1\" class=\"dataframe\">\n",
       "  <thead>\n",
       "    <tr style=\"text-align: right;\">\n",
       "      <th></th>\n",
       "      <th>sepal_length</th>\n",
       "      <th>sepal_width</th>\n",
       "      <th>petal_length</th>\n",
       "      <th>petal_width</th>\n",
       "      <th>species</th>\n",
       "    </tr>\n",
       "  </thead>\n",
       "  <tbody>\n",
       "    <tr>\n",
       "      <th>0</th>\n",
       "      <td>5.1</td>\n",
       "      <td>3.5</td>\n",
       "      <td>1.4</td>\n",
       "      <td>0.2</td>\n",
       "      <td>setosa</td>\n",
       "    </tr>\n",
       "    <tr>\n",
       "      <th>1</th>\n",
       "      <td>4.9</td>\n",
       "      <td>3.0</td>\n",
       "      <td>1.4</td>\n",
       "      <td>0.2</td>\n",
       "      <td>setosa</td>\n",
       "    </tr>\n",
       "    <tr>\n",
       "      <th>2</th>\n",
       "      <td>4.7</td>\n",
       "      <td>3.2</td>\n",
       "      <td>1.3</td>\n",
       "      <td>0.2</td>\n",
       "      <td>setosa</td>\n",
       "    </tr>\n",
       "    <tr>\n",
       "      <th>3</th>\n",
       "      <td>4.6</td>\n",
       "      <td>3.1</td>\n",
       "      <td>1.5</td>\n",
       "      <td>0.2</td>\n",
       "      <td>setosa</td>\n",
       "    </tr>\n",
       "    <tr>\n",
       "      <th>4</th>\n",
       "      <td>5.0</td>\n",
       "      <td>3.6</td>\n",
       "      <td>1.4</td>\n",
       "      <td>0.2</td>\n",
       "      <td>setosa</td>\n",
       "    </tr>\n",
       "  </tbody>\n",
       "</table>\n",
       "</div>"
      ],
      "text/plain": [
       "   sepal_length  sepal_width  petal_length  petal_width species\n",
       "0           5.1          3.5           1.4          0.2  setosa\n",
       "1           4.9          3.0           1.4          0.2  setosa\n",
       "2           4.7          3.2           1.3          0.2  setosa\n",
       "3           4.6          3.1           1.5          0.2  setosa\n",
       "4           5.0          3.6           1.4          0.2  setosa"
      ]
     },
     "execution_count": 2,
     "metadata": {},
     "output_type": "execute_result"
    }
   ],
   "source": [
    "df = sns.load_dataset('iris')\n",
    "df.head()"
   ]
  },
  {
   "cell_type": "code",
   "execution_count": 3,
   "id": "0b05cdf0-c2a2-4c8f-9c23-1064b0cfe39a",
   "metadata": {},
   "outputs": [],
   "source": [
    "y_col = 'species'\n",
    "X = df.drop(columns = [y_col])\n",
    "y = df[y_col]\n",
    "# hold-out\n",
    "X_train, X_test, y_train, y_test = train_test_split(X, y, test_size = 0.3, random_state = 0)\n",
    "# モデル学習\n",
    "model = LogisticRegression(penalty = 'none')\n",
    "model.fit(X_train, y_train)\n",
    "# 予測\n",
    "y_pred = model.predict(X_test)"
   ]
  },
  {
   "cell_type": "code",
   "execution_count": 4,
   "id": "0fd57090-5eae-40ce-962a-15ed02d352f3",
   "metadata": {},
   "outputs": [
    {
     "data": {
      "text/plain": [
       "array(['virginica', 'versicolor', 'setosa', 'virginica', 'setosa',\n",
       "       'virginica', 'setosa', 'versicolor', 'versicolor', 'versicolor',\n",
       "       'virginica', 'versicolor', 'versicolor', 'versicolor',\n",
       "       'versicolor', 'setosa', 'versicolor', 'versicolor', 'setosa',\n",
       "       'setosa', 'virginica', 'versicolor', 'setosa', 'setosa',\n",
       "       'versicolor', 'setosa', 'setosa', 'versicolor', 'versicolor',\n",
       "       'setosa', 'virginica', 'versicolor', 'setosa', 'virginica',\n",
       "       'virginica', 'versicolor', 'setosa', 'virginica', 'versicolor',\n",
       "       'versicolor', 'virginica', 'setosa', 'virginica', 'setosa',\n",
       "       'setosa'], dtype=object)"
      ]
     },
     "execution_count": 4,
     "metadata": {},
     "output_type": "execute_result"
    }
   ],
   "source": [
    "y_pred"
   ]
  },
  {
   "cell_type": "code",
   "execution_count": 5,
   "id": "0f110b8f-67b2-423d-a608-6a281b30bb76",
   "metadata": {},
   "outputs": [
    {
     "data": {
      "text/plain": [
       "<sklearn.metrics._plot.confusion_matrix.ConfusionMatrixDisplay at 0x4060e60700>"
      ]
     },
     "execution_count": 5,
     "metadata": {},
     "output_type": "execute_result"
    },
    {
     "data": {
      "image/png": "[encoded data removed]",
      "text/plain": [
       "<Figure size 432x288 with 2 Axes>"
      ]
     },
     "metadata": {
      "needs_background": "light"
     },
     "output_type": "display_data"
    }
   ],
   "source": [
    "cm = confusion_matrix(y_test, y_pred)\n",
    "disp = ConfusionMatrixDisplay(confusion_matrix = cm, display_labels = model.classes_)\n",
    "disp.plot()"
   ]
  },
  {
   "cell_type": "code",
   "execution_count": 6,
   "id": "cec93e7f-6b0b-4cfe-b9a5-56172f9b5436",
   "metadata": {},
   "outputs": [
    {
     "data": {
      "text/plain": [
       "array(['setosa', 'versicolor', 'virginica'], dtype=object)"
      ]
     },
     "execution_count": 6,
     "metadata": {},
     "output_type": "execute_result"
    }
   ],
   "source": [
    "model.classes_"
   ]
  },
  {
   "cell_type": "markdown",
   "id": "3fd97f6b-fec9-4a9f-9386-e7e4d0ae9805",
   "metadata": {},
   "source": [
    "## Accuracy"
   ]
  },
  {
   "cell_type": "code",
   "execution_count": 7,
   "id": "d95b4709-adf5-418d-9d9b-8f777dc4e720",
   "metadata": {},
   "outputs": [],
   "source": [
    "# サンプルデータ\n",
    "y_true = [1,1,0,1,0,0,1,1]\n",
    "y_pred = [1,1,1,0,0,1,0,1]"
   ]
  },
  {
   "cell_type": "code",
   "execution_count": 8,
   "id": "acb063e7-af46-4182-9605-613e2e0ddfe8",
   "metadata": {},
   "outputs": [
    {
     "data": {
      "text/plain": [
       "0.5"
      ]
     },
     "execution_count": 8,
     "metadata": {},
     "output_type": "execute_result"
    }
   ],
   "source": [
    "from sklearn.metrics import accuracy_score\n",
    "accuracy_score(y_true, y_pred)"
   ]
  },
  {
   "cell_type": "markdown",
   "id": "ce4afc57-dc35-4d18-acd5-b2e895ddaf51",
   "metadata": {},
   "source": [
    "## Precision"
   ]
  },
  {
   "cell_type": "code",
   "execution_count": 9,
   "id": "bf77b33e-6862-470a-8ff6-e5935a07438d",
   "metadata": {},
   "outputs": [
    {
     "data": {
      "text/plain": [
       "0.6"
      ]
     },
     "execution_count": 9,
     "metadata": {},
     "output_type": "execute_result"
    }
   ],
   "source": [
    "from sklearn.metrics import precision_score\n",
    "precision_score(y_true, y_pred)"
   ]
  },
  {
   "cell_type": "markdown",
   "id": "5023e8ee-b488-49c0-acac-6505b0d0e9d9",
   "metadata": {},
   "source": [
    "## Recall"
   ]
  },
  {
   "cell_type": "code",
   "execution_count": 10,
   "id": "1d909d75-29cb-4151-b8ec-fb861397ca3d",
   "metadata": {},
   "outputs": [
    {
     "data": {
      "text/plain": [
       "0.6"
      ]
     },
     "execution_count": 10,
     "metadata": {},
     "output_type": "execute_result"
    }
   ],
   "source": [
    "from sklearn.metrics import recall_score\n",
    "recall_score(y_true, y_pred)"
   ]
  },
  {
   "cell_type": "markdown",
   "id": "d50821e0-a115-4371-be9c-7a590711ad18",
   "metadata": {},
   "source": [
    "## Specificity"
   ]
  },
  {
   "cell_type": "markdown",
   "id": "af3ec1ab-9261-4c98-b492-c27a9bb33c94",
   "metadata": {},
   "source": [
    "- Specificityはsklearnで対応していない\n",
    "- 0と1を逆転させることで評価する"
   ]
  },
  {
   "cell_type": "code",
   "execution_count": 11,
   "id": "f6d5e57c-6937-418a-bf74-2ad52d0d3741",
   "metadata": {},
   "outputs": [
    {
     "data": {
      "text/plain": [
       "array([False, False,  True, False,  True,  True, False, False])"
      ]
     },
     "execution_count": 11,
     "metadata": {},
     "output_type": "execute_result"
    }
   ],
   "source": [
    "import numpy as np\n",
    "np.array(y_true) != 1"
   ]
  },
  {
   "cell_type": "code",
   "execution_count": 12,
   "id": "528eab19-8578-42a8-bc65-29f789a068f6",
   "metadata": {},
   "outputs": [
    {
     "data": {
      "text/plain": [
       "0.3333333333333333"
      ]
     },
     "execution_count": 12,
     "metadata": {},
     "output_type": "execute_result"
    }
   ],
   "source": [
    "recall_score(np.array(y_true) != 1, np.array(y_pred) != 1)"
   ]
  },
  {
   "cell_type": "markdown",
   "id": "e77e93cc-1ea4-444a-a452-ca9575558ac3",
   "metadata": {},
   "source": [
    "## 多クラス評価におけるPrecision"
   ]
  },
  {
   "cell_type": "code",
   "execution_count": 13,
   "id": "28b5397c-7041-44df-a8a8-f55400d89375",
   "metadata": {},
   "outputs": [],
   "source": [
    "y_col = 'species'\n",
    "X = df.drop(columns = [y_col])\n",
    "y = df[y_col]\n",
    "# hold-out\n",
    "X_train, X_test, y_train, y_test = train_test_split(X, y, test_size = 0.3, random_state = 0)\n",
    "# モデル学習\n",
    "model = LogisticRegression(penalty = 'none')\n",
    "model.fit(X_train, y_train)\n",
    "# 予測\n",
    "y_pred = model.predict(X_test)"
   ]
  },
  {
   "cell_type": "code",
   "execution_count": 14,
   "id": "985f5a79-8950-4c84-bf1b-3b1c71b49b56",
   "metadata": {},
   "outputs": [
    {
     "name": "stdout",
     "output_type": "stream",
     "text": [
      "[1.         0.94444444 0.90909091]\n",
      "0.9511784511784511\n",
      "0.9555555555555556\n",
      "0.9555555555555556\n"
     ]
    }
   ],
   "source": [
    "# average = None (各クラスのprecision)\n",
    "print(precision_score(y_test, y_pred, average = None))\n",
    "# average = macro\n",
    "print(precision_score(y_test, y_pred , average = 'macro'))\n",
    "# average = micro precisionのmicroとaccuracyは同じ\n",
    "print(precision_score(y_test, y_pred , average = 'micro'))\n",
    "print(accuracy_score(y_test, y_pred))"
   ]
  },
  {
   "cell_type": "code",
   "execution_count": 15,
   "id": "f06a7e8d-b245-4db7-b660-f79f2edee76d",
   "metadata": {},
   "outputs": [
    {
     "data": {
      "text/plain": [
       "array(['setosa', 'versicolor', 'virginica'], dtype=object)"
      ]
     },
     "execution_count": 15,
     "metadata": {},
     "output_type": "execute_result"
    }
   ],
   "source": [
    "model.classes_"
   ]
  },
  {
   "cell_type": "markdown",
   "id": "84a61a0f-cae9-4566-bff0-98bc15de8b93",
   "metadata": {},
   "source": [
    "## Precision Recall Curve"
   ]
  },
  {
   "cell_type": "code",
   "execution_count": 16,
   "id": "8912d95e-020d-416a-9e2f-afea058309d8",
   "metadata": {},
   "outputs": [
    {
     "data": {
      "text/plain": [
       "array([[0.49520585, 0.50479415],\n",
       "       [0.28366802, 0.71633198],\n",
       "       [0.99732492, 0.00267508],\n",
       "       [0.06897633, 0.93102367],\n",
       "       [0.47851468, 0.52148532],\n",
       "       [0.99002332, 0.00997668],\n",
       "       [0.66307864, 0.33692136],\n",
       "       [0.7927538 , 0.2072462 ],\n",
       "       [0.3021324 , 0.6978676 ],\n",
       "       [0.3021324 , 0.6978676 ]])"
      ]
     },
     "execution_count": 16,
     "metadata": {},
     "output_type": "execute_result"
    }
   ],
   "source": [
    "import pandas as pd\n",
    "df = pd.read_csv('heart_preprocessed.csv')\n",
    "y_col = 'target'\n",
    "X = df.drop(columns=[y_col])\n",
    "y = df[y_col]\n",
    "X_train, X_test, y_train, y_test = train_test_split(X, y, test_size=0.3, random_state=0)\n",
    "#　モデル構築\n",
    "model = LogisticRegression(solver='liblinear')\n",
    "model.fit(X_train, y_train)\n",
    "y_pred_proba = model.predict_proba(X_test)\n",
    "y_pred_proba[:10]"
   ]
  },
  {
   "cell_type": "code",
   "execution_count": 17,
   "id": "7beefd4d-44c7-49d6-a321-463efa6db7ca",
   "metadata": {},
   "outputs": [],
   "source": [
    "from sklearn.metrics import precision_recall_curve\n",
    "precision, recall, thresholds = precision_recall_curve(y_test, y_pred_proba[:, 1])"
   ]
  },
  {
   "cell_type": "code",
   "execution_count": 18,
   "id": "006a0511-d60f-47c4-89f8-d94d963aca21",
   "metadata": {},
   "outputs": [
    {
     "data": {
      "image/png": "[encoded data removed]",
      "text/plain": [
       "<Figure size 432x288 with 1 Axes>"
      ]
     },
     "metadata": {
      "needs_background": "light"
     },
     "output_type": "display_data"
    }
   ],
   "source": [
    "import matplotlib.pyplot as plt\n",
    "plt.plot(recall, precision)\n",
    "plt.xlabel('recall')\n",
    "plt.ylabel('precision')\n",
    "plt.title('Precision Recall Curve')\n",
    "plt.show()"
   ]
  },
  {
   "cell_type": "code",
   "execution_count": 19,
   "id": "72d5e4f8-bd3e-436d-9527-4da75ff3c63c",
   "metadata": {},
   "outputs": [
    {
     "name": "stdout",
     "output_type": "stream",
     "text": [
      "0.0\n",
      "1.0\n",
      "210\n",
      "210\n",
      "209\n"
     ]
    }
   ],
   "source": [
    "# recallとprecisionの最後の要素はそれぞれ0, 1で，それに対応するthresholdsはない\n",
    "print(recall[-1])\n",
    "print(precision[-1])\n",
    "print(len(recall))\n",
    "print(len(precision))\n",
    "print(len(thresholds))"
   ]
  },
  {
   "cell_type": "markdown",
   "id": "81780f1c-97e2-4033-b492-83b0248bd737",
   "metadata": {},
   "source": [
    "## F値"
   ]
  },
  {
   "cell_type": "code",
   "execution_count": 20,
   "id": "27f44177-08f9-42bd-b2f5-7719cba867e3",
   "metadata": {},
   "outputs": [
    {
     "name": "stdout",
     "output_type": "stream",
     "text": [
      "0.4444444444444445\n",
      "0.5\n",
      "0.4\n"
     ]
    }
   ],
   "source": [
    "from sklearn.metrics import f1_score, recall_score, precision_score\n",
    "y_true = [1, 0, 0, 1, 0, 0, 1, 1]\n",
    "y_pred = [1, 1, 1, 0, 0, 1, 0, 1]\n",
    "# F1\n",
    "print(f1_score(y_true, y_pred))\n",
    "# recall\n",
    "print(recall_score(y_true, y_pred))\n",
    "# precision\n",
    "print(precision_score(y_true, y_pred))"
   ]
  },
  {
   "cell_type": "code",
   "execution_count": 21,
   "id": "3a725314-f883-426d-9ca0-7c154a221428",
   "metadata": {},
   "outputs": [
    {
     "data": {
      "text/plain": [
       "0.4444444444444444"
      ]
     },
     "execution_count": 21,
     "metadata": {},
     "output_type": "execute_result"
    }
   ],
   "source": [
    "# 調和平均ver\n",
    "from scipy.stats import hmean\n",
    "hmean([recall_score(y_true, y_pred), precision_score(y_true, y_pred)])"
   ]
  },
  {
   "cell_type": "markdown",
   "id": "2ce3eb7d-f494-43e9-a350-02cbfa00d03c",
   "metadata": {},
   "source": [
    "## Threshold vs Precision, Recall, Fscore"
   ]
  },
  {
   "cell_type": "code",
   "execution_count": 22,
   "id": "7b1985bc-ec33-4664-b58a-cbb5ce98ec1b",
   "metadata": {},
   "outputs": [],
   "source": [
    "# それぞれのprecisionとrecallにおけるF値(調和平均)を計算\n",
    "f1_scores = [hmean([p, r]) for p, r in zip(precision, recall)]"
   ]
  },
  {
   "cell_type": "code",
   "execution_count": 23,
   "id": "333ad808-dc2c-4284-b9eb-07c851afc63f",
   "metadata": {},
   "outputs": [
    {
     "name": "stdout",
     "output_type": "stream",
     "text": [
      "89th threshold(=0.44) is the highest f1 score = 0.86\n"
     ]
    },
    {
     "data": {
      "image/png": "[encoded data removed]",
      "text/plain": [
       "<Figure size 432x288 with 1 Axes>"
      ]
     },
     "metadata": {
      "needs_background": "light"
     },
     "output_type": "display_data"
    }
   ],
   "source": [
    "plt.plot(thresholds, f1_scores[:-1], label='f1 score')\n",
    "plt.plot(thresholds, precision[:-1], label='precision')\n",
    "plt.plot(thresholds, recall[:-1], label='recall')\n",
    "plt.xlabel('threshlold')\n",
    "plt.legend()\n",
    "print(f'{np.argmax(f1_scores)}th threshold(={thresholds[np.argmax(f1_scores)]:.2f}) is the highest f1 score = {np.max(f1_scores):.2f}')\n"
   ]
  },
  {
   "cell_type": "markdown",
   "id": "7875ca2e-7ef7-40d8-9b21-08f47c758a0f",
   "metadata": {},
   "source": [
    "## ROC"
   ]
  },
  {
   "cell_type": "code",
   "execution_count": 24,
   "id": "e40efea5-d80b-46f6-8085-bac5a5ec1fa8",
   "metadata": {},
   "outputs": [
    {
     "data": {
      "image/png": "[encoded data removed]",
      "text/plain": [
       "<Figure size 432x288 with 1 Axes>"
      ]
     },
     "metadata": {
      "needs_background": "light"
     },
     "output_type": "display_data"
    }
   ],
   "source": [
    "from sklearn.metrics import roc_curve\n",
    "fpr, tpr, thresholds = roc_curve(y_test, y_pred_proba[:, 1])\n",
    "# 描画\n",
    "plt.plot(fpr, tpr)\n",
    "plt.xlabel('1-specificity(FPR)')\n",
    "plt.ylabel('sensitivity(TPR)')\n",
    "plt.title('ROC Curve')\n",
    "plt.show()"
   ]
  },
  {
   "cell_type": "markdown",
   "id": "a64b2e01-1279-4f0b-9cbe-3c658579e925",
   "metadata": {},
   "source": [
    "## AUC"
   ]
  },
  {
   "cell_type": "code",
   "execution_count": 25,
   "id": "aaa817fe-a4b8-45a7-9347-a3050a9b8137",
   "metadata": {},
   "outputs": [
    {
     "data": {
      "text/plain": [
       "0.919542785981142"
      ]
     },
     "execution_count": 25,
     "metadata": {},
     "output_type": "execute_result"
    }
   ],
   "source": [
    "from sklearn.metrics import auc\n",
    "auc(fpr, tpr)"
   ]
  },
  {
   "cell_type": "code",
   "execution_count": null,
   "id": "7bfcd56b-4e47-4067-b1c2-d97c2f90e5d7",
   "metadata": {},
   "outputs": [],
   "source": []
  }
 ],
 "metadata": {
  "kernelspec": {
   "display_name": "Python 3 (ipykernel)",
   "language": "python",
   "name": "python3"
  },
  "language_info": {
   "codemirror_mode": {
    "name": "ipython",
    "version": 3
   },
   "file_extension": ".py",
   "mimetype": "text/x-python",
   "name": "python",
   "nbconvert_exporter": "python",
   "pygments_lexer": "ipython3",
   "version": "3.9.12"
  }
 },
 "nbformat": 4,
 "nbformat_minor": 5
}
